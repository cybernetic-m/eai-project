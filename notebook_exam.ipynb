{
  "cells": [
    {
      "cell_type": "markdown",
      "metadata": {
        "id": "l3O4mXmBol0t"
      },
      "source": [
        "# IMPORT"
      ]
    },
    {
      "cell_type": "code",
      "execution_count": 1,
      "metadata": {
        "id": "9gQw18CXol0v"
      },
      "outputs": [],
      "source": [
        "# Model\n",
        "import torch\n",
        "import torch.nn as nn\n",
        "from torch.utils.data import Dataset, DataLoader\n",
        "from torch import optim\n",
        "\n",
        "# Dataset\n",
        "import pandas as pd\n",
        "import numpy as np\n",
        "import matplotlib.pyplot as plt\n",
        "import zipfile\n",
        "import gdown\n",
        "#from datasets import Dataset, DatasetDict\n",
        "\n",
        "import os\n",
        "import io\n",
        "import traceback\n",
        "from datetime import datetime\n",
        "\n",
        "import json\n",
        "\n",
        "# Our file\n",
        "from training.train import train\n",
        "\n",
        "try:\n",
        "    import google.colab\n",
        "    colab = True\n",
        "except:\n",
        "    colab = False\n",
        "    \n",
        "pd.set_option('display.max_columns', None)\n"
      ]
    },
    {
      "cell_type": "markdown",
      "metadata": {},
      "source": [
        "**Reproducibility and Device Setting**"
      ]
    },
    {
      "cell_type": "code",
      "execution_count": 2,
      "metadata": {},
      "outputs": [],
      "source": [
        "# Set a seed for reproducibility purposes\n",
        "seed = 46\n",
        "torch.manual_seed(seed)\n",
        "torch.backends.cudnn.deterministic = True\n",
        "torch.backends.cudnn.benchmark = False\n",
        "np.random.seed(seed)\n",
        "#random.seed(seed)\n",
        "\n",
        "# Set the device (cuda for Nvidia GPUs, mps for M1, M2 .. Apple Silicon)\n",
        "if torch.cuda.is_available():\n",
        "    device = \"cuda\"\n",
        "elif torch.backends.mps.is_available():\n",
        "    device = \"mps\"\n",
        "else:\n",
        "    device = \"cpu\""
      ]
    },
    {
      "cell_type": "code",
      "execution_count": 3,
      "metadata": {
        "id": "Iw_mJb-XnY-f"
      },
      "outputs": [],
      "source": [
        "def normalize_columns(df: pd.DataFrame, columns: list) -> pd.DataFrame:\n",
        "    \"\"\"\n",
        "    Normalizes the specified columns in the DataFrame between 0 and 1.\n",
        "\n",
        "    Parameters:\n",
        "    df (pd.DataFrame): The input DataFrame containing the data.\n",
        "    columns (list): A list of column names to normalize.\n",
        "\n",
        "    Returns:\n",
        "    pd.DataFrame: A new DataFrame with the specified columns normalized.\n",
        "    \"\"\"\n",
        "    # Make a copy of the DataFrame to avoid modifying the original\n",
        "    df_copy = df.copy()\n",
        "\n",
        "    for column in columns:\n",
        "        if column in df_copy.columns:\n",
        "            min_val = df_copy[column].min()\n",
        "            max_val = df_copy[column].max()\n",
        "\n",
        "            # Avoid division by zero if the column has a constant value\n",
        "            if max_val != min_val:\n",
        "                df_copy[column] = (df_copy[column] - min_val) / (max_val - min_val)\n",
        "            else:\n",
        "                # If the column has constant values, normalize to 0 (or 1, depends on the case)\n",
        "                df_copy[column] = 0\n",
        "        else:\n",
        "            print(f\"Warning: Column '{column}' not found in DataFrame.\")\n",
        "\n",
        "    return df_copy\n",
        "\n",
        "\n",
        "def merge_on_closest_time(df1, df2, time_col='time'):\n",
        "    # Ensure the 'time' columns are datetime objects\n",
        "    df1[time_col] = pd.to_datetime(df1[time_col])\n",
        "    df2[time_col] = pd.to_datetime(df2[time_col])\n",
        "\n",
        "    # Sort both dataframes by time (if not already sorted)\n",
        "    df1 = df1.sort_values(by=time_col).reset_index(drop=True)\n",
        "    df2 = df2.sort_values(by=time_col).reset_index(drop=True)\n",
        "\n",
        "    # Create an empty list to hold the merged rows\n",
        "    merged_rows = []\n",
        "\n",
        "    # Initialize pointers for both DataFrames\n",
        "    i, j = 0, 0\n",
        "\n",
        "    # Iterate through each row in df1 and find the closest time in df2\n",
        "    while i < len(df1):\n",
        "        row1 = df1.iloc[i]\n",
        "\n",
        "        # Move pointer j to the closest time in df2 (either before or after row1)\n",
        "        while j < len(df2) - 1 and abs(df2.iloc[j + 1][time_col] - row1[time_col]) < abs(df2.iloc[j][time_col] - row1[time_col]):\n",
        "            j += 1\n",
        "\n",
        "        # Get the closest row from df2\n",
        "        closest_row = df2.iloc[j]\n",
        "\n",
        "        # Combine the row from df1 with the closest row from df2\n",
        "        merged_row = pd.concat([row1, closest_row], axis=0)\n",
        "\n",
        "        # Reset the index of the concatenated row before appending to avoid duplicate indices\n",
        "        merged_rows.append(merged_row.reset_index(drop=True))\n",
        "\n",
        "        # Move the pointer for df1\n",
        "        i += 1\n",
        "\n",
        "    # Create a new DataFrame from the merged rows and reset the index\n",
        "    merged_df = pd.DataFrame(merged_rows)\n",
        "    merged_df.reset_index(drop=True, inplace=True)\n",
        "\n",
        "    return merged_df\n",
        "\n",
        "def transform_dataframe(df):\n",
        "    # Create an empty list to store the filled rows\n",
        "    filled_rows = []\n",
        "\n",
        "    # Iterate through each row in the DataFrame\n",
        "    for i, row in df.iterrows():\n",
        "        # If X1 is not NaN, we know this is a valid row for X1\n",
        "        if pd.notna(row['X1']):\n",
        "            x1_value = row['X1']\n",
        "            filled_rows.append({'time': row['time'], 'X1': x1_value, 'Y1': df.iloc[i+1]['Y1'], 'Z1': df.iloc[i+2]['Z1']})\n",
        "\n",
        "    # Convert the list of filled rows to a DataFrame\n",
        "    filled_df = pd.DataFrame(filled_rows)\n",
        "\n",
        "    # Now group the data by time and use the last available X1, Y1, and Z1 for each time\n",
        "    final_df = filled_df.groupby('time').last().reset_index()\n",
        "\n",
        "    return final_df"
      ]
    },
    {
      "cell_type": "markdown",
      "metadata": {
        "id": "FFQrCrM-ol0w"
      },
      "source": [
        "# DATASET"
      ]
    },
    {
      "cell_type": "code",
      "execution_count": 4,
      "metadata": {
        "id": "FIjenOEuol0w"
      },
      "outputs": [],
      "source": [
        "def download_csv(link_zipped_csv, gdrive_link, zipped_file):\n",
        "\n",
        "    file_id = link_zipped_csv.split('/')[-2]  # Take the file_id (Ex. \"https://drive.google.com/file/d/1BMj4BGXxIMzsd-GYSAEMpB7CF0XB87UT/view?usp=sharing\" => file_id: 1BMj4BGXxIMzsd-GYSAEMpB7CF0XB87UT)\n",
        "    download_link = gdrive_link + file_id # Create the path for gdown (Ex. https://drive.google.com/uc?id={YOUR_FILE_ID})\n",
        "\n",
        "    try:\n",
        "        if not os.path.exists(zipped_file):\n",
        "\n",
        "            gdown.download(\n",
        "                download_link,\n",
        "                zipped_file,\n",
        "                quiet=False\n",
        "                )\n",
        "        else:\n",
        "            print(\"CSV file already downloaded!\")\n",
        "\n",
        "\n",
        "    except Exception as error:\n",
        "        print(\"An error occured:\", error)\n",
        "        traceback.print_exc()"
      ]
    },
    {
      "cell_type": "code",
      "execution_count": 5,
      "metadata": {
        "id": "xLSu3LjIol0w"
      },
      "outputs": [],
      "source": [
        "def unzip_csv(csv_zip, csv_dir):\n",
        "\n",
        "    try:\n",
        "        if not os.path.exists(csv_dir):\n",
        "            os.mkdir(csv_dir) # Create the csv_dir directory where we extract files (if not exists)\n",
        "\n",
        "        if len(os.listdir(csv_dir)) == 0:\n",
        "            with zipfile.ZipFile(csv_zip, 'r') as zip:\n",
        "                filelist = zip.namelist() # list of the file inside zip : ['csv /multilingual_nli_test_df.csv', 'csv /tweet_emotions.csv', ...]\n",
        "\n",
        "                # Iterate over all file in the zip file to extract them\n",
        "                for filename in filelist:\n",
        "                    zip.extract(filename, csv_dir) # Extract the file inside the csv_dir\n",
        "\n",
        "        else:\n",
        "            print(\"CSV file already unzipped!\")\n",
        "\n",
        "\n",
        "    except Exception as error:\n",
        "        print(\"An error occured:\", error)\n",
        "        traceback.print_exc()"
      ]
    },
    {
      "cell_type": "code",
      "execution_count": 6,
      "metadata": {
        "colab": {
          "base_uri": "https://localhost:8080/"
        },
        "id": "1mHN7T9Rol0x",
        "outputId": "6d8b8eef-3135-4b49-f113-9ac4548ea7aa"
      },
      "outputs": [
        {
          "name": "stdout",
          "output_type": "stream",
          "text": [
            "CSV file already downloaded!\n",
            "CSV file already unzipped!\n"
          ]
        }
      ],
      "source": [
        "link_zipped_csv = 'https://drive.google.com/file/d/1MssQF4pI_rZqiiDBP4XaLTT1ZaN6ykLm/view?usp=drive_link'\n",
        "gdrive_link = 'https://drive.google.com/uc?id='\n",
        "csv_dir = './csv'\n",
        "zipped_file = './csv.zip'\n",
        "\n",
        "download_csv(\n",
        "    link_zipped_csv,\n",
        "    gdrive_link,\n",
        "    zipped_file\n",
        ")\n",
        "\n",
        "unzip_csv(\n",
        "    zipped_file,\n",
        "    csv_dir,\n",
        ")\n"
      ]
    },
    {
      "cell_type": "code",
      "execution_count": 7,
      "metadata": {
        "id": "iolOdYbOBKjl"
      },
      "outputs": [],
      "source": [
        "def load_dataset_dict_pandas(csv_path):\n",
        "\n",
        "    # Initialization of the dictionary of input data (text) {'filename': ['hi ...','I am ...']}\n",
        "    text_dict = {}\n",
        "\n",
        "    filelist = os.listdir(csv_path) # List of all csv file ['filename_1.csv', ...]\n",
        "\n",
        "    # Iterate over all csv file in the directory\n",
        "    for filename in filelist:\n",
        "        # Initialization of the list containing all the texts in a csv file\n",
        "\n",
        "        text_dict[filename] = []\n",
        "        # Open the i-th csv file\n",
        "\n",
        "        test = pd.read_csv(csv_path + '/' + filename)\n",
        "        print(filename)\n",
        "        print(test.info())\n"
      ]
    },
    {
      "cell_type": "code",
      "execution_count": 8,
      "metadata": {
        "id": "eKLx-ldvGxvs"
      },
      "outputs": [],
      "source": [
        "path = '/content/csv/thermal_drift_features_lab_05_02.csv'\n",
        "\n",
        "\n",
        "if colab:\n",
        "    prefix = '/content'\n",
        "else:\n",
        "    prefix = '.'\n",
        "\n",
        "\n",
        "features = pd.read_csv(os.path.join(prefix,'csv/thermal_drift_features_lab_05_02.csv'))\n",
        "features1 = pd.read_csv(os.path.join(prefix, 'csv/thermal_drift_features_lab_05_03.csv'))\n",
        "features2 = pd.read_csv(os.path.join(prefix,'csv/thermal_drift_features_lab_05_04.csv'))\n",
        "features3 = pd.read_csv(os.path.join(prefix,'csv/thermal_drift_features_lab_05_05.csv'))\n",
        "features4 = pd.read_csv(os.path.join(prefix,'csv/thermal_drift_features_lab_05_06.csv'))\n",
        "\n",
        "targets = pd.read_csv(os.path.join(prefix,'csv/thermal_drift_targets_lab_05_02.csv'))\n",
        "targets1 = pd.read_csv(os.path.join(prefix,'csv/thermal_drift_targets_lab_05_03.csv'))\n",
        "targets2 = pd.read_csv(os.path.join(prefix,'csv/thermal_drift_targets_lab_05_04.csv'))\n",
        "targets3 = pd.read_csv(os.path.join(prefix,'csv/thermal_drift_targets_lab_05_05.csv'))\n",
        "targets4 = pd.read_csv(os.path.join(prefix,'csv/thermal_drift_targets_lab_05_06.csv'))\n"
      ]
    },
    {
      "cell_type": "code",
      "execution_count": null,
      "metadata": {
        "id": "Jt0EE-5ikXpC"
      },
      "outputs": [],
      "source": [
        "features = pd.concat([features,features1,features2,features3,features4])\n",
        "\n",
        "features.drop([\n",
        "    \"name\", \"tags\",\n",
        "    \"2\\\"Tray1 Vacuum Sensor\", \"2\\\"Tray2 Vacuum Sensor\", \"2\\\"Tray3 Vacuum Sensor\",\n",
        "    \"Avg Oven Temperature\", \"Chuck Temp [Cdeg]\", \"Chuck Temp2 [Cdeg]\",\n",
        "    \"Chuck1 Vacuum Sensor\", \"Contrast\", \"Device State\",\n",
        "    \"Dispenser1 Pressure Sensor\", \"Machine Room Temp\", \"Main Air\", \"Main Vacuum\",\n",
        "    \"Oven Temperature\", \"PE_Rx\", \"PE_Ry\", \"PE_Rz\", \"PE_X1\", \"PE_Y1\", \"PE_Z1\",\n",
        "    \"PUT1 Flow Sensor\", \"PUT2 Flow Sensor1\", \"PUT2 Flow Sensor2\",\n",
        "    \"PUT2 Flow Sensor3\", \"PUT2 Flow Sensor4\", \"PUT2 Flow Sensor5\",\n",
        "    \"Photodiode\", \"Pixel Power\", \"Preciser1 Vacuum Sensor\",\n",
        "    \"Tec FIB1 Holder\", \"Tec FIB1 Plate\", \"Tec FIB2 Holder\", \"Tec FIB2 Plate\",\n",
        "    \"Torque11\",\"Torque2\",\"Torque3\",\"Torque4\",\"Torque5\",\"Torque6\"\n",
        "], axis=1, inplace=True)"
      ]
    },
    {
      "cell_type": "code",
      "execution_count": null,
      "metadata": {
        "id": "USLVXYRakZhh"
      },
      "outputs": [],
      "source": [
        "targets_norm= normalize_columns(targets, ['X1','Y1','Z1'])\n",
        "targets_norm1= normalize_columns(targets1, ['X1','Y1','Z1'])\n",
        "targets_norm2= normalize_columns(targets2, ['X1','Y1','Z1'])\n",
        "targets_norm3= normalize_columns(targets3, ['X1','Y1','Z1'])\n",
        "targets_norm4= normalize_columns(targets4, ['X1','Y1','Z1'])\n",
        "\n",
        "targets = pd.concat([targets,targets1,targets2,targets3,targets4])"
      ]
    },
    {
      "cell_type": "code",
      "execution_count": null,
      "metadata": {
        "colab": {
          "base_uri": "https://localhost:8080/",
          "height": 424
        },
        "id": "qUZH1JpDfNY0",
        "outputId": "694acf4b-ac9a-401f-f4ef-d6b8105ebf1b"
      },
      "outputs": [
        {
          "data": {
            "text/html": [
              "<div>\n",
              "<style scoped>\n",
              "    .dataframe tbody tr th:only-of-type {\n",
              "        vertical-align: middle;\n",
              "    }\n",
              "\n",
              "    .dataframe tbody tr th {\n",
              "        vertical-align: top;\n",
              "    }\n",
              "\n",
              "    .dataframe thead th {\n",
              "        text-align: right;\n",
              "    }\n",
              "</style>\n",
              "<table border=\"1\" class=\"dataframe\">\n",
              "  <thead>\n",
              "    <tr style=\"text-align: right;\">\n",
              "      <th></th>\n",
              "      <th>time</th>\n",
              "      <th>Temp Sensor 1</th>\n",
              "      <th>Temp Sensor 2</th>\n",
              "      <th>Temp Sensor 3</th>\n",
              "      <th>Temp Sensor 4</th>\n",
              "    </tr>\n",
              "  </thead>\n",
              "  <tbody>\n",
              "    <tr>\n",
              "      <th>0</th>\n",
              "      <td>1714640400018369000</td>\n",
              "      <td>2137</td>\n",
              "      <td>2164</td>\n",
              "      <td>2163</td>\n",
              "      <td>2159</td>\n",
              "    </tr>\n",
              "    <tr>\n",
              "      <th>1</th>\n",
              "      <td>1714640400095369000</td>\n",
              "      <td>2137</td>\n",
              "      <td>2164</td>\n",
              "      <td>2163</td>\n",
              "      <td>2159</td>\n",
              "    </tr>\n",
              "    <tr>\n",
              "      <th>2</th>\n",
              "      <td>1714640400186397000</td>\n",
              "      <td>2137</td>\n",
              "      <td>2164</td>\n",
              "      <td>2163</td>\n",
              "      <td>2159</td>\n",
              "    </tr>\n",
              "    <tr>\n",
              "      <th>3</th>\n",
              "      <td>1714640400395459000</td>\n",
              "      <td>2136</td>\n",
              "      <td>2164</td>\n",
              "      <td>2163</td>\n",
              "      <td>2159</td>\n",
              "    </tr>\n",
              "    <tr>\n",
              "      <th>4</th>\n",
              "      <td>1714640400445367000</td>\n",
              "      <td>2136</td>\n",
              "      <td>2164</td>\n",
              "      <td>2163</td>\n",
              "      <td>2159</td>\n",
              "    </tr>\n",
              "    <tr>\n",
              "      <th>...</th>\n",
              "      <td>...</td>\n",
              "      <td>...</td>\n",
              "      <td>...</td>\n",
              "      <td>...</td>\n",
              "      <td>...</td>\n",
              "    </tr>\n",
              "    <tr>\n",
              "      <th>498320</th>\n",
              "      <td>1714981388043125000</td>\n",
              "      <td>2126</td>\n",
              "      <td>2167</td>\n",
              "      <td>2152</td>\n",
              "      <td>2150</td>\n",
              "    </tr>\n",
              "    <tr>\n",
              "      <th>498321</th>\n",
              "      <td>1714981388090182000</td>\n",
              "      <td>2126</td>\n",
              "      <td>2167</td>\n",
              "      <td>2152</td>\n",
              "      <td>2150</td>\n",
              "    </tr>\n",
              "    <tr>\n",
              "      <th>498322</th>\n",
              "      <td>1714981388133949000</td>\n",
              "      <td>2126</td>\n",
              "      <td>2167</td>\n",
              "      <td>2152</td>\n",
              "      <td>2150</td>\n",
              "    </tr>\n",
              "    <tr>\n",
              "      <th>498323</th>\n",
              "      <td>1714981388190053000</td>\n",
              "      <td>2126</td>\n",
              "      <td>2167</td>\n",
              "      <td>2153</td>\n",
              "      <td>2150</td>\n",
              "    </tr>\n",
              "    <tr>\n",
              "      <th>498324</th>\n",
              "      <td>1714981388229974000</td>\n",
              "      <td>2126</td>\n",
              "      <td>2167</td>\n",
              "      <td>2153</td>\n",
              "      <td>2150</td>\n",
              "    </tr>\n",
              "  </tbody>\n",
              "</table>\n",
              "<p>4933767 rows × 5 columns</p>\n",
              "</div>"
            ],
            "text/plain": [
              "                       time  Temp Sensor 1  Temp Sensor 2  Temp Sensor 3  \\\n",
              "0       1714640400018369000           2137           2164           2163   \n",
              "1       1714640400095369000           2137           2164           2163   \n",
              "2       1714640400186397000           2137           2164           2163   \n",
              "3       1714640400395459000           2136           2164           2163   \n",
              "4       1714640400445367000           2136           2164           2163   \n",
              "...                     ...            ...            ...            ...   \n",
              "498320  1714981388043125000           2126           2167           2152   \n",
              "498321  1714981388090182000           2126           2167           2152   \n",
              "498322  1714981388133949000           2126           2167           2152   \n",
              "498323  1714981388190053000           2126           2167           2153   \n",
              "498324  1714981388229974000           2126           2167           2153   \n",
              "\n",
              "        Temp Sensor 4  \n",
              "0                2159  \n",
              "1                2159  \n",
              "2                2159  \n",
              "3                2159  \n",
              "4                2159  \n",
              "...               ...  \n",
              "498320           2150  \n",
              "498321           2150  \n",
              "498322           2150  \n",
              "498323           2150  \n",
              "498324           2150  \n",
              "\n",
              "[4933767 rows x 5 columns]"
            ]
          },
          "execution_count": 11,
          "metadata": {},
          "output_type": "execute_result"
        }
      ],
      "source": [
        "features"
      ]
    },
    {
      "cell_type": "code",
      "execution_count": null,
      "metadata": {
        "cellView": "form",
        "colab": {
          "base_uri": "https://localhost:8080/",
          "height": 363
        },
        "id": "OtsO4hF1fHUU",
        "outputId": "3b3e33b6-a0eb-474b-814a-67338bee9fdd"
      },
      "outputs": [
        {
          "data": {
            "text/html": [
              "<div>\n",
              "<style scoped>\n",
              "    .dataframe tbody tr th:only-of-type {\n",
              "        vertical-align: middle;\n",
              "    }\n",
              "\n",
              "    .dataframe tbody tr th {\n",
              "        vertical-align: top;\n",
              "    }\n",
              "\n",
              "    .dataframe thead th {\n",
              "        text-align: right;\n",
              "    }\n",
              "</style>\n",
              "<table border=\"1\" class=\"dataframe\">\n",
              "  <thead>\n",
              "    <tr style=\"text-align: right;\">\n",
              "      <th></th>\n",
              "      <th>name</th>\n",
              "      <th>tags</th>\n",
              "      <th>time</th>\n",
              "      <th>X1</th>\n",
              "      <th>Y1</th>\n",
              "      <th>Z1</th>\n",
              "    </tr>\n",
              "  </thead>\n",
              "  <tbody>\n",
              "    <tr>\n",
              "      <th>0</th>\n",
              "      <td>process_parameters</td>\n",
              "      <td>NaN</td>\n",
              "      <td>1714640401106507000</td>\n",
              "      <td>-42506.390100</td>\n",
              "      <td>NaN</td>\n",
              "      <td>NaN</td>\n",
              "    </tr>\n",
              "    <tr>\n",
              "      <th>1</th>\n",
              "      <td>process_parameters</td>\n",
              "      <td>NaN</td>\n",
              "      <td>1714640401181516000</td>\n",
              "      <td>NaN</td>\n",
              "      <td>44830.277517</td>\n",
              "      <td>NaN</td>\n",
              "    </tr>\n",
              "    <tr>\n",
              "      <th>2</th>\n",
              "      <td>process_parameters</td>\n",
              "      <td>NaN</td>\n",
              "      <td>1714640401190109000</td>\n",
              "      <td>NaN</td>\n",
              "      <td>NaN</td>\n",
              "      <td>12931.601562</td>\n",
              "    </tr>\n",
              "    <tr>\n",
              "      <th>3</th>\n",
              "      <td>process_parameters</td>\n",
              "      <td>NaN</td>\n",
              "      <td>1714640412382008000</td>\n",
              "      <td>-42506.368407</td>\n",
              "      <td>NaN</td>\n",
              "      <td>NaN</td>\n",
              "    </tr>\n",
              "    <tr>\n",
              "      <th>4</th>\n",
              "      <td>process_parameters</td>\n",
              "      <td>NaN</td>\n",
              "      <td>1714640412388469000</td>\n",
              "      <td>NaN</td>\n",
              "      <td>44830.177972</td>\n",
              "      <td>NaN</td>\n",
              "    </tr>\n",
              "    <tr>\n",
              "      <th>5</th>\n",
              "      <td>process_parameters</td>\n",
              "      <td>NaN</td>\n",
              "      <td>1714640412396388000</td>\n",
              "      <td>NaN</td>\n",
              "      <td>NaN</td>\n",
              "      <td>12931.601562</td>\n",
              "    </tr>\n",
              "    <tr>\n",
              "      <th>6</th>\n",
              "      <td>process_parameters</td>\n",
              "      <td>NaN</td>\n",
              "      <td>1714640423632736000</td>\n",
              "      <td>-42506.327086</td>\n",
              "      <td>NaN</td>\n",
              "      <td>NaN</td>\n",
              "    </tr>\n",
              "    <tr>\n",
              "      <th>7</th>\n",
              "      <td>process_parameters</td>\n",
              "      <td>NaN</td>\n",
              "      <td>1714640423648225000</td>\n",
              "      <td>NaN</td>\n",
              "      <td>44830.179741</td>\n",
              "      <td>NaN</td>\n",
              "    </tr>\n",
              "    <tr>\n",
              "      <th>8</th>\n",
              "      <td>process_parameters</td>\n",
              "      <td>NaN</td>\n",
              "      <td>1714640423653739000</td>\n",
              "      <td>NaN</td>\n",
              "      <td>NaN</td>\n",
              "      <td>12931.523438</td>\n",
              "    </tr>\n",
              "    <tr>\n",
              "      <th>9</th>\n",
              "      <td>process_parameters</td>\n",
              "      <td>NaN</td>\n",
              "      <td>1714640434970393000</td>\n",
              "      <td>-42506.308733</td>\n",
              "      <td>NaN</td>\n",
              "      <td>NaN</td>\n",
              "    </tr>\n",
              "  </tbody>\n",
              "</table>\n",
              "</div>"
            ],
            "text/plain": [
              "                 name  tags                 time            X1            Y1  \\\n",
              "0  process_parameters   NaN  1714640401106507000 -42506.390100           NaN   \n",
              "1  process_parameters   NaN  1714640401181516000           NaN  44830.277517   \n",
              "2  process_parameters   NaN  1714640401190109000           NaN           NaN   \n",
              "3  process_parameters   NaN  1714640412382008000 -42506.368407           NaN   \n",
              "4  process_parameters   NaN  1714640412388469000           NaN  44830.177972   \n",
              "5  process_parameters   NaN  1714640412396388000           NaN           NaN   \n",
              "6  process_parameters   NaN  1714640423632736000 -42506.327086           NaN   \n",
              "7  process_parameters   NaN  1714640423648225000           NaN  44830.179741   \n",
              "8  process_parameters   NaN  1714640423653739000           NaN           NaN   \n",
              "9  process_parameters   NaN  1714640434970393000 -42506.308733           NaN   \n",
              "\n",
              "             Z1  \n",
              "0           NaN  \n",
              "1           NaN  \n",
              "2  12931.601562  \n",
              "3           NaN  \n",
              "4           NaN  \n",
              "5  12931.601562  \n",
              "6           NaN  \n",
              "7           NaN  \n",
              "8  12931.523438  \n",
              "9           NaN  "
            ]
          },
          "execution_count": 12,
          "metadata": {},
          "output_type": "execute_result"
        }
      ],
      "source": [
        "targets.head(10)"
      ]
    },
    {
      "cell_type": "code",
      "execution_count": null,
      "metadata": {
        "colab": {
          "base_uri": "https://localhost:8080/",
          "height": 564
        },
        "id": "qfQpXmlNhKwF",
        "outputId": "ddea5b6f-cb23-4bda-84cf-f7963dc159b8"
      },
      "outputs": [
        {
          "data": {
            "image/png": "[encoded data removed]",
            "text/plain": [
              "<Figure size 1000x600 with 1 Axes>"
            ]
          },
          "metadata": {},
          "output_type": "display_data"
        }
      ],
      "source": [
        "targets_norm['time'] = pd.to_datetime(targets_norm['time'], unit='ns')\n",
        "\n",
        "# Reshape the DataFrame using melt()\n",
        "targets_melted = targets_norm.reset_index().melt(id_vars=['time'], value_vars=['X1', 'Y1', 'Z1'], var_name='variable', value_name='value')\n",
        "\n",
        "# Drop rows where 'value' is NaN (to keep only the non-null entries)\n",
        "targets_melted = targets_melted.dropna(subset=['value'])\n",
        "\n",
        "# Plot the data\n",
        "plt.figure(figsize=(10, 6))\n",
        "for var in targets_melted['variable'].unique():\n",
        "    # Filter data for each variable and plot\n",
        "    temp_df = targets_melted[targets_melted['variable'] == var]\n",
        "    plt.plot(temp_df['time'], temp_df['value'], label=var)\n",
        "\n",
        "# Add labels and title\n",
        "plt.xlabel('Time')\n",
        "plt.ylabel('Values')\n",
        "plt.title('Plot of X1, Y1, Z1 over Time')\n",
        "plt.legend(title='Variable')\n",
        "\n",
        "# Show the plot\n",
        "plt.show()\n",
        "\n",
        "#targets.plot(y='X1',x='time')"
      ]
    },
    {
      "cell_type": "code",
      "execution_count": null,
      "metadata": {
        "colab": {
          "base_uri": "https://localhost:8080/",
          "height": 458
        },
        "id": "7CNW63bYraTC",
        "outputId": "98669c89-ced9-4255-c9db-88e977f56dad"
      },
      "outputs": [
        {
          "data": {
            "image/png": "[encoded data removed]",
            "text/plain": [
              "<Figure size 640x480 with 1 Axes>"
            ]
          },
          "metadata": {},
          "output_type": "display_data"
        }
      ],
      "source": [
        "# Convert 'time' to datetime (nanoseconds to datetime)\n",
        "features['time'] = pd.to_datetime(features['time'], unit='ns')\n",
        "\n",
        "# Set 'time' as the index\n",
        "features.set_index('time', inplace=True)\n",
        "\n",
        "# Optionally, you can plot X1, Y1, Z1 directly\n",
        "features[['Temp Sensor 1', 'Temp Sensor 2', 'Temp Sensor 3', 'Temp Sensor 4', ]].plot()\n",
        "\n",
        "# Add labels and title\n",
        "plt.xlabel('Time')\n",
        "plt.ylabel('Values')\n",
        "plt.title('Plot of Temp Sensor 1, Temp Sensor 2, Temp Sensor 3, Temp Sensor 4 over Time')\n",
        "\n",
        "# Show the plot\n",
        "plt.show()"
      ]
    },
    {
      "cell_type": "code",
      "execution_count": null,
      "metadata": {
        "id": "-fA3WnSK0_PO"
      },
      "outputs": [],
      "source": [
        "PE = False\n",
        "if PE:\n",
        "  # Optionally, you can plot X1, Y1, Z1 directly\n",
        "  features[['PE_X1', 'PE_Y1']].plot()\n",
        "\n",
        "  # Add labels and title\n",
        "  plt.xlabel('Time')\n",
        "  plt.ylabel('Values')\n",
        "  plt.title('Plot of Temp Sensor 1, Temp Sensor 2, Temp Sensor 3, Temp Sensor 4 over Time')\n",
        "\n",
        "  # Show the plot\n",
        "  plt.show()"
      ]
    },
    {
      "cell_type": "code",
      "execution_count": null,
      "metadata": {
        "id": "H7L8dLyMmesB"
      },
      "outputs": [],
      "source": [
        "fixed_targets = transform_dataframe(targets)"
      ]
    },
    {
      "cell_type": "code",
      "execution_count": null,
      "metadata": {
        "colab": {
          "base_uri": "https://localhost:8080/",
          "height": 424
        },
        "id": "23LmYWUfmqDM",
        "outputId": "fc9873f7-b53c-4dbc-a2bd-b0cf9fab7f2c"
      },
      "outputs": [
        {
          "data": {
            "text/html": [
              "<div>\n",
              "<style scoped>\n",
              "    .dataframe tbody tr th:only-of-type {\n",
              "        vertical-align: middle;\n",
              "    }\n",
              "\n",
              "    .dataframe tbody tr th {\n",
              "        vertical-align: top;\n",
              "    }\n",
              "\n",
              "    .dataframe thead th {\n",
              "        text-align: right;\n",
              "    }\n",
              "</style>\n",
              "<table border=\"1\" class=\"dataframe\">\n",
              "  <thead>\n",
              "    <tr style=\"text-align: right;\">\n",
              "      <th></th>\n",
              "      <th>time</th>\n",
              "      <th>X1</th>\n",
              "      <th>Y1</th>\n",
              "      <th>Z1</th>\n",
              "    </tr>\n",
              "  </thead>\n",
              "  <tbody>\n",
              "    <tr>\n",
              "      <th>0</th>\n",
              "      <td>1714640401106507000</td>\n",
              "      <td>-42506.390100</td>\n",
              "      <td>44830.277517</td>\n",
              "      <td>12931.601562</td>\n",
              "    </tr>\n",
              "    <tr>\n",
              "      <th>1</th>\n",
              "      <td>1714640412382008000</td>\n",
              "      <td>-42506.368407</td>\n",
              "      <td>44830.177972</td>\n",
              "      <td>12931.601562</td>\n",
              "    </tr>\n",
              "    <tr>\n",
              "      <th>2</th>\n",
              "      <td>1714640423632736000</td>\n",
              "      <td>-42506.327086</td>\n",
              "      <td>44830.179741</td>\n",
              "      <td>12931.523438</td>\n",
              "    </tr>\n",
              "    <tr>\n",
              "      <th>3</th>\n",
              "      <td>1714640434970393000</td>\n",
              "      <td>-42506.308733</td>\n",
              "      <td>44830.136638</td>\n",
              "      <td>12931.445312</td>\n",
              "    </tr>\n",
              "    <tr>\n",
              "      <th>4</th>\n",
              "      <td>1714640446143996000</td>\n",
              "      <td>-42506.280652</td>\n",
              "      <td>44830.203599</td>\n",
              "      <td>12931.289062</td>\n",
              "    </tr>\n",
              "    <tr>\n",
              "      <th>...</th>\n",
              "      <td>...</td>\n",
              "      <td>...</td>\n",
              "      <td>...</td>\n",
              "      <td>...</td>\n",
              "    </tr>\n",
              "    <tr>\n",
              "      <th>30385</th>\n",
              "      <td>1714981121245682000</td>\n",
              "      <td>-42505.001668</td>\n",
              "      <td>44828.086368</td>\n",
              "      <td>12930.156250</td>\n",
              "    </tr>\n",
              "    <tr>\n",
              "      <th>30386</th>\n",
              "      <td>1714981132455133000</td>\n",
              "      <td>-42505.022450</td>\n",
              "      <td>44828.139340</td>\n",
              "      <td>12929.960938</td>\n",
              "    </tr>\n",
              "    <tr>\n",
              "      <th>30387</th>\n",
              "      <td>1714981143894547000</td>\n",
              "      <td>-42505.032772</td>\n",
              "      <td>44828.097332</td>\n",
              "      <td>12929.960938</td>\n",
              "    </tr>\n",
              "    <tr>\n",
              "      <th>30388</th>\n",
              "      <td>1714981155081468000</td>\n",
              "      <td>-42504.992528</td>\n",
              "      <td>44828.076567</td>\n",
              "      <td>12930.078125</td>\n",
              "    </tr>\n",
              "    <tr>\n",
              "      <th>30389</th>\n",
              "      <td>1714981166514907000</td>\n",
              "      <td>-42505.008199</td>\n",
              "      <td>44828.044855</td>\n",
              "      <td>12930.078125</td>\n",
              "    </tr>\n",
              "  </tbody>\n",
              "</table>\n",
              "<p>30390 rows × 4 columns</p>\n",
              "</div>"
            ],
            "text/plain": [
              "                      time            X1            Y1            Z1\n",
              "0      1714640401106507000 -42506.390100  44830.277517  12931.601562\n",
              "1      1714640412382008000 -42506.368407  44830.177972  12931.601562\n",
              "2      1714640423632736000 -42506.327086  44830.179741  12931.523438\n",
              "3      1714640434970393000 -42506.308733  44830.136638  12931.445312\n",
              "4      1714640446143996000 -42506.280652  44830.203599  12931.289062\n",
              "...                    ...           ...           ...           ...\n",
              "30385  1714981121245682000 -42505.001668  44828.086368  12930.156250\n",
              "30386  1714981132455133000 -42505.022450  44828.139340  12929.960938\n",
              "30387  1714981143894547000 -42505.032772  44828.097332  12929.960938\n",
              "30388  1714981155081468000 -42504.992528  44828.076567  12930.078125\n",
              "30389  1714981166514907000 -42505.008199  44828.044855  12930.078125\n",
              "\n",
              "[30390 rows x 4 columns]"
            ]
          },
          "execution_count": 17,
          "metadata": {},
          "output_type": "execute_result"
        }
      ],
      "source": [
        "fixed_targets"
      ]
    },
    {
      "cell_type": "code",
      "execution_count": null,
      "metadata": {
        "id": "DOVEQQeQr36x"
      },
      "outputs": [],
      "source": [
        "complete_numbers = merge_on_closest_time(fixed_targets.reset_index(), features.reset_index())"
      ]
    },
    {
      "cell_type": "code",
      "execution_count": null,
      "metadata": {
        "id": "m39ldRHjsbJH"
      },
      "outputs": [],
      "source": [
        "complete = complete_numbers.rename(columns={\n",
        "    0: 'id',\n",
        "    1: 'time',\n",
        "    2: 'X1',\n",
        "    3: 'Y1',\n",
        "    4: 'Z1',\n",
        "    5: 'to_remove',\n",
        "    6: 'Temp1',\n",
        "    7: 'Temp2',\n",
        "    8: 'Temp3',\n",
        "    9: 'Temp4'\n",
        "    })\n",
        "complete.drop(['to_remove', 'time'], axis=1, inplace=True)"
      ]
    },
    {
      "cell_type": "code",
      "execution_count": null,
      "metadata": {},
      "outputs": [
        {
          "data": {
            "text/html": [
              "<div>\n",
              "<style scoped>\n",
              "    .dataframe tbody tr th:only-of-type {\n",
              "        vertical-align: middle;\n",
              "    }\n",
              "\n",
              "    .dataframe tbody tr th {\n",
              "        vertical-align: top;\n",
              "    }\n",
              "\n",
              "    .dataframe thead th {\n",
              "        text-align: right;\n",
              "    }\n",
              "</style>\n",
              "<table border=\"1\" class=\"dataframe\">\n",
              "  <thead>\n",
              "    <tr style=\"text-align: right;\">\n",
              "      <th></th>\n",
              "      <th>id</th>\n",
              "      <th>X1</th>\n",
              "      <th>Y1</th>\n",
              "      <th>Z1</th>\n",
              "      <th>Temp1</th>\n",
              "      <th>Temp2</th>\n",
              "      <th>Temp3</th>\n",
              "      <th>Temp4</th>\n",
              "    </tr>\n",
              "  </thead>\n",
              "  <tbody>\n",
              "    <tr>\n",
              "      <th>0</th>\n",
              "      <td>0</td>\n",
              "      <td>-42506.390100</td>\n",
              "      <td>44830.277517</td>\n",
              "      <td>12931.601562</td>\n",
              "      <td>2136</td>\n",
              "      <td>2164</td>\n",
              "      <td>2163</td>\n",
              "      <td>2159</td>\n",
              "    </tr>\n",
              "    <tr>\n",
              "      <th>1</th>\n",
              "      <td>1</td>\n",
              "      <td>-42506.368407</td>\n",
              "      <td>44830.177972</td>\n",
              "      <td>12931.601562</td>\n",
              "      <td>2136</td>\n",
              "      <td>2170</td>\n",
              "      <td>2162</td>\n",
              "      <td>2160</td>\n",
              "    </tr>\n",
              "    <tr>\n",
              "      <th>2</th>\n",
              "      <td>2</td>\n",
              "      <td>-42506.327086</td>\n",
              "      <td>44830.179741</td>\n",
              "      <td>12931.523438</td>\n",
              "      <td>2136</td>\n",
              "      <td>2176</td>\n",
              "      <td>2163</td>\n",
              "      <td>2160</td>\n",
              "    </tr>\n",
              "    <tr>\n",
              "      <th>3</th>\n",
              "      <td>3</td>\n",
              "      <td>-42506.308733</td>\n",
              "      <td>44830.136638</td>\n",
              "      <td>12931.445312</td>\n",
              "      <td>2137</td>\n",
              "      <td>2161</td>\n",
              "      <td>2162</td>\n",
              "      <td>2159</td>\n",
              "    </tr>\n",
              "    <tr>\n",
              "      <th>4</th>\n",
              "      <td>4</td>\n",
              "      <td>-42506.280652</td>\n",
              "      <td>44830.203599</td>\n",
              "      <td>12931.289062</td>\n",
              "      <td>2134</td>\n",
              "      <td>2151</td>\n",
              "      <td>2163</td>\n",
              "      <td>2158</td>\n",
              "    </tr>\n",
              "    <tr>\n",
              "      <th>...</th>\n",
              "      <td>...</td>\n",
              "      <td>...</td>\n",
              "      <td>...</td>\n",
              "      <td>...</td>\n",
              "      <td>...</td>\n",
              "      <td>...</td>\n",
              "      <td>...</td>\n",
              "      <td>...</td>\n",
              "    </tr>\n",
              "    <tr>\n",
              "      <th>30385</th>\n",
              "      <td>30385</td>\n",
              "      <td>-42505.001668</td>\n",
              "      <td>44828.086368</td>\n",
              "      <td>12930.156250</td>\n",
              "      <td>2104</td>\n",
              "      <td>2137</td>\n",
              "      <td>2145</td>\n",
              "      <td>2157</td>\n",
              "    </tr>\n",
              "    <tr>\n",
              "      <th>30386</th>\n",
              "      <td>30386</td>\n",
              "      <td>-42505.022450</td>\n",
              "      <td>44828.139340</td>\n",
              "      <td>12929.960938</td>\n",
              "      <td>2104</td>\n",
              "      <td>2137</td>\n",
              "      <td>2145</td>\n",
              "      <td>2157</td>\n",
              "    </tr>\n",
              "    <tr>\n",
              "      <th>30387</th>\n",
              "      <td>30387</td>\n",
              "      <td>-42505.032772</td>\n",
              "      <td>44828.097332</td>\n",
              "      <td>12929.960938</td>\n",
              "      <td>2104</td>\n",
              "      <td>2137</td>\n",
              "      <td>2145</td>\n",
              "      <td>2157</td>\n",
              "    </tr>\n",
              "    <tr>\n",
              "      <th>30388</th>\n",
              "      <td>30388</td>\n",
              "      <td>-42504.992528</td>\n",
              "      <td>44828.076567</td>\n",
              "      <td>12930.078125</td>\n",
              "      <td>2104</td>\n",
              "      <td>2137</td>\n",
              "      <td>2145</td>\n",
              "      <td>2157</td>\n",
              "    </tr>\n",
              "    <tr>\n",
              "      <th>30389</th>\n",
              "      <td>30389</td>\n",
              "      <td>-42505.008199</td>\n",
              "      <td>44828.044855</td>\n",
              "      <td>12930.078125</td>\n",
              "      <td>2104</td>\n",
              "      <td>2137</td>\n",
              "      <td>2145</td>\n",
              "      <td>2157</td>\n",
              "    </tr>\n",
              "  </tbody>\n",
              "</table>\n",
              "<p>30390 rows × 8 columns</p>\n",
              "</div>"
            ],
            "text/plain": [
              "          id            X1            Y1            Z1  Temp1  Temp2  Temp3  \\\n",
              "0          0 -42506.390100  44830.277517  12931.601562   2136   2164   2163   \n",
              "1          1 -42506.368407  44830.177972  12931.601562   2136   2170   2162   \n",
              "2          2 -42506.327086  44830.179741  12931.523438   2136   2176   2163   \n",
              "3          3 -42506.308733  44830.136638  12931.445312   2137   2161   2162   \n",
              "4          4 -42506.280652  44830.203599  12931.289062   2134   2151   2163   \n",
              "...      ...           ...           ...           ...    ...    ...    ...   \n",
              "30385  30385 -42505.001668  44828.086368  12930.156250   2104   2137   2145   \n",
              "30386  30386 -42505.022450  44828.139340  12929.960938   2104   2137   2145   \n",
              "30387  30387 -42505.032772  44828.097332  12929.960938   2104   2137   2145   \n",
              "30388  30388 -42504.992528  44828.076567  12930.078125   2104   2137   2145   \n",
              "30389  30389 -42505.008199  44828.044855  12930.078125   2104   2137   2145   \n",
              "\n",
              "       Temp4  \n",
              "0       2159  \n",
              "1       2160  \n",
              "2       2160  \n",
              "3       2159  \n",
              "4       2158  \n",
              "...      ...  \n",
              "30385   2157  \n",
              "30386   2157  \n",
              "30387   2157  \n",
              "30388   2157  \n",
              "30389   2157  \n",
              "\n",
              "[30390 rows x 8 columns]"
            ]
          },
          "execution_count": 20,
          "metadata": {},
          "output_type": "execute_result"
        }
      ],
      "source": [
        "complete"
      ]
    },
    {
      "cell_type": "code",
      "execution_count": null,
      "metadata": {},
      "outputs": [],
      "source": [
        "complete.astype(float)\n",
        "\n",
        "X = complete[['Temp1','Temp2', 'Temp3', 'Temp4']]\n",
        "Y = complete[['X1', 'Y1', 'Z1']]\n",
        "\n",
        "Y = Y.values.astype(np.float32)\n",
        "Y = np.gradient(Y, axis=0)\n",
        "X = X.values.astype(np.float32)\n",
        "X /= 100"
      ]
    },
    {
      "cell_type": "code",
      "execution_count": null,
      "metadata": {
        "colab": {
          "base_uri": "https://localhost:8080/"
        },
        "id": "7wQamHTRAwTF",
        "outputId": "ed825791-2b10-4893-8cbd-0bf55d3b551c"
      },
      "outputs": [
        {
          "name": "stdout",
          "output_type": "stream",
          "text": [
            "[[21.36 21.64 21.63 21.59]\n",
            " [21.36 21.7  21.62 21.6 ]\n",
            " [21.36 21.76 21.63 21.6 ]\n",
            " ...\n",
            " [21.04 21.37 21.45 21.57]\n",
            " [21.04 21.37 21.45 21.57]\n",
            " [21.04 21.37 21.45 21.57]]\n",
            "[[ 0.0234375  -0.09765625  0.        ]\n",
            " [ 0.03125    -0.04882812 -0.0390625 ]\n",
            " [ 0.02929688 -0.02148438 -0.078125  ]\n",
            " ...\n",
            " [ 0.015625   -0.03125     0.05859375]\n",
            " [ 0.01171875 -0.02734375  0.05859375]\n",
            " [-0.015625   -0.03515625  0.        ]]\n"
          ]
        }
      ],
      "source": [
        "print(X)\n",
        "print(Y)"
      ]
    },
    {
      "cell_type": "code",
      "execution_count": null,
      "metadata": {
        "id": "rQtzgjhwgs3Y"
      },
      "outputs": [],
      "source": [
        "def split(listToSplit, splitPercentages):\n",
        "  length = len(listToSplit)\n",
        "  splittedList = []\n",
        "  lastIndex = 0\n",
        "  for percentageIndex in range(len(splitPercentages)):\n",
        "    print(lastIndex)\n",
        "    splittedList.append(listToSplit[lastIndex:lastIndex+int(splitPercentages[percentageIndex]*length)])\n",
        "    lastIndex += int(splitPercentages[percentageIndex]*length)\n",
        "\n",
        "  return splittedList"
      ]
    },
    {
      "cell_type": "code",
      "execution_count": null,
      "metadata": {
        "colab": {
          "base_uri": "https://localhost:8080/"
        },
        "id": "5oZLh4TnhL7h",
        "outputId": "9c34e4c1-edfc-43e5-920a-4ad193a432fa"
      },
      "outputs": [
        {
          "name": "stdout",
          "output_type": "stream",
          "text": [
            "0\n",
            "21273\n",
            "27351\n",
            "0\n",
            "21273\n",
            "27351\n"
          ]
        }
      ],
      "source": [
        "splitPerc = [0.7,0.2,0.1]\n",
        "splitted_X = split(X, splitPerc)\n",
        "splitted_Y = split(Y, splitPerc)"
      ]
    },
    {
      "cell_type": "code",
      "execution_count": null,
      "metadata": {
        "id": "3kBwDGIhH3Qn"
      },
      "outputs": [],
      "source": [
        "class thermal_dataset(Dataset):\n",
        "  def __init__(self, data, lookback):\n",
        "    super()\n",
        "    X, y = [], []\n",
        "    #print(data)\n",
        "    #print(lookback)\n",
        "    #print(len(data[0])-lookback)\n",
        "    for i in range(len(data[0])-lookback):\n",
        "      feature = data[0][i:i+lookback]\n",
        "      target = data[1][i:i+lookback]\n",
        "      X.append(feature)\n",
        "      y.append(target)\n",
        "    self.X = torch.tensor(np.array(X))\n",
        "    self.y = torch.tensor(np.array(y))\n",
        "\n",
        "  def __getitem__(self, index):\n",
        "    return self.X[index], self.y[index]\n",
        "\n",
        "  def __len__(self):\n",
        "    return self.X.shape[0]"
      ]
    },
    {
      "cell_type": "code",
      "execution_count": null,
      "metadata": {
        "id": "J6EO-0bJDOOv"
      },
      "outputs": [],
      "source": [
        "datasetTrain = thermal_dataset((splitted_X[0],splitted_Y[0]), 5)\n",
        "datasetTest = thermal_dataset((splitted_X[1],splitted_Y[1]), 5)\n",
        "datasetVal = thermal_dataset((splitted_X[2],splitted_Y[2]), 5)"
      ]
    },
    {
      "cell_type": "code",
      "execution_count": null,
      "metadata": {
        "colab": {
          "base_uri": "https://localhost:8080/"
        },
        "id": "fh9HS2aCDVZJ",
        "outputId": "60c18f2b-7968-4903-be86-e3958891ff18"
      },
      "outputs": [
        {
          "data": {
            "text/plain": [
              "(tensor([[21.0400, 21.3700, 21.4500, 21.5700],\n",
              "         [21.0400, 21.3700, 21.4500, 21.5700],\n",
              "         [21.0400, 21.3700, 21.4500, 21.5700],\n",
              "         [21.0400, 21.3700, 21.4500, 21.5700],\n",
              "         [21.0400, 21.3700, 21.4500, 21.5700]]),\n",
              " tensor([[-0.0078,  0.0254,  0.0391],\n",
              "         [-0.0039, -0.0391,  0.0000],\n",
              "         [-0.0254, -0.0098, -0.0781],\n",
              "         [-0.0098,  0.0312, -0.0586],\n",
              "         [-0.0059, -0.0078,  0.0586]]))"
            ]
          },
          "execution_count": 27,
          "metadata": {},
          "output_type": "execute_result"
        }
      ],
      "source": [
        "datasetTrain[-1]"
      ]
    },
    {
      "cell_type": "markdown",
      "metadata": {
        "id": "pnlFgCAkol0x"
      },
      "source": [
        "# MODEL"
      ]
    },
    {
      "cell_type": "code",
      "execution_count": null,
      "metadata": {
        "id": "GCyDsfg1_780"
      },
      "outputs": [],
      "source": [
        "class lstm_extractor(nn.Module):\n",
        "  def __init__(self, feature_dim, input_dim):\n",
        "    super(lstm_extractor, self).__init__()\n",
        "    self.lstm = nn.LSTM(input_size=input_dim, hidden_size=feature_dim)\n",
        "\n",
        "  def forward(self, x):\n",
        "    output, (hidden_state, cell_state) = self.lstm(x)\n",
        "    #print(hidden_state.shape)\n",
        "\n",
        "    return hidden_state\n"
      ]
    },
    {
      "cell_type": "code",
      "execution_count": null,
      "metadata": {
        "id": "nixXbpcbHfeR"
      },
      "outputs": [],
      "source": [
        "class rnn_extractor(nn.Module):\n",
        "  def __init__(self, feature_dim, input_dim):\n",
        "    super(rnn_extractor, self).__init__()\n",
        "    self.rnn = nn.RNN(input_size=input_dim, hidden_size=feature_dim)\n",
        "\n",
        "  def forward(self, x):\n",
        "    output, (hidden_state, cell_state) = self.rnn(x)\n",
        "    #print(hidden_state.shape)\n",
        "\n",
        "    return hidden_state"
      ]
    },
    {
      "cell_type": "code",
      "execution_count": null,
      "metadata": {
        "id": "zzRSIX6gIQr9"
      },
      "outputs": [],
      "source": [
        "class complete_model(nn.Module):\n",
        "  def __init__(self, hidden_dim, input_dim, output_dim):\n",
        "    super(complete_model, self).__init__()\n",
        "    self.first = lstm_extractor(hidden_dim, input_dim)\n",
        "    self.out = nn.Linear(hidden_dim, output_dim)\n",
        "\n",
        "  def forward(self, x):\n",
        "    #print(type(x))\n",
        "    x = self.first(x)\n",
        "    x = self.out(x)\n",
        "    return x\n",
        "  \n",
        "  def save(self, epoch):\n",
        "\n",
        "    # Get current timestamp\n",
        "    current_time = datetime.now().strftime('%Y-%m-%d_%H')\n",
        "\n",
        "    # Create the directory of results\n",
        "    dir_path = 'results/training_' + current_time # path of type 'results/training_2024-12-22_14\n",
        "    os.makedirs(dir_path, exist_ok=True) # Create the directory\n",
        "\n",
        "    save_name = 'model_' + str(epoch) + '.pt' # Model name of the type 'model_50.pt' where 50 is the epoch \n",
        "    save_path = os.path.join(dir_path, save_name) # path of type '/training_2024-12-22_14-57/model_50.pt\n",
        "    torch.save(self.state_dict(), save_path) # Save the model\n",
        "    print(f'Model saved to {save_path}')\n",
        "    return dir_path"
      ]
    },
    {
      "cell_type": "code",
      "execution_count": null,
      "metadata": {},
      "outputs": [],
      "source": [
        "hyper_parameters = {'batch_size': 8,\n",
        "                    'hidden_dim' : 10,\n",
        "                    'input_dim':4,\n",
        "                    'output_dim':3,\n",
        "                    'lr':0.001\n",
        "                    }"
      ]
    },
    {
      "cell_type": "code",
      "execution_count": null,
      "metadata": {
        "id": "BbEyWHlGEJHm"
      },
      "outputs": [],
      "source": [
        "loaderTrain = DataLoader(datasetTrain, shuffle=True, batch_size=hyper_parameters['batch_size'])\n",
        "loaderTest = DataLoader(datasetTest, shuffle=True, batch_size=hyper_parameters['batch_size'])\n",
        "loaderVal = DataLoader(datasetVal, shuffle=True, batch_size=hyper_parameters['batch_size'])\n",
        "model = complete_model(hidden_dim=hyper_parameters['hidden_dim'], input_dim=hyper_parameters['input_dim'], output_dim=hyper_parameters['output_dim'])\n",
        "optimizer = optim.Adam(model.parameters(), lr=hyper_parameters['lr'])\n",
        "loss_fn = nn.MSELoss()"
      ]
    },
    {
      "cell_type": "code",
      "execution_count": null,
      "metadata": {},
      "outputs": [
        {
          "ename": "TypeError",
          "evalue": "train() got an unexpected keyword argument 'hyper_parameters'",
          "output_type": "error",
          "traceback": [
            "\u001b[0;31m---------------------------------------------------------------------------\u001b[0m",
            "\u001b[0;31mTypeError\u001b[0m                                 Traceback (most recent call last)",
            "Cell \u001b[0;32mIn[33], line 1\u001b[0m\n\u001b[0;32m----> 1\u001b[0m \u001b[43mtrain\u001b[49m\u001b[43m(\u001b[49m\n\u001b[1;32m      2\u001b[0m \u001b[43m    \u001b[49m\u001b[43mnum_epochs\u001b[49m\u001b[38;5;241;43m=\u001b[39;49m\u001b[38;5;241;43m5\u001b[39;49m\u001b[43m,\u001b[49m\n\u001b[1;32m      3\u001b[0m \u001b[43m    \u001b[49m\u001b[43mloss_fn\u001b[49m\u001b[38;5;241;43m=\u001b[39;49m\u001b[43mloss_fn\u001b[49m\u001b[43m,\u001b[49m\n\u001b[1;32m      4\u001b[0m \u001b[43m    \u001b[49m\u001b[43mmodel\u001b[49m\u001b[38;5;241;43m=\u001b[39;49m\u001b[43mmodel\u001b[49m\u001b[43m,\u001b[49m\n\u001b[1;32m      5\u001b[0m \u001b[43m    \u001b[49m\u001b[43moptimizer\u001b[49m\u001b[38;5;241;43m=\u001b[39;49m\u001b[43moptimizer\u001b[49m\u001b[43m,\u001b[49m\n\u001b[1;32m      6\u001b[0m \u001b[43m    \u001b[49m\u001b[43mtraining_dataloader\u001b[49m\u001b[38;5;241;43m=\u001b[39;49m\u001b[43mloaderTrain\u001b[49m\u001b[43m,\u001b[49m\n\u001b[1;32m      7\u001b[0m \u001b[43m    \u001b[49m\u001b[43mvalidation_dataloader\u001b[49m\u001b[38;5;241;43m=\u001b[39;49m\u001b[43mloaderVal\u001b[49m\u001b[43m,\u001b[49m\n\u001b[1;32m      8\u001b[0m \u001b[43m    \u001b[49m\u001b[43mhyper_parameters\u001b[49m\u001b[38;5;241;43m=\u001b[39;49m\u001b[43mhyper_parameters\u001b[49m\u001b[43m,\u001b[49m\n\u001b[1;32m      9\u001b[0m \u001b[43m)\u001b[49m\n",
            "\u001b[0;31mTypeError\u001b[0m: train() got an unexpected keyword argument 'hyper_parameters'"
          ]
        }
      ],
      "source": [
        "train(\n",
        "    num_epochs=5,\n",
        "    loss_fn=loss_fn,\n",
        "    model=model,\n",
        "    optimizer=optimizer,\n",
        "    training_dataloader=loaderTrain,\n",
        "    validation_dataloader=loaderVal,\n",
        "    hyperparams=hyper_parameters,\n",
        ")"
      ]
    }
  ],
  "metadata": {
    "colab": {
      "provenance": []
    },
    "kernelspec": {
      "display_name": ".venv",
      "language": "python",
      "name": "python3"
    },
    "language_info": {
      "codemirror_mode": {
        "name": "ipython",
        "version": 3
      },
      "file_extension": ".py",
      "mimetype": "text/x-python",
      "name": "python",
      "nbconvert_exporter": "python",
      "pygments_lexer": "ipython3",
      "version": "3.9.20"
    }
  },
  "nbformat": 4,
  "nbformat_minor": 0
}
