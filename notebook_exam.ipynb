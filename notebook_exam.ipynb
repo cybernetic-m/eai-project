{
  "cells": [
    {
      "cell_type": "markdown",
      "metadata": {
        "id": "l3O4mXmBol0t"
      },
      "source": [
        "# IMPORT"
      ]
    },
    {
      "cell_type": "code",
      "execution_count": null,
      "metadata": {},
      "outputs": [],
      "source": [
        "try:\n",
        "    import google.colab # type: ignore\n",
        "    colab = True\n",
        "except:\n",
        "    colab = False\n",
        "\n",
        "if colab:\n",
        "    !git clone \"https://github.com/cybernetic-m/eai-project.git\" # type: ignore"
      ]
    },
    {
      "cell_type": "code",
      "execution_count": null,
      "metadata": {
        "id": "9gQw18CXol0v"
      },
      "outputs": [],
      "source": [
        "# Model\n",
        "import torch\n",
        "import torch.nn as nn\n",
        "from torch.utils.data import DataLoader\n",
        "from torch import optim\n",
        "from torch.optim.lr_scheduler import ExponentialLR \n",
        "\n",
        "# Others\n",
        "import pandas as pd\n",
        "import numpy as np\n",
        "import matplotlib.pyplot as plt\n",
        "import os\n",
        "import sys\n",
        "import json\n",
        " \n",
        "# Our files\n",
        "if colab:\n",
        "    sys.path.append('/content/eai-project/training')\n",
        "    sys.path.append('/content/eai-project/preprocessing')\n",
        "    sys.path.append('/content/eai-project/dataset')\n",
        "    sys.path.append('/content/eai-project/utils')\n",
        "    sys.path.append('/content/eai-project/models')\n",
        "    sys.path.append('/content/eai-project/testing')\n",
        "    from train import train\n",
        "    from preprocessing import *\n",
        "    from thermal_dataset import thermal_dataset \n",
        "    from utils import *\n",
        "    from complete_model import complete_model \n",
        "    from lstm_only import lstm_only\n",
        "    from testing import test\n",
        "    prefix = '/content'\n",
        "        \n",
        "else:\n",
        "    from training.train import train\n",
        "    from preprocessing.preprocessing import *\n",
        "    from dataset.thermal_dataset import thermal_dataset\n",
        "    from utils.csv_utils import *\n",
        "    from models.complete_model import complete_model\n",
        "    from models.complete_model_autoencoder import complete_model_autoencoder\n",
        "    from models.lstm_only import lstm_only\n",
        "    from testing.test import test\n",
        "    from blocks import mlp, linear, rnn, lstm, cnn\n",
        "    prefix = '.'\n",
        "    \n",
        "pd.set_option('display.max_columns', None)"
      ]
    },
    {
      "cell_type": "code",
      "execution_count": null,
      "metadata": {},
      "outputs": [],
      "source": [
        "hyper_parameters = {'num_epochs': 30,\n",
        "                    'batch_size': 256,\n",
        "                    'hidden_dim' : 3,\n",
        "                    'lr': 0.000001,\n",
        "                    'mode': 'auto-weighted', #average, mlp, linear, auto-weighted\n",
        "                    'extractor_type': 'autoencoder', #lstm, rnn, autoencoder\n",
        "                    'ensemble': True,\n",
        "                    'timesteps': 170,\n",
        "                    'window_size':30,\n",
        "                    'norm':True,\n",
        "                    'file':1\n",
        "                        }\n",
        "\n",
        "# Parameters of the convolutional autoencoder\n",
        "conv_autoencoder_dict = {'in_kern_out': [[4, 3, 5], [5, 3, 6],[6, 3, 7]], # List of hyperparam of autoencoder [[in_channels, kernel_size, out_channels], ...]\n",
        "                    'pooling_kernel_size': 2, # how much big is the kernel of the pooling (i.e. 2 means halving the dimension each layer)\n",
        "                    'padding': 'same', # 'same', 'full', 'valid'\n",
        "                    'pooling': 'max', # 'max' for Max Pooling and 'avg' for Average Pooling \n",
        "                    'scale_factor': 2, # upsample scale_factor, 2 means double the dimension each layer\n",
        "                    'upsample_mode': 'linear' # mode of the upsampling 'linear', 'nearest'\n",
        " }\n",
        "\n",
        "ensemble_model = {'mlp': [{'layer_dim_list': [3,4,3]}],  \n",
        "              'ARIMA': [{'p': 2, 'd': 0, 'q': 2, 'ps': 0, 'ds': 0, 'qs': 0, 's': 1}],\n",
        "              'linear_regressor': [{'in_features': 3, 'out_features': 3}]\n",
        "              }\n",
        "\n",
        "ensemble_model1 = { \n",
        "              'ARIMA': [{'p': 2, 'd': 0, 'q': 2, 'ps': 0, 'ds': 0, 'qs': 0, 's': 1}],\n",
        "              'linear_regressor': [{'in_features': 3, 'out_features': 3}, {'in_features': 3, 'out_features': 3}]\n",
        "              }\n",
        "\n",
        "ensemble_model2 = {\n",
        "              'mlp': [{'layer_dim_list': [3,4,3]}],  \n",
        "              'linear_regressor': [{'in_features': 3, 'out_features': 3}, {'in_features': 3, 'out_features': 3}]\n",
        "              }"
      ]
    },
    {
      "cell_type": "code",
      "execution_count": null,
      "metadata": {},
      "outputs": [],
      "source": [
        "skip = False\n",
        "test_flag = True\n",
        "#if os.path.exists(prefix+'/X'+str(hyper_parameters['window_size'])+'testing'+str(hyper_parameters['file'])+str(hyper_parameters['norm'])+'.npy') and os.path.exists(prefix+'/X'+str(hyper_parameters['window_size'])+'training'+str(hyper_parameters['file'])+str(hyper_parameters['norm'])+'.npy'):\n",
        "#    skip = True"
      ]
    },
    {
      "cell_type": "markdown",
      "metadata": {},
      "source": [
        "**Reproducibility and Device Setting**"
      ]
    },
    {
      "cell_type": "code",
      "execution_count": null,
      "metadata": {},
      "outputs": [],
      "source": [
        "# Set a seed for reproducibility purposes\n",
        "seed = 46\n",
        "torch.manual_seed(seed)\n",
        "torch.backends.cudnn.deterministic = True\n",
        "torch.backends.cudnn.benchmark = False\n",
        "np.random.seed(seed)\n",
        "\n",
        "# Set the device (cuda for Nvidia GPUs, mps for M1, M2 .. Apple Silicon)\n",
        "if torch.cuda.is_available():\n",
        "    device = \"cuda\"\n",
        "elif torch.backends.mps.is_available():\n",
        "    device = \"mps\"\n",
        "else:\n",
        "    device = \"cpu\""
      ]
    },
    {
      "cell_type": "markdown",
      "metadata": {
        "id": "FFQrCrM-ol0w"
      },
      "source": [
        "# DATASET"
      ]
    },
    {
      "cell_type": "code",
      "execution_count": null,
      "metadata": {
        "colab": {
          "base_uri": "https://localhost:8080/"
        },
        "id": "1mHN7T9Rol0x",
        "outputId": "6d8b8eef-3135-4b49-f113-9ac4548ea7aa"
      },
      "outputs": [],
      "source": [
        "link_zipped_csv = 'https://drive.google.com/file/d/1MssQF4pI_rZqiiDBP4XaLTT1ZaN6ykLm/view?usp=drive_link'\n",
        "gdrive_link = 'https://drive.google.com/uc?id='\n",
        "csv_dir = './csv'\n",
        "zipped_file = './csv.zip'\n",
        "\n",
        "download_csv(\n",
        "    link_zipped_csv,\n",
        "    gdrive_link,\n",
        "    zipped_file\n",
        ")\n",
        "\n",
        "unzip_csv(\n",
        "    zipped_file,\n",
        "    csv_dir,\n",
        ")\n"
      ]
    },
    {
      "cell_type": "code",
      "execution_count": null,
      "metadata": {
        "id": "eKLx-ldvGxvs"
      },
      "outputs": [],
      "source": [
        "if not skip:\n",
        "\n",
        "    path = '/content/csv/thermal_drift_features_lab_05_02.csv'\n",
        "\n",
        "    # Read all the CSV files containing the Temperatures\n",
        "    features_1 = pd.read_csv(os.path.join(prefix,'csv/thermal_drift_features_lab_05_02.csv'))\n",
        "    features_2 = pd.read_csv(os.path.join(prefix, 'csv/thermal_drift_features_lab_05_03.csv'))\n",
        "    features_3 = pd.read_csv(os.path.join(prefix,'csv/thermal_drift_features_lab_05_04.csv'))\n",
        "    features_4 = pd.read_csv(os.path.join(prefix,'csv/thermal_drift_features_lab_05_05.csv'))\n",
        "    features_5 = pd.read_csv(os.path.join(prefix,'csv/thermal_drift_features_lab_05_06.csv'))\n",
        "\n",
        "    # Read all the CSV files containing the X1, Y1, Z1 \n",
        "    targets_1 = pd.read_csv(os.path.join(prefix,'csv/thermal_drift_targets_lab_05_02.csv'))\n",
        "    targets_2 = pd.read_csv(os.path.join(prefix,'csv/thermal_drift_targets_lab_05_03.csv'))\n",
        "    targets_3 = pd.read_csv(os.path.join(prefix,'csv/thermal_drift_targets_lab_05_04.csv'))\n",
        "    targets_4 = pd.read_csv(os.path.join(prefix,'csv/thermal_drift_targets_lab_05_05.csv'))\n",
        "    targets_5 = pd.read_csv(os.path.join(prefix,'csv/thermal_drift_targets_lab_05_06.csv'))\n",
        "    \n",
        "    # Normalized columns files for X1, Y1, Z1 for the plot\n",
        "    targets_norm_1= normalize_columns(targets_1, ['X1','Y1','Z1'], -1, 1)\n",
        "    targets_norm_2= normalize_columns(targets_2, ['X1','Y1','Z1'], -1, 1)\n",
        "    targets_norm_3= normalize_columns(targets_3, ['X1','Y1','Z1'], -1, 1)\n",
        "    targets_norm_4= normalize_columns(targets_4, ['X1','Y1','Z1'], -1, 1)\n",
        "    targets_norm_5= normalize_columns(targets_5, ['X1','Y1','Z1'], -1, 1)\n",
        "    \n",
        "    features_norm_1= normalize_columns(features_1, ['Temp Sensor 1','Temp Sensor 2', 'Temp Sensor 3', 'Temp Sensor 4'], -1, 1)\n",
        "    features_norm_2= normalize_columns(features_2, ['Temp Sensor 1','Temp Sensor 2', 'Temp Sensor 3', 'Temp Sensor 4'], -1, 1)\n",
        "    features_norm_3= normalize_columns(features_3, ['Temp Sensor 1','Temp Sensor 2', 'Temp Sensor 3', 'Temp Sensor 4'], -1, 1)\n",
        "    features_norm_4= normalize_columns(features_4, ['Temp Sensor 1','Temp Sensor 2', 'Temp Sensor 3', 'Temp Sensor 4'], -1, 1)\n",
        "    features_norm_5= normalize_columns(features_5, ['Temp Sensor 1','Temp Sensor 2', 'Temp Sensor 3', 'Temp Sensor 4'], -1, 1)\n",
        "\n",
        "    # Create a list of features and targets to use for the next drop\n",
        "    if hyper_parameters['norm']:\n",
        "        features = [features_norm_1, features_norm_2, features_norm_3, features_norm_4, features_norm_5]\n",
        "        targets = [targets_norm_1,targets_norm_2,targets_norm_3,targets_norm_4,targets_norm_4]\n",
        "    else:\n",
        "        features = [features_1, features_2, features_3, features_4, features_5]\n",
        "        targets = [targets_1,targets_2,targets_3,targets_4,targets_5]\n",
        "        \n",
        "        \n"
      ]
    },
    {
      "cell_type": "code",
      "execution_count": null,
      "metadata": {},
      "outputs": [],
      "source": [
        "if not skip:\n",
        "    for feature, target in zip(features, targets):\n",
        "        feature.drop([\n",
        "            \"name\", \"tags\",\n",
        "            \"2\\\"Tray1 Vacuum Sensor\", \"2\\\"Tray2 Vacuum Sensor\", \"2\\\"Tray3 Vacuum Sensor\",\n",
        "            \"Avg Oven Temperature\", \"Chuck Temp [Cdeg]\", \"Chuck Temp2 [Cdeg]\",\n",
        "            \"Chuck1 Vacuum Sensor\", \"Contrast\", \"Device State\",\n",
        "            \"Dispenser1 Pressure Sensor\", \"Machine Room Temp\", \"Main Air\", \"Main Vacuum\",\n",
        "            \"Oven Temperature\", \"PE_Rx\", \"PE_Ry\", \"PE_Rz\", \"PE_X1\", \"PE_Y1\", \"PE_Z1\",\n",
        "            \"PUT1 Flow Sensor\", \"PUT2 Flow Sensor1\", \"PUT2 Flow Sensor2\",\n",
        "            \"PUT2 Flow Sensor3\", \"PUT2 Flow Sensor4\", \"PUT2 Flow Sensor5\",\n",
        "            \"Photodiode\", \"Pixel Power\", \"Preciser1 Vacuum Sensor\",\n",
        "            \"Tec FIB1 Holder\", \"Tec FIB1 Plate\", \"Tec FIB2 Holder\", \"Tec FIB2 Plate\",\n",
        "            \"Torque11\",\"Torque2\",\"Torque3\",\"Torque4\",\"Torque5\",\"Torque6\"\n",
        "        ], axis=1, inplace=True)\n",
        "        if 'name' in target.keys() and 'tags' in target.keys():\n",
        "\n",
        "            target.drop(['name', 'tags'], axis=1, inplace=True)\n",
        "            \n",
        "            \n"
      ]
    },
    {
      "cell_type": "code",
      "execution_count": null,
      "metadata": {
        "colab": {
          "base_uri": "https://localhost:8080/",
          "height": 424
        },
        "id": "qUZH1JpDfNY0",
        "outputId": "694acf4b-ac9a-401f-f4ef-d6b8105ebf1b"
      },
      "outputs": [],
      "source": [
        "if not skip:\n",
        "    print(features[1]) # Print the features_1 table"
      ]
    },
    {
      "cell_type": "code",
      "execution_count": null,
      "metadata": {
        "cellView": "form",
        "colab": {
          "base_uri": "https://localhost:8080/",
          "height": 363
        },
        "id": "OtsO4hF1fHUU",
        "outputId": "3b3e33b6-a0eb-474b-814a-67338bee9fdd"
      },
      "outputs": [],
      "source": [
        "if not skip:\n",
        "\n",
        "    print(targets[1]) # Print the target_1"
      ]
    },
    {
      "cell_type": "code",
      "execution_count": null,
      "metadata": {
        "id": "H7L8dLyMmesB"
      },
      "outputs": [],
      "source": [
        "if not skip:\n",
        "    # Put X1, Y1, Z1 on the same row of X1 eliminating the NAN values\n",
        "    fixed_targets = [] # Create a list of target in which we put X1, Y1, Z1 in the same row\n",
        "    for target in targets:\n",
        "        fixed_targets.append(transform_dataframe(target)) # iterate over target_1,2,3 ... and append in fixed_targets\n",
        "        \n",
        "        "
      ]
    },
    {
      "cell_type": "code",
      "execution_count": null,
      "metadata": {
        "colab": {
          "base_uri": "https://localhost:8080/",
          "height": 424
        },
        "id": "23LmYWUfmqDM",
        "outputId": "fc9873f7-b53c-4dbc-a2bd-b0cf9fab7f2c"
      },
      "outputs": [],
      "source": [
        "if not skip:\n",
        "\n",
        "    print(fixed_targets[1]) # Print the fixed_target_1"
      ]
    },
    {
      "cell_type": "code",
      "execution_count": null,
      "metadata": {
        "id": "DOVEQQeQr36x"
      },
      "outputs": [],
      "source": [
        "if not skip:\n",
        "    # Merge of targets with features in one single dataframe\n",
        "    complete_numbers_list = [] # List of the table with columns that are numbers (0,1,2..) in which we unify both features and targets merging on closest time row\n",
        "    for fixed_target, feature in zip(fixed_targets, features):\n",
        "        complete_numbers_list.append(merge_on_closest_time(fixed_target.reset_index(), feature.reset_index()))\n",
        "\n",
        "    trainig_number_list = []\n",
        "    testing_number_list = []\n",
        "    for i in range(len(complete_numbers_list)):\n",
        "        part_numbers_list = complete_numbers_list[:i] + complete_numbers_list[i+1:]\n",
        "        trainig_number_list.append(pd.concat(part_numbers_list))\n",
        "        testing_number_list.append(complete_numbers_list[i])\n",
        "        \n",
        "    complete_numbers_dataframe = pd.concat(complete_numbers_list)\n",
        "    \n"
      ]
    },
    {
      "cell_type": "code",
      "execution_count": null,
      "metadata": {},
      "outputs": [],
      "source": [
        "if not skip: \n",
        "    print(complete_numbers_list) # Print of one example"
      ]
    },
    {
      "cell_type": "code",
      "execution_count": null,
      "metadata": {
        "id": "m39ldRHjsbJH"
      },
      "outputs": [],
      "source": [
        "if not skip:\n",
        "\n",
        "    complete = complete_numbers_dataframe.rename(columns={\n",
        "        0: 'id',\n",
        "        1: 'time',\n",
        "        2: 'X1',\n",
        "        3: 'Y1',\n",
        "        4: 'Z1',\n",
        "        5: 'to_remove',\n",
        "        6: 'time_2',\n",
        "        7: 'Temp1',\n",
        "        8: 'Temp2',\n",
        "        9: 'Temp3',\n",
        "        10: 'Temp4'\n",
        "        })\n",
        "    complete.drop(['time', 'to_remove', 'time_2'], axis=1, inplace=True)\n",
        "    training_list = []\n",
        "    testing_list = []\n",
        "    for training, testing in zip(trainig_number_list, testing_number_list):\n",
        "        training_tmp = training.rename(columns={\n",
        "            0: 'id',\n",
        "            1: 'time',\n",
        "            2: 'X1',\n",
        "            3: 'Y1',\n",
        "            4: 'Z1',\n",
        "            5: 'to_remove',\n",
        "            6: 'time_2',\n",
        "            7: 'Temp1',\n",
        "            8: 'Temp2',\n",
        "            9: 'Temp3',\n",
        "            10: 'Temp4'\n",
        "            })\n",
        "        training_tmp.drop(['time', 'to_remove', 'time_2'], axis=1, inplace=True)\n",
        "        training_list.append(training_tmp)\n",
        "        \n",
        "        testing_tmp = testing.rename(columns={\n",
        "            0: 'id',\n",
        "            1: 'time',\n",
        "            2: 'X1',\n",
        "            3: 'Y1',\n",
        "            4: 'Z1',\n",
        "            5: 'to_remove',\n",
        "            6: 'time_2',\n",
        "            7: 'Temp1',\n",
        "            8: 'Temp2',\n",
        "            9: 'Temp3',\n",
        "            10: 'Temp4'\n",
        "            })\n",
        "        testing_tmp.drop(['time', 'to_remove', 'time_2'], axis=1, inplace=True)\n",
        "        testing_list.append(testing_tmp)\n",
        "        "
      ]
    },
    {
      "cell_type": "code",
      "execution_count": null,
      "metadata": {},
      "outputs": [],
      "source": [
        "if not skip:\n",
        "\n",
        "    print(training_list)"
      ]
    },
    {
      "cell_type": "code",
      "execution_count": null,
      "metadata": {},
      "outputs": [],
      "source": [
        "if not skip:\n",
        "    '''\n",
        "    complete.astype(float)\n",
        "\n",
        "    X = complete[['Temp1','Temp2', 'Temp3', 'Temp4']]\n",
        "    Y = complete[['X1', 'Y1', 'Z1']]\n",
        "\n",
        "    Y = Y.values.astype(np.float32)\n",
        "    Y = my_gradient(Y, window_size=hyper_parameters['window_size'])\n",
        "    \n",
        "     \n",
        "    X = X.values.astype(np.float32)\n",
        "    X /= 100\n",
        "    X = X[len(X):20]\n",
        "    '''\n",
        "    print(hyper_parameters['window_size'])\n",
        "    # Save the features and targets in file npy\n",
        "    #np.save(prefix+'/X'+str(hyper_parameters['window_size'])+'.npy',X)\n",
        "    #np.save(prefix+'/Y'+str(hyper_parameters['window_size'])+'.npy',Y)\n",
        "    for i, (testing, training) in enumerate(zip(testing_list, training_list)):\n",
        "        trainingx = normalize_columns(training, ['Temp1','Temp2', 'Temp3', 'Temp4'],-1,1)\n",
        "        trainingy = normalize_columns(training, ['X1', 'Y1', 'Z1'],-1,1)\n",
        "        training.astype(float)\n",
        "        #print(training)\n",
        "        X = trainingx[['Temp1','Temp2', 'Temp3', 'Temp4']]\n",
        "        Y = trainingy[['X1', 'Y1', 'Z1']]\n",
        "        \n",
        "        Y = Y.values.astype(np.float32)\n",
        "        Y = my_gradient(Y, window_size=hyper_parameters['window_size'])\n",
        "        Y = normalize_array(Y,-1,1)\n",
        "        \n",
        "        X = X.values.astype(np.float32)\n",
        "        print('training'+str(i))\n",
        "        print('X',len(X))\n",
        "        print(np.max(X))\n",
        "        print('Y',len(Y))\n",
        "        print(np.max(Y[:,0]))\n",
        "        print(np.max(Y[:,1]))\n",
        "        print(np.max(Y[:,2]))\n",
        "        # Save the features and targets in file npy\n",
        "        np.save(prefix+'/X'+str(hyper_parameters['window_size'])+'training'+str(i)+str(hyper_parameters['norm'])+'.npy',X)\n",
        "        np.save(prefix+'/Y'+str(hyper_parameters['window_size'])+'training'+str(i)+str(hyper_parameters['norm'])+'.npy',Y)\n",
        "        testingx = normalize_columns(testing, ['Temp1','Temp2', 'Temp3', 'Temp4'],-1,1)\n",
        "        testingy = normalize_columns(testing, ['X1', 'Y1', 'Z1'],-1,1)\n",
        "        testing.astype(float)\n",
        "\n",
        "        X = testingx[['Temp1','Temp2', 'Temp3', 'Temp4']]\n",
        "        Y = testingy[['X1', 'Y1', 'Z1']]\n",
        "\n",
        "        Y = Y.values.astype(np.float32)\n",
        "        Y = my_gradient(Y, window_size=hyper_parameters['window_size'])\n",
        "        Y = normalize_array(Y,-1,1)\n",
        "        \n",
        "        X = X.values.astype(np.float32)\n",
        "        print('testing'+str(i))\n",
        "        print('X',len(X))\n",
        "        print(np.max(X))\n",
        "        print('Y',len(Y))\n",
        "        print(np.max(Y))     \n",
        "        # Save the features and targets in file npy\n",
        "        np.save(prefix+'/X'+str(hyper_parameters['window_size'])+'testing'+str(i)+str(hyper_parameters['norm'])+'.npy',X)\n",
        "        np.save(prefix+'/Y'+str(hyper_parameters['window_size'])+'testing'+str(i)+str(hyper_parameters['norm'])+'.npy',Y)\n"
      ]
    },
    {
      "cell_type": "code",
      "execution_count": null,
      "metadata": {},
      "outputs": [],
      "source": [
        "if not skip:\n",
        "\n",
        "    targets_norm_1['time'] = pd.to_datetime(targets_norm_1['time'], unit='ns')\n",
        "\n",
        "    # Reshape the DataFrame using melt()\n",
        "    targets_melted = targets_norm_1.reset_index().melt(id_vars=['time'], value_vars=['X1', 'Y1', 'Z1'], var_name='variable', value_name='value')\n",
        "\n",
        "    # Drop rows where 'value' is NaN (to keep only the non-null entries)\n",
        "    targets_melted = targets_melted.dropna(subset=['value'])\n",
        "\n",
        "    # Plot the data\n",
        "    plt.figure(figsize=(10, 6))\n",
        "    for var in targets_melted['variable'].unique():\n",
        "        # Filter data for each variable and plot\n",
        "        temp_df = targets_melted[targets_melted['variable'] == var]\n",
        "        plt.plot(temp_df['time'], temp_df['value'], label=var)\n",
        "\n",
        "    # Add labels and title\n",
        "    plt.xlabel('Time')\n",
        "    plt.ylabel('Values')\n",
        "    plt.title('Plot of X1, Y1, Z1 over Time')\n",
        "    plt.legend(title='Variable')\n",
        "\n",
        "    # Show the plot\n",
        "    plt.show()\n",
        "\n",
        "    #targets.plot(y='X1',x='time')"
      ]
    },
    {
      "cell_type": "code",
      "execution_count": null,
      "metadata": {},
      "outputs": [],
      "source": [
        "if not skip:\n",
        "\n",
        "    # Convert 'time' to datetime (nanoseconds to datetime)\n",
        "    features_1['time'] = pd.to_datetime(features_1['time'], unit='ns')\n",
        "\n",
        "    # Set 'time' as the index\n",
        "    features_1.set_index('time', inplace=True)\n",
        "\n",
        "    # Optionally, you can plot X1, Y1, Z1 directly\n",
        "    features_1[['Temp Sensor 1', 'Temp Sensor 2', 'Temp Sensor 3', 'Temp Sensor 4', ]].plot()\n",
        "\n",
        "    # Add labels and title\n",
        "    plt.xlabel('Time')\n",
        "    plt.ylabel('Values')\n",
        "    plt.title('Plot of Temp Sensor 1, Temp Sensor 2, Temp Sensor 3, Temp Sensor 4 over Time')\n",
        "\n",
        "    # Show the plot\n",
        "    plt.show()"
      ]
    },
    {
      "cell_type": "code",
      "execution_count": null,
      "metadata": {},
      "outputs": [],
      "source": [
        "if skip:\n",
        "    # If skip is true, we simply load the data \n",
        "    X = np.load(prefix+'/X'+str(hyper_parameters['window_size'])+'training'+str(hyper_parameters['file'])+'.npy')\n",
        "    Y = np.load(prefix+'/Y'+str(hyper_parameters['window_size'])+'training'+str(hyper_parameters['file'])+'.npy')\n",
        "\n",
        "print(X)\n",
        "print(Y)\n",
        "\n",
        "splitPerc = [0.7,0.3]\n",
        "splitted_X = split(X, splitPerc)\n",
        "splitted_Y = split(Y, splitPerc)"
      ]
    },
    {
      "cell_type": "code",
      "execution_count": null,
      "metadata": {},
      "outputs": [],
      "source": [
        "for i in [15, 20, 25]:\n",
        "    X = np.load(prefix+'/X'+str(i)+'.npy')\n",
        "    Y = np.load(prefix+'/Y'+str(i)+'.npy')\n",
        "\n",
        "    print(X)\n",
        "    print(Y)"
      ]
    },
    {
      "cell_type": "markdown",
      "metadata": {
        "id": "pnlFgCAkol0x"
      },
      "source": [
        "# MODEL"
      ]
    },
    {
      "cell_type": "code",
      "execution_count": null,
      "metadata": {},
      "outputs": [],
      "source": [
        "datasetTrain = thermal_dataset((splitted_X[0],splitted_Y[0]), hyper_parameters['timesteps'], device)\n",
        "datasetVal = thermal_dataset((splitted_X[1],splitted_Y[1]), hyper_parameters['timesteps'], device)"
      ]
    },
    {
      "cell_type": "code",
      "execution_count": null,
      "metadata": {
        "id": "BbEyWHlGEJHm"
      },
      "outputs": [],
      "source": [
        "# Training, Test and Validation Dataloader initialization\n",
        "loaderTrain = DataLoader(datasetTrain, shuffle=True, batch_size=hyper_parameters['batch_size'])\n",
        "loaderVal = DataLoader(datasetVal, shuffle=True, batch_size=hyper_parameters['batch_size'])\n",
        "\n",
        "# Model Initialization (True if you want to use the Ensemble model, False in you want to use a single LSTM model)\n",
        "if hyper_parameters['ensemble'] == False:\n",
        "    model = lstm_only(hidden_dim=hyper_parameters['hidden_dim'],\n",
        "                      timesteps=hyper_parameters['timesteps'] ,\n",
        "                      input_dim=4, \n",
        "                      output_dim=3).to(device)\n",
        "    \n",
        "elif hyper_parameters['ensemble'] == True:\n",
        "    if hyper_parameters['extractor_type'] == 'autoencoder':\n",
        "        model = complete_model_autoencoder(ensemble_model, \n",
        "                                           device, \n",
        "                                           in_kern_out=conv_autoencoder_dict['in_kern_out'], \n",
        "                                           pooling_kernel_size=conv_autoencoder_dict['pooling_kernel_size'], \n",
        "                                           padding=conv_autoencoder_dict['padding'], \n",
        "                                           pooling=conv_autoencoder_dict['pooling'], \n",
        "                                           scale_factor = conv_autoencoder_dict['scale_factor'], \n",
        "                                           upsample_mode=conv_autoencoder_dict['upsample_mode'], \n",
        "                                           mode='auto-weighted'\n",
        "                                           ).to(device)\n",
        "    else:\n",
        "        model = complete_model(hidden_dim=hyper_parameters['hidden_dim'], \n",
        "                               input_dim=4, \n",
        "                               model_dict=ensemble_model, \n",
        "                               device=device, \n",
        "                               mode=hyper_parameters['mode'], \n",
        "                               extractor_type=hyper_parameters['extractor_type']).to(device)\n",
        "\n",
        "# Definition of the optimizer and loss function\n",
        "\n",
        "if hyper_parameters['ensemble'] == False:\n",
        "    optimizer = optim.Adam(model.parameters(), lr=hyper_parameters['lr'])\n",
        "elif hyper_parameters['ensemble'] == True:\n",
        "    lr_multipliers = {\n",
        "        mlp: 1,\n",
        "        linear: 10,\n",
        "        rnn: 2,\n",
        "        lstm: 1,\n",
        "        cnn: 1,\n",
        "        'extractor': 0.25\n",
        "    }\n",
        "\n",
        "\n",
        "    models, arima, rnn_ = model.get_models()\n",
        "    list_models = models + arima + rnn_ \n",
        "    optimizer = [optim.Adam(model.extractor.parameters(), lr=hyper_parameters['lr']*lr_multipliers['extractor'])]\n",
        "    for sub_model in list_models: \n",
        "        for model_type, multiplier in lr_multipliers.items():\n",
        "            if isinstance(sub_model, model_type):\n",
        "                optimizer.append(optim.Adam(model.parameters(), lr=hyper_parameters['lr']*multiplier, weight_decay=hyper_parameters['weight_decay']))\n",
        "                break\n",
        "    print(len(optimizer))\n",
        "\n",
        "\n",
        "loss_fn = nn.MSELoss()\n",
        "if hyper_parameters['ensemble'] == False:\n",
        "    scheduler = ExponentialLR(optimizer, gamma=0.75)\n",
        "elif hyper_parameters['ensemble'] == True:\n",
        "    scheduler = [ExponentialLR(opti, gamma=0.75) for opti in optimizer]\n",
        "model"
      ]
    },
    {
      "cell_type": "code",
      "execution_count": null,
      "metadata": {},
      "outputs": [],
      "source": [
        "\n",
        "train(\n",
        "    num_epochs=hyper_parameters['num_epochs'],\n",
        "    loss_fn=loss_fn,\n",
        "    model=model,\n",
        "    optimizer=optimizer,\n",
        "    scheduler=scheduler,\n",
        "    training_dataloader=loaderTrain,\n",
        "    validation_dataloader=loaderVal,\n",
        "    hyperparams=hyper_parameters,\n",
        "    model_dict = ensemble_model,\n",
        "    autoencoder_dict=conv_autoencoder_dict,\n",
        "    complete=hyper_parameters['ensemble']\n",
        ")\n"
      ]
    },
    {
      "cell_type": "markdown",
      "metadata": {},
      "source": [
        "# Test"
      ]
    },
    {
      "cell_type": "code",
      "execution_count": null,
      "metadata": {},
      "outputs": [],
      "source": [
        "# Need to specify a model.pt file to load! In the directory results that you want to test\n",
        "result_path = '/results/training_2025-01-31_10-13' \n",
        "model_path = prefix + result_path +'/model.pt'\n",
        "\n",
        "# Read hyperparameters\n",
        "with open (prefix + result_path + '/hyperparam.json', 'r') as f:\n",
        "    hyperparams = json.load(f)\n",
        "    \n",
        "X = np.load(prefix+'/X'+str(hyper_parameters['window_size'])+'testing'+str(hyper_parameters['file'])+'.npy')\n",
        "Y = np.load(prefix+'/X'+str(hyper_parameters['window_size'])+'testing'+str(hyper_parameters['file'])+'.npy')\n",
        "\n",
        "datasetTest = thermal_dataset((X,Y), hyperparams['timesteps'], device)\n",
        "loaderTest = DataLoader(datasetTest, shuffle=True, batch_size=hyperparams['batch_size'])\n",
        "# Section in which we reinitialize the model for testing depending on the hyperparameters.json and ensemble.json (if present) in the directories of results\n",
        "# Read Ensemble models data (if complete = True)\n",
        "if hyperparams['ensemble'] == True:\n",
        "    # Read Ensemble model parameters and initialize the model\n",
        "    with open (prefix + result_path + '/ensemble.json', 'r') as f:\n",
        "        model_dict = json.load(f)\n",
        "    \n",
        "    model = complete_model(hidden_dim=hyperparams['hidden_dim'], input_dim=4, model_dict=model_dict, device=device, mode=hyperparams['mode'], extractor_type=hyperparams['extractor_type']).to(device)\n",
        "# Otherwise create an LSTM only model\n",
        "else:\n",
        "    model = lstm_only(hidden_dim=hyperparams['hidden_dim'], timesteps=hyperparams['timesteps'] ,input_dim=4, output_dim=3).to(device)\n",
        "\n",
        "if test_flag:\n",
        "    test_metrics, test_loss_avg, total_inference_time, inference_time_avg, y_true_list, y_pred_list = test(\n",
        "        model=model,\n",
        "        model_path=model_path,\n",
        "        test_dataloader=loaderTest,\n",
        "        loss_fn=loss_fn,\n",
        "        complete=hyperparams['ensemble']\n",
        "    )\n",
        "print(\"Test metrics:\")\n",
        "print(f\"rmse: {test_metrics['rmse']} , mae: {test_metrics['mae']}, r2: {test_metrics['r2']}\")\n",
        "print(\"Others:\")\n",
        "print(f\"Average Loss: {test_loss_avg}, Total Inference Time (All Dataset): {total_inference_time}, Average Inference Time: {inference_time_avg}\")\n"
      ]
    },
    {
      "cell_type": "code",
      "execution_count": null,
      "metadata": {},
      "outputs": [],
      "source": [
        "path = prefix + result_path  # type ./results/ensemble_batch_256\n",
        "\n",
        "# Load the dictionaries\n",
        "with open (path + '/train_metrics.json', 'r') as f:\n",
        "    train_metrics = json.load(f)\n",
        "with open (path + '/valid_metrics.json', 'r') as f:\n",
        "    valid_metrics = json.load(f)\n",
        "\n",
        "# Initialize a list of epochs [1,2,3, ...] for the plots x-axis\n",
        "epochs = [i for i in range(1, hyper_parameters['num_epochs']+1)]\n",
        "\n",
        "# Compute training loss as the square of rmse for each element because loss = mse\n",
        "# Both for training and validation\n",
        "training_loss = [rmse**2 for rmse in train_metrics['rmse']] \n",
        "valid_loss = [rmse**2 for rmse in valid_metrics['rmse']] \n",
        "\n",
        "plt.plot(epochs, training_loss, label='Training', color='b')\n",
        "plt.plot(epochs, valid_loss, label='Validation', color='r')\n",
        "plt.title('Loss (RMSE^2)')\n",
        "plt.xlabel('Epochs')\n",
        "plt.ylabel('Loss value')\n",
        "plt.legend()\n",
        "\n",
        "plt.tight_layout()  # This helps to prevent overlapping of subplots\n",
        "plt.savefig(path+'/loss')  # Save the figure to the specified path\n",
        "plt.show()"
      ]
    },
    {
      "cell_type": "code",
      "execution_count": null,
      "metadata": {},
      "outputs": [],
      "source": [
        "path = prefix + result_path  # type ./results/ensemble_batch_256\n",
        "\n",
        "# Load the dictionaries\n",
        "with open (path + '/train_metrics.json', 'r') as f:\n",
        "    train_metrics = json.load(f)\n",
        "with open (path + '/valid_metrics.json', 'r') as f:\n",
        "    valid_metrics = json.load(f)\n",
        "\n",
        "# Initialize a list of epochs [1,2,3, ...] for the plots x-axis\n",
        "epochs = [i for i in range(1, hyper_parameters['num_epochs']+1)]\n",
        "\n",
        "plt.plot(epochs, train_metrics['mae'], label='Training', color='b')\n",
        "plt.plot(epochs, valid_metrics['mae'], label='Validation', color='r')\n",
        "plt.title('Mean Absolute Error')\n",
        "plt.xlabel('Epochs')\n",
        "plt.ylabel('MAE value')\n",
        "plt.legend()\n",
        "\n",
        "plt.tight_layout()  # This helps to prevent overlapping of subplots\n",
        "plt.savefig(path + '/mae')  # Save the figure to the specified path\n",
        "plt.show()"
      ]
    },
    {
      "cell_type": "code",
      "execution_count": null,
      "metadata": {},
      "outputs": [],
      "source": [
        "path = prefix + result_path  # type ./results/ensemble_batch_256\n",
        "\n",
        "# Load the dictionaries\n",
        "with open (path + '/train_metrics.json', 'r') as f:\n",
        "    train_metrics = json.load(f)\n",
        "with open (path + '/valid_metrics.json', 'r') as f:\n",
        "    valid_metrics = json.load(f)\n",
        "\n",
        "# Initialize a list of epochs [1,2,3, ...] for the plots x-axis\n",
        "epochs = [i for i in range(1, hyper_parameters['num_epochs']+1)]\n",
        "\n",
        "plt.plot(epochs, train_metrics['r2'], label='Training', color='b')\n",
        "plt.plot(epochs, valid_metrics['r2'], label='Validation', color='r')\n",
        "plt.title('R2 (Coefficient of determination)')\n",
        "plt.xlabel('Epochs')\n",
        "plt.ylabel('R2 value')\n",
        "plt.legend()\n",
        "\n",
        "plt.tight_layout()  # This helps to prevent overlapping of subplots\n",
        "plt.savefig(path + '/r2')  # Save the figure to the specified path\n",
        "plt.show()"
      ]
    },
    {
      "cell_type": "code",
      "execution_count": null,
      "metadata": {},
      "outputs": [],
      "source": [
        "# Create the lists of X1, Y1, Z1 true values to plot\n",
        "x1_true = [x[0] for x in y_true_list]\n",
        "y1_true = [y[1] for y in y_true_list]\n",
        "z1_true = [z[2] for z in y_true_list]\n",
        "\n",
        "# Create the lists of X1, Y1, Z1 predicted values to plot\n",
        "x1_pred = [x[0] for x in y_pred_list]\n",
        "y1_pred = [y[1] for y in y_pred_list]\n",
        "z1_pred = [z[2] for z in y_pred_list]\n",
        "\n",
        "# Create x-axis\n",
        "t = [i for i in range(1, len(y_pred_list)+1)]\n"
      ]
    },
    {
      "cell_type": "code",
      "execution_count": null,
      "metadata": {},
      "outputs": [],
      "source": [
        "# Initialize a list of epochs [1,2,3, ...] for the plots x-axis\n",
        "#t = [i for i in range(1, len(Y[:,0])+1)]\n",
        "plt.plot(t, y1_true, label='Ground Truth', color='b')\n",
        "plt.plot(t, x1_pred, label='Prediction', color='r')\n",
        "plt.title('X1 Sequence')\n",
        "plt.xlabel('Time')\n",
        "plt.ylabel('X1')\n",
        "plt.legend()\n",
        "\n",
        "plt.tight_layout()  # This helps to prevent overlapping of subplots\n",
        "#plt.savefig(path + '/r2')  # Save the figure to the specified path\n",
        "plt.show()"
      ]
    },
    {
      "cell_type": "code",
      "execution_count": null,
      "metadata": {},
      "outputs": [],
      "source": [
        "# Initialize a list of epochs [1,2,3, ...] for the plots x-axis\n",
        "\n",
        "plt.plot(t[:100], y1_true[:100], label='Ground Truth', color='b')\n",
        "plt.plot(t[:100], y1_pred[:100], label='Prediction', color='r')\n",
        "plt.title('Y1 Sequence')\n",
        "plt.xlabel('Time')\n",
        "plt.ylabel('Y1')\n",
        "plt.legend()\n",
        "\n",
        "plt.tight_layout()  # This helps to prevent overlapping of subplots\n",
        "#plt.savefig(path + '/r2')  # Save the figure to the specified path\n",
        "plt.show()"
      ]
    },
    {
      "cell_type": "code",
      "execution_count": null,
      "metadata": {},
      "outputs": [],
      "source": [
        "# Initialize a list of epochs [1,2,3, ...] for the plots x-axis\n",
        "\n",
        "plt.plot(t, z1_true, label='Ground Truth', color='b')\n",
        "plt.plot(t, z1_pred, label='Prediction', color='r')\n",
        "plt.title('Z1 Sequence')\n",
        "plt.xlabel('Time')\n",
        "plt.ylabel('Z1')\n",
        "plt.legend()\n",
        "\n",
        "plt.tight_layout()  # This helps to prevent overlapping of subplots\n",
        "#plt.savefig(path + '/r2')  # Save the figure to the specified path\n",
        "plt.show()"
      ]
    }
  ],
  "metadata": {
    "colab": {
      "provenance": []
    },
    "kernelspec": {
      "display_name": ".venv",
      "language": "python",
      "name": "python3"
    },
    "language_info": {
      "codemirror_mode": {
        "name": "ipython",
        "version": 3
      },
      "file_extension": ".py",
      "mimetype": "text/x-python",
      "name": "python",
      "nbconvert_exporter": "python",
      "pygments_lexer": "ipython3",
      "version": "3.13.1"
    }
  },
  "nbformat": 4,
  "nbformat_minor": 0
}
