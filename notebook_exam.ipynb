{
  "cells": [
    {
      "cell_type": "markdown",
      "metadata": {
        "id": "l3O4mXmBol0t"
      },
      "source": [
        "# IMPORT"
      ]
    },
    {
      "cell_type": "code",
      "execution_count": 1,
      "metadata": {},
      "outputs": [],
      "source": [
        "try:\n",
        "    import google.colab # type: ignore\n",
        "    colab = True\n",
        "except:\n",
        "    colab = False\n",
        "\n",
        "if colab:\n",
        "    !git clone \"https://github.com/cybernetic-m/eai-project.git\" # type: ignore"
      ]
    },
    {
      "cell_type": "code",
      "execution_count": 2,
      "metadata": {
        "id": "9gQw18CXol0v"
      },
      "outputs": [],
      "source": [
        "# Model\n",
        "import torch\n",
        "import torch.nn as nn\n",
        "from torch.utils.data import DataLoader\n",
        "from torch import optim\n",
        "from torch.optim.lr_scheduler import ExponentialLR \n",
        "\n",
        "# Others\n",
        "import pandas as pd\n",
        "import numpy as np\n",
        "import matplotlib.pyplot as plt\n",
        "import os\n",
        "import sys\n",
        "import json\n",
        "from sklearn.preprocessing import StandardScaler, MinMaxScaler\n",
        "import pickle\n",
        " \n",
        "# Our files\n",
        "if colab:\n",
        "    sys.path.append('/content/eai-project/training')\n",
        "    sys.path.append('/content/eai-project/preprocessing')\n",
        "    sys.path.append('/content/eai-project/dataset')\n",
        "    sys.path.append('/content/eai-project/utils')\n",
        "    sys.path.append('/content/eai-project/models')\n",
        "    sys.path.append('/content/eai-project/testing')\n",
        "    from train import train\n",
        "    from preprocessing import *\n",
        "    from thermal_dataset import thermal_dataset \n",
        "    from utils import *\n",
        "    from complete_model import complete_model \n",
        "    from lstm_only import lstm_only\n",
        "    from testing import test\n",
        "    prefix = '/content'\n",
        "        \n",
        "else:\n",
        "    from training.train import train\n",
        "    from preprocessing.preprocessing import *\n",
        "    from dataset.thermal_dataset import thermal_dataset\n",
        "    from utils.csv_utils import *\n",
        "    from models.complete_model import complete_model\n",
        "    from models.complete_model import complete_model_autoencoder\n",
        "    from models.lstm_only import lstm_only\n",
        "    from testing.test import test\n",
        "    from blocks import mlp, linear, rnn, lstm\n",
        "    prefix = '.'\n",
        "    \n",
        "pd.set_option('display.max_columns', None)"
      ]
    },
    {
      "cell_type": "code",
      "execution_count": 3,
      "metadata": {},
      "outputs": [],
      "source": [
        "hyper_parameters = {'num_epochs': 100,\n",
        "                    'batch_size': 256,\n",
        "                    'hidden_dim' : 3,\n",
        "                    'lr': 0.001,\n",
        "                    'mode': 'auto-weighted', #average, median, auto-weighted\n",
        "                    'extractor_type': 'lstm_autoencoder', #lstm_autoencoder (if you want to use the lstm autoencoder), conv (if you want to use the convolutional autoencoder) or lstm_encoder (if you want to use only the lstm encoder)\n",
        "                    'ensemble': True,\n",
        "                    'timesteps': 200,\n",
        "                    'window_size':30,\n",
        "                    'norm': 'Std', # Not (Raw Data), Minmax (MinMax Scaling), Std (Standard Scaling)\n",
        "                    'file':1,\n",
        "                    'weight_decay': 0,\n",
        "                    'pretrain':False,\n",
        "                    'autoencoder_train' : True, # to train only the autoencoder\n",
        "                    'heterogeneous': True,\n",
        "                    'lr_multipliers_extractor': 1,\n",
        "                    'lr_multipliers_ensemble': {\n",
        "                        mlp: 1,\n",
        "                        linear: 1,\n",
        "                        rnn: 1,\n",
        "                        lstm: 1,\n",
        "                    }\n",
        "\n",
        "                        }\n",
        "\n",
        "# Parameters of the convolutional autoencoder\n",
        "conv_autoencoder_dict = {'in_kern_out': [[4, 3, 5]], # List of hyperparam of autoencoder [[in_channels, kernel_size, out_channels], ...]\n",
        "                    'pooling_kernel_size': 2, # how much big is the kernel of the pooling (i.e. 2 means halving the dimension each layer)\n",
        "                    'padding': 'same', # 'same', 'full', 'valid'\n",
        "                    'pooling': 'avg', # 'max' for Max Pooling and 'avg' for Average Pooling \n",
        "                    'scale_factor': 2, # upsample scale_factor, 2 means double the dimension each layer\n",
        "                    'upsample_mode': 'linear', # mode of the upsampling 'linear', 'nearest'\n",
        "                    'dropout': 0.0\n",
        " }\n",
        "\n",
        "lstm_autoencoder_dict = {'in_hidd': [[4, 2]], # List of hyperparam of autoencoder [[input_dim, hidden_dim], ...]\n",
        "                        'dropout': 0.3,\n",
        "                        'lstm_layers':1,\n",
        " }\n",
        "\n",
        "\n",
        "if hyper_parameters['extractor_type'] == 'conv':\n",
        "    feature_dim = int(( hyper_parameters['timesteps'] / (2**(len(conv_autoencoder_dict['in_kern_out'])-1))*conv_autoencoder_dict['in_kern_out'][-1][-1]) /2)\n",
        "    autoencoder_dict = conv_autoencoder_dict\n",
        "elif hyper_parameters['extractor_type'] == 'lstm_autoencoder' or hyper_parameters['extractor_type'] == 'lstm_encoder':\n",
        "    feature_dim = hyper_parameters['timesteps']*lstm_autoencoder_dict['in_hidd'][-1][-1] \n",
        "    autoencoder_dict = lstm_autoencoder_dict\n",
        "if hyper_parameters['heterogeneous']:\n",
        "    feature_dim += 3\n",
        "    \n",
        "\n",
        "# Definition of the model (You can decomment to include more models)\n",
        "if hyper_parameters['autoencoder_train'] == False:\n",
        "    ensemble_model = {\n",
        "        'mlp': [{'layer_dim_list': [ feature_dim,int(feature_dim/1.5),int(feature_dim/3),int(feature_dim/5),int(feature_dim/8),int(feature_dim/10),3]}],\n",
        "                #{'layer_dim_list': [ feature_dim,int(feature_dim*1.5),3]}], \n",
        "        #'ARIMA': [{'p': 2, 'd': 0, 'q': 2, 'ps': 0, 'ds': 0, 'qs': 0, 's': 1}], \n",
        "        'linear_regressor': [{'in_features': feature_dim, 'out_features': 3, 'bias':False}],\n",
        "        'lstm': [{'feature_dim':3, 'input_dim':feature_dim, 'out_features': 3, 'bias':False, 'num_layers':2}],\n",
        "        #'rnn': [{'feature_dim':3, 'input_dim':feature_dim, 'out_features': 3, 'bias':False, 'num_layers':2}],\n",
        "    }\n",
        "\n",
        "else:\n",
        "    ensemble_model = {} # Set the dictionary of the ensemble model to void if we want to train only the autoencoder"
      ]
    },
    {
      "cell_type": "code",
      "execution_count": 4,
      "metadata": {},
      "outputs": [
        {
          "name": "stdout",
          "output_type": "stream",
          "text": [
            "Data already exists!\n",
            "./data/Xtraining1.npy\n",
            "./data/Y30training1.npy\n"
          ]
        }
      ],
      "source": [
        "skip = False\n",
        "\n",
        "if os.path.exists(prefix+'/data/X'+'training'+str(hyper_parameters['file'])+'.npy') and os.path.exists(prefix+'/data/Y'+str(hyper_parameters['window_size'])+'training'+str(hyper_parameters['file'])+'.npy'):\n",
        "    print(\"Data already exists!\")\n",
        "    print(prefix+'/data/X'+'training'+str(hyper_parameters['file'])+'.npy')\n",
        "    print(prefix+'/data/Y'+str(hyper_parameters['window_size'])+'training'+str(hyper_parameters['file'])+'.npy')\n",
        "    skip = True"
      ]
    },
    {
      "cell_type": "markdown",
      "metadata": {},
      "source": [
        "**Reproducibility and Device Setting**"
      ]
    },
    {
      "cell_type": "code",
      "execution_count": 5,
      "metadata": {},
      "outputs": [],
      "source": [
        "# Set a seed for reproducibility purposes\n",
        "seed = 46\n",
        "torch.manual_seed(seed)\n",
        "torch.backends.cudnn.deterministic = True\n",
        "torch.backends.cudnn.benchmark = False\n",
        "np.random.seed(seed)\n",
        "\n",
        "# Set the device (cuda for Nvidia GPUs, mps for M1, M2 .. Apple Silicon)\n",
        "if torch.cuda.is_available():\n",
        "    device = \"cuda\"\n",
        "elif torch.backends.mps.is_available():\n",
        "    device = \"mps\"\n",
        "else:\n",
        "    device = \"cpu\""
      ]
    },
    {
      "cell_type": "markdown",
      "metadata": {
        "id": "FFQrCrM-ol0w"
      },
      "source": [
        "# DATASET"
      ]
    },
    {
      "cell_type": "code",
      "execution_count": 6,
      "metadata": {
        "colab": {
          "base_uri": "https://localhost:8080/"
        },
        "id": "1mHN7T9Rol0x",
        "outputId": "6d8b8eef-3135-4b49-f113-9ac4548ea7aa"
      },
      "outputs": [
        {
          "name": "stdout",
          "output_type": "stream",
          "text": [
            "CSV file already downloaded!\n",
            "CSV file already unzipped!\n"
          ]
        }
      ],
      "source": [
        "link_zipped_csv = 'https://drive.google.com/file/d/1MssQF4pI_rZqiiDBP4XaLTT1ZaN6ykLm/view?usp=drive_link'\n",
        "gdrive_link = 'https://drive.google.com/uc?id='\n",
        "csv_dir = './csv'\n",
        "zipped_file = './csv.zip'\n",
        "\n",
        "download_csv(\n",
        "    link_zipped_csv,\n",
        "    gdrive_link,\n",
        "    zipped_file\n",
        ")\n",
        "\n",
        "unzip_csv(\n",
        "    zipped_file,\n",
        "    csv_dir,\n",
        ")\n"
      ]
    },
    {
      "cell_type": "code",
      "execution_count": 7,
      "metadata": {
        "id": "eKLx-ldvGxvs"
      },
      "outputs": [],
      "source": [
        "if not skip:\n",
        "\n",
        "    path = '/content/csv/thermal_drift_features_lab_05_02.csv'\n",
        "\n",
        "    # Read all the CSV files containing the Temperatures\n",
        "    features_1 = pd.read_csv(os.path.join(prefix,'csv/thermal_drift_features_lab_05_02.csv'))\n",
        "    features_2 = pd.read_csv(os.path.join(prefix, 'csv/thermal_drift_features_lab_05_03.csv'))\n",
        "    features_3 = pd.read_csv(os.path.join(prefix,'csv/thermal_drift_features_lab_05_04.csv'))\n",
        "    features_4 = pd.read_csv(os.path.join(prefix,'csv/thermal_drift_features_lab_05_05.csv'))\n",
        "    features_5 = pd.read_csv(os.path.join(prefix,'csv/thermal_drift_features_lab_05_06.csv'))\n",
        "\n",
        "    # Read all the CSV files containing the X1, Y1, Z1 \n",
        "    targets_1 = pd.read_csv(os.path.join(prefix,'csv/thermal_drift_targets_lab_05_02.csv'))\n",
        "    targets_2 = pd.read_csv(os.path.join(prefix,'csv/thermal_drift_targets_lab_05_03.csv'))\n",
        "    targets_3 = pd.read_csv(os.path.join(prefix,'csv/thermal_drift_targets_lab_05_04.csv'))\n",
        "    targets_4 = pd.read_csv(os.path.join(prefix,'csv/thermal_drift_targets_lab_05_05.csv'))\n",
        "    targets_5 = pd.read_csv(os.path.join(prefix,'csv/thermal_drift_targets_lab_05_06.csv'))\n",
        "\n",
        "    features = [features_1, features_2, features_3, features_4, features_5]\n",
        "    targets = [targets_1,targets_2,targets_3,targets_4,targets_5]"
      ]
    },
    {
      "cell_type": "code",
      "execution_count": 8,
      "metadata": {},
      "outputs": [],
      "source": [
        "if not skip:\n",
        "    for feature, target in zip(features, targets):\n",
        "        feature.drop([\n",
        "            \"name\", \"tags\",\n",
        "            \"2\\\"Tray1 Vacuum Sensor\", \"2\\\"Tray2 Vacuum Sensor\", \"2\\\"Tray3 Vacuum Sensor\",\n",
        "            \"Avg Oven Temperature\", \"Chuck Temp [Cdeg]\", \"Chuck Temp2 [Cdeg]\",\n",
        "            \"Chuck1 Vacuum Sensor\", \"Contrast\", \"Device State\",\n",
        "            \"Dispenser1 Pressure Sensor\", \"Machine Room Temp\", \"Main Air\", \"Main Vacuum\",\n",
        "            \"Oven Temperature\", \"PE_Rx\", \"PE_Ry\", \"PE_Rz\", \"PE_X1\", \"PE_Y1\", \"PE_Z1\",\n",
        "            \"PUT1 Flow Sensor\", \"PUT2 Flow Sensor1\", \"PUT2 Flow Sensor2\",\n",
        "            \"PUT2 Flow Sensor3\", \"PUT2 Flow Sensor4\", \"PUT2 Flow Sensor5\",\n",
        "            \"Photodiode\", \"Pixel Power\", \"Preciser1 Vacuum Sensor\",\n",
        "            \"Tec FIB1 Holder\", \"Tec FIB1 Plate\", \"Tec FIB2 Holder\", \"Tec FIB2 Plate\",\n",
        "            \"Torque11\",\"Torque2\",\"Torque3\",\"Torque4\",\"Torque5\",\"Torque6\"\n",
        "        ], axis=1, inplace=True)\n",
        "        if 'name' in target.keys() and 'tags' in target.keys():\n",
        "\n",
        "            target.drop(['name', 'tags'], axis=1, inplace=True)\n",
        "            \n",
        "            \n"
      ]
    },
    {
      "cell_type": "code",
      "execution_count": 9,
      "metadata": {
        "colab": {
          "base_uri": "https://localhost:8080/",
          "height": 424
        },
        "id": "qUZH1JpDfNY0",
        "outputId": "694acf4b-ac9a-401f-f4ef-d6b8105ebf1b"
      },
      "outputs": [],
      "source": [
        "if not skip:\n",
        "    print(features[1]) # Print the features_1 table"
      ]
    },
    {
      "cell_type": "code",
      "execution_count": 10,
      "metadata": {
        "cellView": "form",
        "colab": {
          "base_uri": "https://localhost:8080/",
          "height": 363
        },
        "id": "OtsO4hF1fHUU",
        "outputId": "3b3e33b6-a0eb-474b-814a-67338bee9fdd"
      },
      "outputs": [],
      "source": [
        "if not skip:\n",
        "\n",
        "    print(targets[1]) # Print the target_1"
      ]
    },
    {
      "cell_type": "code",
      "execution_count": 11,
      "metadata": {
        "id": "H7L8dLyMmesB"
      },
      "outputs": [],
      "source": [
        "if not skip:\n",
        "    # Put X1, Y1, Z1 on the same row of X1 eliminating the NAN values\n",
        "    fixed_targets = [] # Create a list of target in which we put X1, Y1, Z1 in the same row\n",
        "    for target in targets:\n",
        "        fixed_targets.append(transform_dataframe(target)) # iterate over target_1,2,3 ... and append in fixed_targets\n",
        "        \n",
        "        "
      ]
    },
    {
      "cell_type": "code",
      "execution_count": 12,
      "metadata": {
        "colab": {
          "base_uri": "https://localhost:8080/",
          "height": 424
        },
        "id": "23LmYWUfmqDM",
        "outputId": "fc9873f7-b53c-4dbc-a2bd-b0cf9fab7f2c"
      },
      "outputs": [],
      "source": [
        "if not skip:\n",
        "\n",
        "    print(fixed_targets[1]) # Print the fixed_target_1"
      ]
    },
    {
      "cell_type": "code",
      "execution_count": 13,
      "metadata": {
        "id": "DOVEQQeQr36x"
      },
      "outputs": [],
      "source": [
        "if not skip:\n",
        "    # Merge of targets with features in one single dataframe\n",
        "    complete_numbers_list = [] # List of the table with columns that are numbers (0,1,2..) in which we unify both features and targets merging on closest time row\n",
        "    for fixed_target, feature in zip(fixed_targets, features):\n",
        "        complete_numbers_list.append(merge_on_closest_time(fixed_target.reset_index(), feature.reset_index()))\n",
        "\n",
        "    trainig_number_list = []\n",
        "    testing_number_list = []\n",
        "    for i in range(len(complete_numbers_list)):\n",
        "        part_numbers_list = complete_numbers_list[:i] + complete_numbers_list[i+1:]\n",
        "        trainig_number_list.append(pd.concat(part_numbers_list))\n",
        "        testing_number_list.append(complete_numbers_list[i])\n",
        "        \n",
        "    complete_numbers_dataframe = pd.concat(complete_numbers_list)\n",
        "    \n"
      ]
    },
    {
      "cell_type": "code",
      "execution_count": 14,
      "metadata": {},
      "outputs": [],
      "source": [
        "if not skip: \n",
        "    print(complete_numbers_list) # Print of one example"
      ]
    },
    {
      "cell_type": "code",
      "execution_count": 15,
      "metadata": {
        "id": "m39ldRHjsbJH"
      },
      "outputs": [],
      "source": [
        "if not skip:\n",
        "\n",
        "    complete = complete_numbers_dataframe.rename(columns={\n",
        "        0: 'id',\n",
        "        1: 'time',\n",
        "        2: 'X1',\n",
        "        3: 'Y1',\n",
        "        4: 'Z1',\n",
        "        5: 'to_remove',\n",
        "        6: 'time_2',\n",
        "        7: 'Temp1',\n",
        "        8: 'Temp2',\n",
        "        9: 'Temp3',\n",
        "        10: 'Temp4'\n",
        "        })\n",
        "    complete.drop(['time', 'to_remove', 'time_2'], axis=1, inplace=True)\n",
        "    training_list = []\n",
        "    testing_list = []\n",
        "    for training, testing in zip(trainig_number_list, testing_number_list):\n",
        "        training_tmp = training.rename(columns={\n",
        "            0: 'id',\n",
        "            1: 'time',\n",
        "            2: 'X1',\n",
        "            3: 'Y1',\n",
        "            4: 'Z1',\n",
        "            5: 'to_remove',\n",
        "            6: 'time_2',\n",
        "            7: 'Temp1',\n",
        "            8: 'Temp2',\n",
        "            9: 'Temp3',\n",
        "            10: 'Temp4'\n",
        "            })\n",
        "        training_tmp.drop(['time', 'to_remove', 'time_2'], axis=1, inplace=True)\n",
        "        training_list.append(training_tmp)\n",
        "        \n",
        "        testing_tmp = testing.rename(columns={\n",
        "            0: 'id',\n",
        "            1: 'time',\n",
        "            2: 'X1',\n",
        "            3: 'Y1',\n",
        "            4: 'Z1',\n",
        "            5: 'to_remove',\n",
        "            6: 'time_2',\n",
        "            7: 'Temp1',\n",
        "            8: 'Temp2',\n",
        "            9: 'Temp3',\n",
        "            10: 'Temp4'\n",
        "            })\n",
        "        testing_tmp.drop(['time', 'to_remove', 'time_2'], axis=1, inplace=True)\n",
        "        testing_list.append(testing_tmp)\n",
        "        "
      ]
    },
    {
      "cell_type": "code",
      "execution_count": 16,
      "metadata": {},
      "outputs": [],
      "source": [
        "if not skip:\n",
        "\n",
        "    print(training_list)"
      ]
    },
    {
      "cell_type": "code",
      "execution_count": 17,
      "metadata": {},
      "outputs": [],
      "source": [
        "\n",
        "if not skip:\n",
        "    \n",
        "    # Save the features and targets in file npy\n",
        "    for i, (testing, training) in enumerate(zip(testing_list, training_list)):\n",
        "\n",
        "        # Transform the training and test data in float\n",
        "        training.astype(float) \n",
        "        testing.astype(float) \n",
        "\n",
        "        # Take from dataframe the values of the columns of temperatures and positions saving into smallest dataframe of training/test\n",
        "        X_train = training[['Temp1','Temp2', 'Temp3', 'Temp4']] \n",
        "        Y_train = training[['X1', 'Y1', 'Z1']] \n",
        "        X_test = testing[['Temp1','Temp2', 'Temp3', 'Temp4']] \n",
        "        Y_test = testing[['X1', 'Y1', 'Z1']] \n",
        "\n",
        "        # Transform the X, Y from dataframe in numpy array both for test and train\n",
        "        X_train = X_train.values.astype(np.float32) \n",
        "        Y_train = Y_train.values.astype(np.float32) \n",
        "        X_test = X_test.values.astype(np.float32) \n",
        "        Y_test = Y_test.values.astype(np.float32) \n",
        "\n",
        "        # Do the gradient of the positions both for test and train\n",
        "        Y_train = my_gradient(Y_train, window_size=hyper_parameters['window_size']) \n",
        "        Y_test = my_gradient(Y_test, window_size=hyper_parameters['window_size']) \n",
        " \n",
        "        np.save(prefix+'/data'+'/X'+'training'+str(i)+'.npy',X_train)  \n",
        "        np.save(prefix+'/data'+'/Y'+str(hyper_parameters['window_size'])+'training'+str(i)+'.npy',Y_train)\n",
        "        np.save(prefix+'/data'+'/X'+'testing'+str(i)+'.npy',X_test)\n",
        "        np.save(prefix+'/data'+'/Y'+str(hyper_parameters['window_size'])+'testing'+str(i)+'.npy',Y_test)"
      ]
    },
    {
      "cell_type": "code",
      "execution_count": 18,
      "metadata": {},
      "outputs": [],
      "source": [
        "if not skip:\n",
        "\n",
        "    targets_1['time'] = pd.to_datetime(targets_1['time'], unit='ns')\n",
        "\n",
        "    # Reshape the DataFrame using melt()\n",
        "    targets_melted = targets_1.reset_index().melt(id_vars=['time'], value_vars=['X1', 'Y1', 'Z1'], var_name='variable', value_name='value')\n",
        "\n",
        "    # Drop rows where 'value' is NaN (to keep only the non-null entries)\n",
        "    targets_melted = targets_melted.dropna(subset=['value'])\n",
        "\n",
        "    # Plot the data\n",
        "    plt.figure(figsize=(10, 6))\n",
        "    for var in targets_melted['variable'].unique():\n",
        "        # Filter data for each variable and plot\n",
        "        temp_df = targets_melted[targets_melted['variable'] == var]\n",
        "        plt.plot(temp_df['time'], temp_df['value'], label=var)\n",
        "\n",
        "    # Add labels and title\n",
        "    plt.xlabel('Time')\n",
        "    plt.ylabel('Values')\n",
        "    plt.title('Plot of X1, Y1, Z1 over Time')\n",
        "    plt.legend(title='Variable')\n",
        "\n",
        "    # Show the plot\n",
        "    plt.show()\n",
        "\n",
        "    #targets.plot(y='X1',x='time')"
      ]
    },
    {
      "cell_type": "code",
      "execution_count": 19,
      "metadata": {},
      "outputs": [],
      "source": [
        "if not skip:\n",
        "\n",
        "    # Convert 'time' to datetime (nanoseconds to datetime)\n",
        "    features_1['time'] = pd.to_datetime(features_1['time'], unit='ns')\n",
        "\n",
        "    # Set 'time' as the index\n",
        "    features_1.set_index('time', inplace=True)\n",
        "\n",
        "    # Optionally, you can plot X1, Y1, Z1 directly\n",
        "    features_1[['Temp Sensor 1', 'Temp Sensor 2', 'Temp Sensor 3', 'Temp Sensor 4', ]].plot()\n",
        "\n",
        "    # Add labels and title\n",
        "    plt.xlabel('Time')\n",
        "    plt.ylabel('Values')\n",
        "    plt.title('Plot of Temp Sensor 1, Temp Sensor 2, Temp Sensor 3, Temp Sensor 4 over Time')\n",
        "\n",
        "    # Show the plot\n",
        "    plt.show()"
      ]
    },
    {
      "cell_type": "markdown",
      "metadata": {},
      "source": [
        "## Preprocessing"
      ]
    },
    {
      "cell_type": "code",
      "execution_count": 20,
      "metadata": {},
      "outputs": [
        {
          "name": "stdout",
          "output_type": "stream",
          "text": [
            "Mean Value [temp1, temp2, temp3, temp4]: 2117.257568359375 2155.469970703125 2150.99951171875 2157.142578125 \n",
            "Standard Deviation [temp1, temp2, temp3, temp4]: 22.64933204650879 23.240192413330078 21.471412658691406 20.387102127075195\n",
            "Mean Value [X1, Y1, Z1]: 5.152535595698282e-05 3.1649022275814787e-05 -1.0432709984797839e-07 \n",
            "Standard Deviation  [X1, Y1, Z1]: 0.0024545718915760517 0.009821190498769283 0.009821190498769283\n"
          ]
        }
      ],
      "source": [
        "X = np.load(prefix+'/data'+'/X'+'training'+str(hyper_parameters['file'])+'.npy') # Training data\n",
        "Y = np.load(prefix+'/data'+'/Y'+str(hyper_parameters['window_size'])+'training'+str(hyper_parameters['file'])+'.npy')\n",
        "\n",
        "mean_X, std_X, min_val_X, max_val_X = torch.tensor([1.0, 1.0, 1.0, 1.0]), torch.tensor([0.0, 0.0, 0.0, 0.0]), torch.tensor([-1.0, -1.0, -1.0, -1.0]), torch.tensor([1.0,1.0, 1.0, 1.0]) # Initialization of values\n",
        "mean_Y, std_Y, min_val_Y, max_val_Y = torch.tensor([1.0,1.0,1.0]), torch.tensor([0.0,0.0,0.0]), torch.tensor([-1.0,-1.0,-1.0]), torch.tensor([1.0,1.0,1.0]) # Initialization of values\n",
        "\n",
        "#hyper_parameters['norm'] = 'Minmax'\n",
        "# Fit the scaling to understand the parameters of the training set\n",
        "if hyper_parameters['norm'] != 'Not':\n",
        "    if hyper_parameters['norm'] == 'Minmax':\n",
        "        scaler_X = MinMaxScaler()\n",
        "        scaler_Y = MinMaxScaler()\n",
        "        scaler_X.fit(X) # Fit only on training data\n",
        "        scaler_Y.fit(Y) # Fit only on training data\n",
        "        min_val_X, max_val_X = torch.tensor(scaler_X.data_min_.astype(np.float32)).to(device), torch.tensor(scaler_X.data_max_.astype(np.float32)).to(device) # Get minimum and maximum values\n",
        "        min_val_Y, max_val_Y = torch.tensor(scaler_Y.data_min_.astype(np.float32)).to(device), torch.tensor(scaler_Y.data_max_.astype(np.float32)).to(device) # Get minimum and maximum values\n",
        "        print(\"Min Value [temp1, temp2, temp3, temp4]:\", min_val_X[0].item(),min_val_X[1].item(), min_val_X[2].item(), min_val_X[3].item(), \"\\nMax Value [temp1, temp2, temp3, temp4]:\", max_val_X[0].item(), max_val_X[1].item(), max_val_X[2].item(), max_val_X[3].item())\n",
        "        print(\"Min Value [X1, Y1, Z1]:\", min_val_Y[0].item(),min_val_Y[1].item(), min_val_Y[2].item(), \"\\nMax Value [X1, Y1, Z1]:\", max_val_Y[0].item(), max_val_Y[1].item(), max_val_Y[2].item())\n",
        "\n",
        "    elif hyper_parameters['norm'] == 'Std':\n",
        "        scaler_X = StandardScaler()\n",
        "        scaler_Y = StandardScaler()\n",
        "        scaler_X.fit(X)  # Fit only on training data\n",
        "        scaler_Y.fit(Y)  # Fit only on training data\n",
        "        mean_X, std_X = torch.tensor(scaler_X.mean_.astype(np.float32)).to(device), torch.tensor(scaler_X.scale_.astype(np.float32)).to(device) # Get mean & std\n",
        "        mean_Y, std_Y = torch.tensor(scaler_Y.mean_.astype(np.float32)).to(device), torch.tensor(scaler_Y.scale_.astype(np.float32)).to(device) # Get mean & std\n",
        "        print(\"Mean Value [temp1, temp2, temp3, temp4]:\", mean_X[0].item(),mean_X[1].item(), mean_X[2].item(), mean_X[3].item(), \"\\nStandard Deviation [temp1, temp2, temp3, temp4]:\", std_X[0].item(), std_X[1].item(), std_X[2].item(), std_X[3].item())\n",
        "        print(\"Mean Value [X1, Y1, Z1]:\", mean_Y[0].item(),mean_Y[1].item(), mean_Y[2].item(), \"\\nStandard Deviation  [X1, Y1, Z1]:\", std_Y[0].item(), std_Y[1].item(), std_Y[1].item())\n",
        "else:\n",
        "    print(\"Using Raw Data!\")\n",
        "\n",
        "#print(X)\n",
        "#print(Y)\n",
        "\n",
        "splitPerc = [0.7,0.3]\n",
        "splitted_X = split(X, splitPerc)\n",
        "splitted_Y = split(Y, splitPerc)"
      ]
    },
    {
      "cell_type": "markdown",
      "metadata": {
        "id": "pnlFgCAkol0x"
      },
      "source": [
        "# MODEL"
      ]
    },
    {
      "cell_type": "code",
      "execution_count": 21,
      "metadata": {},
      "outputs": [],
      "source": [
        "datasetTrain = thermal_dataset((splitted_X[0],splitted_Y[0]), hyper_parameters['timesteps'], device)\n",
        "datasetVal = thermal_dataset((splitted_X[1],splitted_Y[1]), hyper_parameters['timesteps'], device)"
      ]
    },
    {
      "cell_type": "code",
      "execution_count": 22,
      "metadata": {
        "id": "BbEyWHlGEJHm"
      },
      "outputs": [
        {
          "name": "stdout",
          "output_type": "stream",
          "text": [
            "Autoencoder type: LSTM\n",
            "Autoencoder Summary: lstm_autoencoder(\n",
            "  (encoder): lstm_encoder(\n",
            "    (lstm_layers): ModuleList(\n",
            "      (0): lstm(\n",
            "        (lstm): LSTM(4, 2, batch_first=True, dropout=0.3)\n",
            "      )\n",
            "    )\n",
            "  )\n",
            "  (decoder): lstm_decoder(\n",
            "    (lstm_layers): ModuleList(\n",
            "      (0): lstm(\n",
            "        (lstm): LSTM(2, 4, batch_first=True, dropout=0.3)\n",
            "      )\n",
            "    )\n",
            "    (linear_decoder): Linear(in_features=800, out_features=800, bias=True)\n",
            "  )\n",
            ")\n"
          ]
        },
        {
          "name": "stderr",
          "output_type": "stream",
          "text": [
            "/Users/cyber_m/Desktop/EAI-1/eai-project/.venv/lib/python3.9/site-packages/torch/nn/modules/rnn.py:123: UserWarning: dropout option adds dropout after all but last recurrent layer, so non-zero dropout expects num_layers greater than 1, but got dropout=0.3 and num_layers=1\n",
            "  warnings.warn(\n"
          ]
        }
      ],
      "source": [
        "# Training, Test and Validation Dataloader initialization\n",
        "loaderTrain = DataLoader(datasetTrain, shuffle=True, batch_size=hyper_parameters['batch_size'])\n",
        "loaderVal = DataLoader(datasetVal, shuffle=True, batch_size=hyper_parameters['batch_size'])\n",
        "\n",
        "# Model Initialization (True if you want to use the Ensemble model, False in you want to use a single LSTM model)\n",
        "if hyper_parameters['ensemble'] == False:\n",
        "    model = lstm_only(hidden_dim=hyper_parameters['hidden_dim'],\n",
        "                      timesteps=hyper_parameters['timesteps'] ,\n",
        "                      input_dim=4, \n",
        "                      output_dim=3).to(device)\n",
        "    \n",
        "elif hyper_parameters['ensemble'] == True:\n",
        "    if hyper_parameters['extractor_type'] == 'conv':\n",
        "        model = complete_model_autoencoder(ensemble_model, \n",
        "                                           device, \n",
        "                                           autoencoder_dim=conv_autoencoder_dict['in_kern_out'], \n",
        "                                           pooling_kernel_size=conv_autoencoder_dict['pooling_kernel_size'], \n",
        "                                           padding=conv_autoencoder_dict['padding'], \n",
        "                                           pooling=conv_autoencoder_dict['pooling'], \n",
        "                                           scale_factor = conv_autoencoder_dict['scale_factor'], \n",
        "                                           upsample_mode=conv_autoencoder_dict['upsample_mode'], \n",
        "                                           dropout=conv_autoencoder_dict['dropout'],\n",
        "                                           mode=hyper_parameters['mode'],\n",
        "                                           heterogeneous=hyper_parameters['heterogeneous'],\n",
        "                                           timesteps=hyper_parameters['timesteps'],\n",
        "                                           norm=hyper_parameters['norm'],\n",
        "                                           mean=(mean_X, mean_Y),\n",
        "                                           std=(std_X, std_Y),\n",
        "                                           min_val= (min_val_X, min_val_Y),\n",
        "                                           max_val= (max_val_X, max_val_Y),\n",
        "                                           ).to(device)\n",
        "    \n",
        "    elif hyper_parameters['extractor_type'] == 'lstm_autoencoder' or hyper_parameters['extractor_type'] == 'lstm_autoencoder':\n",
        "        model = complete_model(\n",
        "                                    model_dict=ensemble_model, \n",
        "                                    device=device, \n",
        "                                    timesteps=hyper_parameters['timesteps'],\n",
        "                                    lstm_layers=lstm_autoencoder_dict['lstm_layers'],\n",
        "                                    autoencoder_dim=lstm_autoencoder_dict['in_hidd'], \n",
        "                                    dropout=lstm_autoencoder_dict['dropout'],\n",
        "                                    extractor_type=hyper_parameters['extractor_type'],\n",
        "                                    heterogeneous=hyper_parameters['heterogeneous'],\n",
        "                                    norm=hyper_parameters['norm'],\n",
        "                                    mode=hyper_parameters['mode'],\n",
        "                                    mean=(mean_X, mean_Y),\n",
        "                                    std=(std_X, std_Y),\n",
        "                                    min_val= (min_val_X, min_val_Y),\n",
        "                                    max_val= (max_val_X, max_val_Y)\n",
        "                                    ).to(device)\n",
        "\n",
        "# Definition of the optimizer and loss function\n",
        "if hyper_parameters['ensemble'] == False:\n",
        "    optimizer = optim.Adam(model.parameters(), lr=hyper_parameters['lr'])\n",
        "elif hyper_parameters['ensemble'] == True:\n",
        "\n",
        "\n",
        "    models, arima, rnn_ = model.get_models()\n",
        "    list_models = models + arima + rnn_ \n",
        "    optimizer = [optim.Adam(model.extractor.parameters(), lr=hyper_parameters['lr']*hyper_parameters['lr_multipliers_extractor'])]\n",
        "    for sub_model in list_models: \n",
        "        for model_type, multiplier in hyper_parameters['lr_multipliers_ensemble'].items():\n",
        "            if isinstance(sub_model, model_type):\n",
        "                optimizer.append(optim.Adam(model.parameters(), lr=hyper_parameters['lr']*multiplier, weight_decay=hyper_parameters['weight_decay']))\n",
        "                break\n",
        "    \n",
        "hyper_parameters['lr_multipliers_ensemble'] = {\n",
        "        'mlp': hyper_parameters['lr_multipliers_ensemble'][mlp],\n",
        "        'linear': hyper_parameters['lr_multipliers_ensemble'][linear],\n",
        "        'rnn': hyper_parameters['lr_multipliers_ensemble'][rnn],\n",
        "        'lstm': hyper_parameters['lr_multipliers_ensemble'][lstm],\n",
        "    }\n",
        "\n",
        "\n",
        "loss_fn = nn.MSELoss()\n",
        "if hyper_parameters['ensemble'] == False:\n",
        "    scheduler = ExponentialLR(optimizer, gamma=0.85)\n",
        "elif hyper_parameters['ensemble'] == True:\n",
        "    scheduler = [ExponentialLR(opti, gamma=0.85) for opti in optimizer]\n"
      ]
    },
    {
      "cell_type": "code",
      "execution_count": 23,
      "metadata": {},
      "outputs": [
        {
          "name": "stdout",
          "output_type": "stream",
          "text": [
            "EPOCH 1/100:\n",
            "Model saved to results/training_2025-03-06_15-09/autoencoder.pt\n",
            "train AUTOENCODER: LOSS 143.973072298111 MAE temp1:8.0915, temp2:8.7283, temp3:8.3931, temp4:6.9962 R2 temp1:0.7525, temp2:0.7244, temp3:0.7229, temp4:0.7430 RMSE temp1:11.623901, temp2:12.551869, temp3:11.688844, temp4:8.909803\n",
            "valid AUTOENCODER: LOSS 76.973572217501 MAE temp1:5.8415, temp2:5.9044, temp3:6.5321, temp4:6.9962 R2 temp1:0.8154, temp2:0.8169, temp3:0.7818, temp4:0.7430 RMSE temp1:8.380233, temp2:9.140293, temp3:8.571877, temp4:8.909803\n",
            "EPOCH 2/100:\n",
            "Model saved to results/training_2025-03-06_15-09/autoencoder.pt\n",
            "train AUTOENCODER: LOSS 45.332289049702 MAE temp1:4.0325, temp2:5.4573, temp3:4.5811, temp4:5.1984 R2 temp1:0.9525, temp2:0.8996, temp3:0.9274, temp4:0.8562 RMSE temp1:5.050875, temp2:7.570094, temp3:5.924660, temp4:6.662415\n",
            "valid AUTOENCODER: LOSS 48.104640813974 MAE temp1:4.5178, temp2:5.4546, temp3:4.8270, temp4:5.1984 R2 temp1:0.8906, temp2:0.8585, temp3:0.8776, temp4:0.8562 RMSE temp1:6.456091, temp2:8.025359, temp3:6.424352, temp4:6.662415\n",
            "EPOCH 3/100:\n",
            "Model saved to results/training_2025-03-06_15-09/autoencoder.pt\n",
            "train AUTOENCODER: LOSS 34.590668063010 MAE temp1:3.1160, temp2:5.4071, temp3:3.5778, temp4:3.8286 R2 temp1:0.9723, temp2:0.9037, temp3:0.9552, temp4:0.9187 RMSE temp1:3.872168, temp2:7.407827, temp3:4.647018, temp4:5.005400\n",
            "valid AUTOENCODER: LOSS 33.008454102736 MAE temp1:3.5230, temp2:5.4125, temp3:3.5063, temp4:3.8286 R2 temp1:0.9345, temp2:0.8702, temp3:0.9328, temp4:0.9187 RMSE temp1:4.990480, temp2:7.676639, temp3:4.762082, temp4:5.005400\n",
            "EPOCH 4/100:\n",
            "Model saved to results/training_2025-03-06_15-09/autoencoder.pt\n",
            "train AUTOENCODER: LOSS 29.549178831039 MAE temp1:2.5974, temp2:5.4461, temp3:2.9652, temp4:3.2072 R2 temp1:0.9805, temp2:0.9037, temp3:0.9690, temp4:0.9429 RMSE temp1:3.256666, temp2:7.407774, temp3:3.870614, temp4:4.193478\n",
            "valid AUTOENCODER: LOSS 28.479908429659 MAE temp1:3.0665, temp2:5.5490, temp3:2.9180, temp4:3.2072 R2 temp1:0.9483, temp2:0.8677, temp3:0.9523, temp4:0.9429 RMSE temp1:4.422399, temp2:7.749789, temp3:4.009712, temp4:4.193478\n",
            "EPOCH 5/100:\n",
            "Model saved to results/training_2025-03-06_15-09/autoencoder.pt\n",
            "train AUTOENCODER: LOSS 26.366597637053 MAE temp1:2.2866, temp2:5.4536, temp3:2.5719, temp4:2.9438 R2 temp1:0.9845, temp2:0.9050, temp3:0.9767, temp4:0.9520 RMSE temp1:2.900483, temp2:7.359027, temp3:3.356468, temp4:3.846481\n",
            "valid AUTOENCODER: LOSS 26.990246039170 MAE temp1:2.9566, temp2:5.5453, temp3:2.7095, temp4:2.9438 R2 temp1:0.9514, temp2:0.8674, temp3:0.9582, temp4:0.9520 RMSE temp1:4.280299, temp2:7.757224, temp3:3.753929, temp4:3.846481\n",
            "EPOCH 6/100:\n",
            "Model saved to results/training_2025-03-06_15-09/autoencoder.pt\n",
            "train AUTOENCODER: LOSS 24.007663542225 MAE temp1:2.0816, temp2:5.4304, temp3:2.2751, temp4:2.6774 R2 temp1:0.9869, temp2:0.9069, temp3:0.9819, temp4:0.9587 RMSE temp1:2.667406, temp2:7.287970, temp3:2.961783, temp4:3.570328\n",
            "valid AUTOENCODER: LOSS 25.775811562171 MAE temp1:2.8023, temp2:5.5841, temp3:2.4904, temp4:2.6774 R2 temp1:0.9546, temp2:0.8672, temp3:0.9631, temp4:0.9587 RMSE temp1:4.134401, temp2:7.765561, temp3:3.529832, temp4:3.570328\n",
            "EPOCH 7/100:\n",
            "Model saved to results/training_2025-03-06_15-09/autoencoder.pt\n",
            "train AUTOENCODER: LOSS 22.170855306810 MAE temp1:1.9467, temp2:5.3807, temp3:2.0406, temp4:2.5130 R2 temp1:0.9884, temp2:0.9095, temp3:0.9854, temp4:0.9633 RMSE temp1:2.508476, temp2:7.188361, temp3:2.658037, temp4:3.365770\n",
            "valid AUTOENCODER: LOSS 24.738727056063 MAE temp1:2.6682, temp2:5.5700, temp3:2.3294, temp4:2.5130 R2 temp1:0.9572, temp2:0.8687, temp3:0.9666, temp4:0.9633 RMSE temp1:4.013164, temp2:7.722672, temp3:3.355852, temp4:3.365770\n",
            "EPOCH 8/100:\n",
            "Model saved to results/training_2025-03-06_15-09/autoencoder.pt\n",
            "train AUTOENCODER: LOSS 20.769589393370 MAE temp1:1.8585, temp2:5.3061, temp3:1.8661, temp4:2.4070 R2 temp1:0.9893, temp2:0.9123, temp3:0.9878, temp4:0.9659 RMSE temp1:2.403589, temp2:7.076203, temp3:2.433458, temp4:3.245326\n",
            "valid AUTOENCODER: LOSS 23.901936677786 MAE temp1:2.6550, temp2:5.4803, temp3:2.2716, temp4:2.4070 R2 temp1:0.9580, temp2:0.8720, temp3:0.9679, temp4:0.9659 RMSE temp1:3.974862, temp2:7.624715, temp3:3.288446, temp4:3.245326\n",
            "EPOCH 9/100:\n",
            "Model saved to results/training_2025-03-06_15-09/autoencoder.pt\n",
            "train AUTOENCODER: LOSS 19.603352392873 MAE temp1:1.8059, temp2:5.2372, temp3:1.7278, temp4:2.2567 R2 temp1:0.9899, temp2:0.9152, temp3:0.9895, temp4:0.9692 RMSE temp1:2.336411, temp2:6.962411, temp3:2.262400, temp4:3.084703\n",
            "valid AUTOENCODER: LOSS 22.967321909391 MAE temp1:2.5047, temp2:5.4494, temp3:2.1078, temp4:2.2567 R2 temp1:0.9606, temp2:0.8742, temp3:0.9708, temp4:0.9692 RMSE temp1:3.852971, temp2:7.562909, temp3:3.134962, temp4:3.084703\n",
            "EPOCH 10/100:\n",
            "Model saved to results/training_2025-03-06_15-09/autoencoder.pt\n",
            "train AUTOENCODER: LOSS 18.614842353329 MAE temp1:1.7697, temp2:5.1562, temp3:1.6274, temp4:2.1745 R2 temp1:0.9903, temp2:0.9180, temp3:0.9907, temp4:0.9707 RMSE temp1:2.287312, temp2:6.844341, temp3:2.136714, temp4:3.010917\n",
            "valid AUTOENCODER: LOSS 22.356312898489 MAE temp1:2.4803, temp2:5.3477, temp3:2.0428, temp4:2.1745 R2 temp1:0.9609, temp2:0.8777, temp3:0.9717, temp4:0.9707 RMSE temp1:3.835962, temp2:7.459905, temp3:3.089459, temp4:3.010917\n",
            "EPOCH 11/100:\n",
            "Model saved to results/training_2025-03-06_15-09/autoencoder.pt\n",
            "train AUTOENCODER: LOSS 17.920388790869 MAE temp1:1.7424, temp2:5.0725, temp3:1.5457, temp4:2.1042 R2 temp1:0.9906, temp2:0.9206, temp3:0.9915, temp4:0.9722 RMSE temp1:2.253517, temp2:6.737797, temp3:2.037416, temp4:2.933151\n",
            "valid AUTOENCODER: LOSS 21.672586220961 MAE temp1:2.4350, temp2:5.2809, temp3:1.9830, temp4:2.1042 R2 temp1:0.9620, temp2:0.8807, temp3:0.9727, temp4:0.9722 RMSE temp1:3.783830, temp2:7.368702, temp3:3.030771, temp4:2.933151\n",
            "EPOCH 12/100:\n",
            "Model saved to results/training_2025-03-06_15-09/autoencoder.pt\n",
            "train AUTOENCODER: LOSS 17.207697606856 MAE temp1:1.7230, temp2:4.9994, temp3:1.4852, temp4:2.0419 R2 temp1:0.9908, temp2:0.9230, temp3:0.9921, temp4:0.9733 RMSE temp1:2.227915, temp2:6.636375, temp3:1.962012, temp4:2.873367\n",
            "valid AUTOENCODER: LOSS 20.982564632709 MAE temp1:2.3874, temp2:5.2197, temp3:1.9302, temp4:2.0419 R2 temp1:0.9635, temp2:0.8839, temp3:0.9738, temp4:0.9733 RMSE temp1:3.709931, temp2:7.268997, temp3:2.969920, temp4:2.873367\n",
            "EPOCH 13/100:\n",
            "Model saved to results/training_2025-03-06_15-09/autoencoder.pt\n",
            "train AUTOENCODER: LOSS 16.646529689912 MAE temp1:1.7113, temp2:4.9288, temp3:1.4372, temp4:1.9916 R2 temp1:0.9910, temp2:0.9251, temp3:0.9926, temp4:0.9742 RMSE temp1:2.209330, temp2:6.542093, temp3:1.902890, temp4:2.826844\n",
            "valid AUTOENCODER: LOSS 20.402413184826 MAE temp1:2.3327, temp2:5.1703, temp3:1.8766, temp4:1.9916 R2 temp1:0.9646, temp2:0.8865, temp3:0.9747, temp4:0.9742 RMSE temp1:3.656122, temp2:7.189733, temp3:2.920791, temp4:2.826844\n",
            "EPOCH 14/100:\n",
            "Model saved to results/training_2025-03-06_15-09/autoencoder.pt\n",
            "train AUTOENCODER: LOSS 16.170339261332 MAE temp1:1.6999, temp2:4.8712, temp3:1.3986, temp4:1.9568 R2 temp1:0.9911, temp2:0.9270, temp3:0.9930, temp4:0.9747 RMSE temp1:2.194366, temp2:6.460689, temp3:1.854178, temp4:2.797379\n",
            "valid AUTOENCODER: LOSS 20.187053020184 MAE temp1:2.3124, temp2:5.0956, temp3:1.8385, temp4:1.9568 R2 temp1:0.9648, temp2:0.8885, temp3:0.9750, temp4:0.9747 RMSE temp1:3.644759, temp2:7.125432, temp3:2.899980, temp4:2.797379\n",
            "EPOCH 15/100:\n",
            "Model saved to results/training_2025-03-06_15-09/autoencoder.pt\n",
            "train AUTOENCODER: LOSS 15.791823494819 MAE temp1:1.6900, temp2:4.8113, temp3:1.3646, temp4:1.9331 R2 temp1:0.9912, temp2:0.9286, temp3:0.9933, temp4:0.9745 RMSE temp1:2.182379, temp2:6.390809, temp3:1.813163, temp4:2.809067\n",
            "valid AUTOENCODER: LOSS 19.849219689002 MAE temp1:2.3011, temp2:5.0565, temp3:1.8221, temp4:1.9331 R2 temp1:0.9655, temp2:0.8909, temp3:0.9752, temp4:0.9745 RMSE temp1:3.613110, temp2:7.050655, temp3:2.892297, temp4:2.809067\n",
            "EPOCH 16/100:\n",
            "Model saved to results/training_2025-03-06_15-09/autoencoder.pt\n",
            "train AUTOENCODER: LOSS 15.451580032226 MAE temp1:1.6848, temp2:4.7684, temp3:1.3393, temp4:1.9078 R2 temp1:0.9913, temp2:0.9299, temp3:0.9936, temp4:0.9750 RMSE temp1:2.173292, temp2:6.330106, temp3:1.779944, temp4:2.782960\n",
            "valid AUTOENCODER: LOSS 19.510603537926 MAE temp1:2.2623, temp2:5.0284, temp3:1.7818, temp4:1.9078 R2 temp1:0.9659, temp2:0.8923, temp3:0.9756, temp4:0.9750 RMSE temp1:3.590462, temp2:7.005773, temp3:2.866108, temp4:2.782960\n",
            "EPOCH 17/100:\n",
            "Model saved to results/training_2025-03-06_15-09/autoencoder.pt\n",
            "train AUTOENCODER: LOSS 15.186596824277 MAE temp1:1.6772, temp2:4.7239, temp3:1.3179, temp4:1.8910 R2 temp1:0.9914, temp2:0.9311, temp3:0.9938, temp4:0.9752 RMSE temp1:2.165161, temp2:6.276929, temp3:1.752822, temp4:2.770988\n",
            "valid AUTOENCODER: LOSS 19.251178851494 MAE temp1:2.2413, temp2:4.9890, temp3:1.7586, temp4:1.8910 R2 temp1:0.9664, temp2:0.8942, temp3:0.9759, temp4:0.9752 RMSE temp1:3.565872, temp2:6.945090, temp3:2.849873, temp4:2.770988\n",
            "EPOCH 18/100:\n",
            "Model saved to results/training_2025-03-06_15-09/autoencoder.pt\n",
            "train AUTOENCODER: LOSS 14.930896436014 MAE temp1:1.6696, temp2:4.6904, temp3:1.2988, temp4:1.8786 R2 temp1:0.9914, temp2:0.9320, temp3:0.9939, temp4:0.9752 RMSE temp1:2.158428, temp2:6.233432, temp3:1.728572, temp4:2.769885\n",
            "valid AUTOENCODER: LOSS 19.100579005021 MAE temp1:2.2254, temp2:4.9705, temp3:1.7451, temp4:1.8786 R2 temp1:0.9669, temp2:0.8952, temp3:0.9761, temp4:0.9752 RMSE temp1:3.538354, temp2:6.911332, temp3:2.837191, temp4:2.769885\n",
            "EPOCH 19/100:\n",
            "Model saved to results/training_2025-03-06_15-09/autoencoder.pt\n",
            "train AUTOENCODER: LOSS 14.794315953409 MAE temp1:1.6693, temp2:4.6652, temp3:1.2854, temp4:1.8683 R2 temp1:0.9915, temp2:0.9329, temp3:0.9941, temp4:0.9754 RMSE temp1:2.154459, temp2:6.194642, temp3:1.710345, temp4:2.759521\n",
            "valid AUTOENCODER: LOSS 18.872536072364 MAE temp1:2.2333, temp2:4.9335, temp3:1.7468, temp4:1.8683 R2 temp1:0.9668, temp2:0.8964, temp3:0.9760, temp4:0.9754 RMSE temp1:3.544659, temp2:6.870165, temp3:2.841212, temp4:2.759521\n",
            "EPOCH 20/100:\n",
            "Model saved to results/training_2025-03-06_15-09/autoencoder.pt\n",
            "train AUTOENCODER: LOSS 14.624767457285 MAE temp1:1.6647, temp2:4.6348, temp3:1.2734, temp4:1.8564 R2 temp1:0.9915, temp2:0.9336, temp3:0.9942, temp4:0.9757 RMSE temp1:2.149777, temp2:6.161728, temp3:1.694379, temp4:2.746029\n",
            "valid AUTOENCODER: LOSS 18.772082658914 MAE temp1:2.2111, temp2:4.9143, temp3:1.7272, temp4:1.8564 R2 temp1:0.9672, temp2:0.8972, temp3:0.9763, temp4:0.9757 RMSE temp1:3.525046, temp2:6.844529, temp3:2.823509, temp4:2.746029\n",
            "EPOCH 21/100:\n",
            "Model saved to results/training_2025-03-06_15-09/autoencoder.pt\n",
            "train AUTOENCODER: LOSS 14.379557394212 MAE temp1:1.6597, temp2:4.6125, temp3:1.2628, temp4:1.8529 R2 temp1:0.9916, temp2:0.9342, temp3:0.9943, temp4:0.9755 RMSE temp1:2.145885, temp2:6.133400, temp3:1.680491, temp4:2.754576\n",
            "valid AUTOENCODER: LOSS 18.572139006395 MAE temp1:2.1936, temp2:4.9007, temp3:1.7093, temp4:1.8529 R2 temp1:0.9678, temp2:0.8982, temp3:0.9766, temp4:0.9755 RMSE temp1:3.495427, temp2:6.812295, temp3:2.808570, temp4:2.754576\n",
            "EPOCH 22/100:\n",
            "Model saved to results/training_2025-03-06_15-09/autoencoder.pt\n",
            "train AUTOENCODER: LOSS 14.311044554557 MAE temp1:1.6587, temp2:4.5928, temp3:1.2537, temp4:1.8460 R2 temp1:0.9916, temp2:0.9347, temp3:0.9943, temp4:0.9756 RMSE temp1:2.143626, temp2:6.110246, temp3:1.668938, temp4:2.748262\n",
            "valid AUTOENCODER: LOSS 18.456714410048 MAE temp1:2.1895, temp2:4.8845, temp3:1.7037, temp4:1.8460 R2 temp1:0.9679, temp2:0.8989, temp3:0.9767, temp4:0.9756 RMSE temp1:3.489790, temp2:6.790327, temp3:2.805225, temp4:2.748262\n",
            "EPOCH 23/100:\n",
            "Model saved to results/training_2025-03-06_15-09/autoencoder.pt\n",
            "train AUTOENCODER: LOSS 14.197535837850 MAE temp1:1.6584, temp2:4.5810, temp3:1.2475, temp4:1.8433 R2 temp1:0.9916, temp2:0.9351, temp3:0.9944, temp4:0.9756 RMSE temp1:2.142213, temp2:6.089161, temp3:1.660044, temp4:2.751732\n",
            "valid AUTOENCODER: LOSS 18.374347063211 MAE temp1:2.1912, temp2:4.8674, temp3:1.7002, temp4:1.8433 R2 temp1:0.9678, temp2:0.8994, temp3:0.9766, temp4:0.9756 RMSE temp1:3.492212, temp2:6.770600, temp3:2.808361, temp4:2.751732\n",
            "EPOCH 24/100:\n",
            "Model saved to results/training_2025-03-06_15-09/autoencoder.pt\n",
            "train AUTOENCODER: LOSS 14.067061993384 MAE temp1:1.6555, temp2:4.5634, temp3:1.2403, temp4:1.8419 R2 temp1:0.9916, temp2:0.9355, temp3:0.9945, temp4:0.9755 RMSE temp1:2.139815, temp2:6.072306, temp3:1.650966, temp4:2.754361\n",
            "valid AUTOENCODER: LOSS 18.337310277499 MAE temp1:2.1829, temp2:4.8559, temp3:1.6915, temp4:1.8419 R2 temp1:0.9680, temp2:0.8999, temp3:0.9767, temp4:0.9755 RMSE temp1:3.485031, temp2:6.754363, temp3:2.803649, temp4:2.754361\n",
            "EPOCH 25/100:\n",
            "Model saved to results/training_2025-03-06_15-09/autoencoder.pt\n",
            "train AUTOENCODER: LOSS 13.998659656894 MAE temp1:1.6552, temp2:4.5544, temp3:1.2356, temp4:1.8382 R2 temp1:0.9916, temp2:0.9358, temp3:0.9945, temp4:0.9756 RMSE temp1:2.138765, temp2:6.057409, temp3:1.644088, temp4:2.752150\n",
            "valid AUTOENCODER: LOSS 18.268126230973 MAE temp1:2.1804, temp2:4.8444, temp3:1.6887, temp4:1.8382 R2 temp1:0.9680, temp2:0.9004, temp3:0.9767, temp4:0.9756 RMSE temp1:3.484621, temp2:6.739728, temp3:2.803869, temp4:2.752150\n",
            "EPOCH 26/100:\n",
            "Model saved to results/training_2025-03-06_15-09/autoencoder.pt\n",
            "train AUTOENCODER: LOSS 13.934657219918 MAE temp1:1.6526, temp2:4.5421, temp3:1.2309, temp4:1.8338 R2 temp1:0.9916, temp2:0.9361, temp3:0.9946, temp4:0.9757 RMSE temp1:2.137096, temp2:6.045062, temp3:1.637691, temp4:2.746111\n",
            "valid AUTOENCODER: LOSS 18.231581651247 MAE temp1:2.1711, temp2:4.8374, temp3:1.6813, temp4:1.8338 R2 temp1:0.9681, temp2:0.9007, temp3:0.9768, temp4:0.9757 RMSE temp1:3.475854, temp2:6.728872, temp3:2.796748, temp4:2.746111\n",
            "EPOCH 27/100:\n",
            "Model saved to results/training_2025-03-06_15-09/autoencoder.pt\n",
            "train AUTOENCODER: LOSS 13.911334299272 MAE temp1:1.6509, temp2:4.5329, temp3:1.2263, temp4:1.8329 R2 temp1:0.9916, temp2:0.9363, temp3:0.9946, temp4:0.9756 RMSE temp1:2.135806, temp2:6.034050, temp3:1.632421, temp4:2.748804\n",
            "valid AUTOENCODER: LOSS 18.183407233312 MAE temp1:2.1751, temp2:4.8278, temp3:1.6831, temp4:1.8329 R2 temp1:0.9682, temp2:0.9010, temp3:0.9768, temp4:0.9756 RMSE temp1:3.475754, temp2:6.716985, temp3:2.799224, temp4:2.748804\n",
            "EPOCH 28/100:\n",
            "Model saved to results/training_2025-03-06_15-09/autoencoder.pt\n",
            "train AUTOENCODER: LOSS 13.881975773842 MAE temp1:1.6514, temp2:4.5265, temp3:1.2237, temp4:1.8332 R2 temp1:0.9916, temp2:0.9365, temp3:0.9946, temp4:0.9755 RMSE temp1:2.135145, temp2:6.024451, temp3:1.628102, temp4:2.752939\n",
            "valid AUTOENCODER: LOSS 18.143873618199 MAE temp1:2.1714, temp2:4.8225, temp3:1.6793, temp4:1.8332 R2 temp1:0.9682, temp2:0.9013, temp3:0.9767, temp4:0.9755 RMSE temp1:3.474744, temp2:6.707191, temp3:2.800850, temp4:2.752939\n",
            "EPOCH 29/100:\n",
            "Model saved to results/training_2025-03-06_15-09/autoencoder.pt\n",
            "train AUTOENCODER: LOSS 13.828556737592 MAE temp1:1.6505, temp2:4.5212, temp3:1.2211, temp4:1.8308 R2 temp1:0.9917, temp2:0.9367, temp3:0.9946, temp4:0.9756 RMSE temp1:2.134499, temp2:6.016207, temp3:1.624351, temp4:2.751070\n",
            "valid AUTOENCODER: LOSS 18.094305111812 MAE temp1:2.1677, temp2:4.8196, temp3:1.6774, temp4:1.8308 R2 temp1:0.9683, temp2:0.9015, temp3:0.9768, temp4:0.9756 RMSE temp1:3.470282, temp2:6.700178, temp3:2.798410, temp4:2.751070\n",
            "EPOCH 30/100:\n",
            "train AUTOENCODER: LOSS 13.756967052337 MAE temp1:1.6487, temp2:4.5139, temp3:1.2190, temp4:1.8301 R2 temp1:0.9917, temp2:0.9368, temp3:0.9947, temp4:0.9756 RMSE temp1:2.133662, temp2:6.009131, temp3:1.621110, temp4:2.751620\n",
            "valid AUTOENCODER: LOSS 18.103491416344 MAE temp1:2.1670, temp2:4.8138, temp3:1.6761, temp4:1.8301 R2 temp1:0.9683, temp2:0.9017, temp3:0.9768, temp4:0.9756 RMSE temp1:3.469069, temp2:6.694169, temp3:2.797848, temp4:2.751620\n",
            "EPOCH 31/100:\n",
            "Model saved to results/training_2025-03-06_15-09/autoencoder.pt\n",
            "train AUTOENCODER: LOSS 13.726316559699 MAE temp1:1.6482, temp2:4.5093, temp3:1.2162, temp4:1.8299 R2 temp1:0.9917, temp2:0.9370, temp3:0.9947, temp4:0.9756 RMSE temp1:2.132981, temp2:6.003272, temp3:1.618090, temp4:2.752575\n",
            "valid AUTOENCODER: LOSS 18.005733196552 MAE temp1:2.1648, temp2:4.8087, temp3:1.6735, temp4:1.8299 R2 temp1:0.9684, temp2:0.9019, temp3:0.9768, temp4:0.9756 RMSE temp1:3.464414, temp2:6.687491, temp3:2.795372, temp4:2.752575\n",
            "EPOCH 32/100:\n"
          ]
        }
      ],
      "source": [
        "if hyper_parameters['pretrain']:\n",
        "    model.load('./results/training_2025-02-25_17-35/autoencoder.pt',autoencoder=hyper_parameters['pretrain'])\n",
        "\n",
        "train(\n",
        "    num_epochs=hyper_parameters['num_epochs'],\n",
        "    loss_fn=loss_fn,\n",
        "    model=model,\n",
        "    optimizer=optimizer,\n",
        "    scheduler=scheduler,\n",
        "    training_dataloader=loaderTrain,\n",
        "    validation_dataloader=loaderVal,\n",
        "    hyperparams=hyper_parameters,\n",
        "    model_dict = ensemble_model,\n",
        "    autoencoder_dict=autoencoder_dict,\n",
        "    complete=hyper_parameters['ensemble'],\n",
        "    autoencoder_train=hyper_parameters['autoencoder_train']\n",
        ")\n"
      ]
    }
  ],
  "metadata": {
    "colab": {
      "provenance": []
    },
    "kernelspec": {
      "display_name": ".venv",
      "language": "python",
      "name": "python3"
    },
    "language_info": {
      "codemirror_mode": {
        "name": "ipython",
        "version": 3
      },
      "file_extension": ".py",
      "mimetype": "text/x-python",
      "name": "python",
      "nbconvert_exporter": "python",
      "pygments_lexer": "ipython3",
      "version": "3.13.2"
    }
  },
  "nbformat": 4,
  "nbformat_minor": 0
}
