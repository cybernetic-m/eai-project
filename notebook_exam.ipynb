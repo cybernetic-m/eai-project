{
  "cells": [
    {
      "cell_type": "markdown",
      "metadata": {
        "id": "l3O4mXmBol0t"
      },
      "source": [
        "# IMPORT"
      ]
    },
    {
      "cell_type": "code",
      "execution_count": null,
      "metadata": {
        "id": "9gQw18CXol0v"
      },
      "outputs": [],
      "source": [
        "# Model\n",
        "import torch\n",
        "import torch.nn as nn\n",
        "from torch.utils.data import Dataset, DataLoader\n",
        "from torch import optim\n",
        "\n",
        "# Dataset\n",
        "import pandas as pd\n",
        "import numpy as np\n",
        "import matplotlib.pyplot as plt\n",
        "import zipfile\n",
        "import gdown\n",
        "#from datasets import Dataset, DatasetDict\n",
        "\n",
        "import os\n",
        "import io\n",
        "import traceback\n",
        "from datetime import datetime\n",
        "\n",
        "import csv\n",
        "\n",
        "# Our file\n",
        "from training.train import train\n",
        "\n",
        "try:\n",
        "    import google.colab\n",
        "    colab = True\n",
        "except:\n",
        "    colab = False\n",
        "    \n",
        "pd.set_option('display.max_columns', None)\n"
      ]
    },
    {
      "cell_type": "markdown",
      "metadata": {},
      "source": [
        "**Reproducibility and Device Setting**"
      ]
    },
    {
      "cell_type": "code",
      "execution_count": null,
      "metadata": {},
      "outputs": [],
      "source": [
        "# Set a seed for reproducibility purposes\n",
        "seed = 46\n",
        "torch.manual_seed(seed)\n",
        "torch.backends.cudnn.deterministic = True\n",
        "torch.backends.cudnn.benchmark = False\n",
        "np.random.seed(seed)\n",
        "#random.seed(seed)\n",
        "\n",
        "# Set the device (cuda for Nvidia GPUs, mps for M1, M2 .. Apple Silicon)\n",
        "if torch.cuda.is_available():\n",
        "    device = \"cuda\"\n",
        "elif torch.backends.mps.is_available():\n",
        "    device = \"mps\"\n",
        "else:\n",
        "    device = \"cpu\""
      ]
    },
    {
      "cell_type": "code",
      "execution_count": null,
      "metadata": {
        "id": "Iw_mJb-XnY-f"
      },
      "outputs": [],
      "source": [
        "def normalize_columns(df: pd.DataFrame, columns: list) -> pd.DataFrame:\n",
        "    \"\"\"\n",
        "    Normalizes the specified columns in the DataFrame between 0 and 1.\n",
        "\n",
        "    Parameters:\n",
        "    df (pd.DataFrame): The input DataFrame containing the data.\n",
        "    columns (list): A list of column names to normalize.\n",
        "\n",
        "    Returns:\n",
        "    pd.DataFrame: A new DataFrame with the specified columns normalized.\n",
        "    \"\"\"\n",
        "    # Make a copy of the DataFrame to avoid modifying the original\n",
        "    df_copy = df.copy()\n",
        "\n",
        "    for column in columns:\n",
        "        if column in df_copy.columns:\n",
        "            min_val = df_copy[column].min()\n",
        "            max_val = df_copy[column].max()\n",
        "\n",
        "            # Avoid division by zero if the column has a constant value\n",
        "            if max_val != min_val:\n",
        "                df_copy[column] = (df_copy[column] - min_val) / (max_val - min_val)\n",
        "            else:\n",
        "                # If the column has constant values, normalize to 0 (or 1, depends on the case)\n",
        "                df_copy[column] = 0\n",
        "        else:\n",
        "            print(f\"Warning: Column '{column}' not found in DataFrame.\")\n",
        "\n",
        "    return df_copy\n",
        "\n",
        "\n",
        "def merge_on_closest_time(df1, df2, time_col='time'):\n",
        "    # Ensure the 'time' columns are datetime objects\n",
        "    df1[time_col] = pd.to_datetime(df1[time_col])\n",
        "    df2[time_col] = pd.to_datetime(df2[time_col])\n",
        "\n",
        "    # Sort both dataframes by time (if not already sorted)\n",
        "    df1 = df1.sort_values(by=time_col).reset_index(drop=True)\n",
        "    df2 = df2.sort_values(by=time_col).reset_index(drop=True)\n",
        "\n",
        "    # Create an empty list to hold the merged rows\n",
        "    merged_rows = []\n",
        "\n",
        "    # Initialize pointers for both DataFrames\n",
        "    i, j = 0, 0\n",
        "\n",
        "    # Iterate through each row in df1 and find the closest time in df2\n",
        "    while i < len(df1):\n",
        "        row1 = df1.iloc[i]\n",
        "\n",
        "        # Move pointer j to the closest time in df2 (either before or after row1)\n",
        "        while j < len(df2) - 1 and abs(df2.iloc[j + 1][time_col] - row1[time_col]) < abs(df2.iloc[j][time_col] - row1[time_col]):\n",
        "            j += 1\n",
        "\n",
        "        # Get the closest row from df2\n",
        "        closest_row = df2.iloc[j]\n",
        "\n",
        "        # Combine the row from df1 with the closest row from df2\n",
        "        merged_row = pd.concat([row1, closest_row], axis=0)\n",
        "\n",
        "        # Reset the index of the concatenated row before appending to avoid duplicate indices\n",
        "        merged_rows.append(merged_row.reset_index(drop=True))\n",
        "\n",
        "        # Move the pointer for df1\n",
        "        i += 1\n",
        "\n",
        "    # Create a new DataFrame from the merged rows and reset the index\n",
        "    merged_df = pd.DataFrame(merged_rows)\n",
        "    merged_df.reset_index(drop=True, inplace=True)\n",
        "\n",
        "    return merged_df\n",
        "\n",
        "def transform_dataframe(df):\n",
        "    # Create an empty list to store the filled rows\n",
        "    filled_rows = []\n",
        "\n",
        "    # Iterate through each row in the DataFrame\n",
        "    for i, row in df.iterrows():\n",
        "        # If X1 is not NaN, we know this is a valid row for X1\n",
        "        if pd.notna(row['X1']):\n",
        "            x1_value = row['X1']\n",
        "            filled_rows.append({'time': row['time'], 'X1': x1_value, 'Y1': df.iloc[i+1]['Y1'], 'Z1': df.iloc[i+2]['Z1']})\n",
        "\n",
        "    # Convert the list of filled rows to a DataFrame\n",
        "    filled_df = pd.DataFrame(filled_rows)\n",
        "\n",
        "    # Now group the data by time and use the last available X1, Y1, and Z1 for each time\n",
        "    final_df = filled_df.groupby('time').last().reset_index()\n",
        "\n",
        "    return final_df"
      ]
    },
    {
      "cell_type": "markdown",
      "metadata": {
        "id": "FFQrCrM-ol0w"
      },
      "source": [
        "# DATASET"
      ]
    },
    {
      "cell_type": "code",
      "execution_count": null,
      "metadata": {
        "id": "FIjenOEuol0w"
      },
      "outputs": [],
      "source": [
        "def download_csv(link_zipped_csv, gdrive_link, zipped_file):\n",
        "\n",
        "    file_id = link_zipped_csv.split('/')[-2]  # Take the file_id (Ex. \"https://drive.google.com/file/d/1BMj4BGXxIMzsd-GYSAEMpB7CF0XB87UT/view?usp=sharing\" => file_id: 1BMj4BGXxIMzsd-GYSAEMpB7CF0XB87UT)\n",
        "    download_link = gdrive_link + file_id # Create the path for gdown (Ex. https://drive.google.com/uc?id={YOUR_FILE_ID})\n",
        "\n",
        "    try:\n",
        "        if not os.path.exists(zipped_file):\n",
        "\n",
        "            gdown.download(\n",
        "                download_link,\n",
        "                zipped_file,\n",
        "                quiet=False\n",
        "                )\n",
        "        else:\n",
        "            print(\"CSV file already downloaded!\")\n",
        "\n",
        "\n",
        "    except Exception as error:\n",
        "        print(\"An error occured:\", error)\n",
        "        traceback.print_exc()"
      ]
    },
    {
      "cell_type": "code",
      "execution_count": null,
      "metadata": {
        "id": "xLSu3LjIol0w"
      },
      "outputs": [],
      "source": [
        "def unzip_csv(csv_zip, csv_dir):\n",
        "\n",
        "    try:\n",
        "        if not os.path.exists(csv_dir):\n",
        "            os.mkdir(csv_dir) # Create the csv_dir directory where we extract files (if not exists)\n",
        "\n",
        "        if len(os.listdir(csv_dir)) == 0:\n",
        "            with zipfile.ZipFile(csv_zip, 'r') as zip:\n",
        "                filelist = zip.namelist() # list of the file inside zip : ['csv /multilingual_nli_test_df.csv', 'csv /tweet_emotions.csv', ...]\n",
        "\n",
        "                # Iterate over all file in the zip file to extract them\n",
        "                for filename in filelist:\n",
        "                    zip.extract(filename, csv_dir) # Extract the file inside the csv_dir\n",
        "\n",
        "        else:\n",
        "            print(\"CSV file already unzipped!\")\n",
        "\n",
        "\n",
        "    except Exception as error:\n",
        "        print(\"An error occured:\", error)\n",
        "        traceback.print_exc()"
      ]
    },
    {
      "cell_type": "code",
      "execution_count": null,
      "metadata": {
        "colab": {
          "base_uri": "https://localhost:8080/"
        },
        "id": "1mHN7T9Rol0x",
        "outputId": "6d8b8eef-3135-4b49-f113-9ac4548ea7aa"
      },
      "outputs": [],
      "source": [
        "link_zipped_csv = 'https://drive.google.com/file/d/1MssQF4pI_rZqiiDBP4XaLTT1ZaN6ykLm/view?usp=drive_link'\n",
        "gdrive_link = 'https://drive.google.com/uc?id='\n",
        "csv_dir = './csv'\n",
        "zipped_file = './csv.zip'\n",
        "\n",
        "download_csv(\n",
        "    link_zipped_csv,\n",
        "    gdrive_link,\n",
        "    zipped_file\n",
        ")\n",
        "\n",
        "unzip_csv(\n",
        "    zipped_file,\n",
        "    csv_dir,\n",
        ")\n"
      ]
    },
    {
      "cell_type": "code",
      "execution_count": null,
      "metadata": {
        "id": "iolOdYbOBKjl"
      },
      "outputs": [],
      "source": [
        "def load_dataset_dict_pandas(csv_path):\n",
        "\n",
        "    # Initialization of the dictionary of input data (text) {'filename': ['hi ...','I am ...']}\n",
        "    text_dict = {}\n",
        "\n",
        "    filelist = os.listdir(csv_path) # List of all csv file ['filename_1.csv', ...]\n",
        "\n",
        "    # Iterate over all csv file in the directory\n",
        "    for filename in filelist:\n",
        "        # Initialization of the list containing all the texts in a csv file\n",
        "\n",
        "        text_dict[filename] = []\n",
        "        # Open the i-th csv file\n",
        "\n",
        "        test = pd.read_csv(csv_path + '/' + filename)\n",
        "        print(filename)\n",
        "        print(test.info())\n"
      ]
    },
    {
      "cell_type": "code",
      "execution_count": null,
      "metadata": {
        "id": "eKLx-ldvGxvs"
      },
      "outputs": [],
      "source": [
        "path = '/content/csv/thermal_drift_features_lab_05_02.csv'\n",
        "\n",
        "\n",
        "if colab:\n",
        "    prefix = '/content'\n",
        "else:\n",
        "    prefix = '.'\n",
        "\n",
        "\n",
        "features = pd.read_csv(os.path.join(prefix,'csv/thermal_drift_features_lab_05_02.csv'))\n",
        "features1 = pd.read_csv(os.path.join(prefix, 'csv/thermal_drift_features_lab_05_03.csv'))\n",
        "features2 = pd.read_csv(os.path.join(prefix,'csv/thermal_drift_features_lab_05_04.csv'))\n",
        "features3 = pd.read_csv(os.path.join(prefix,'csv/thermal_drift_features_lab_05_05.csv'))\n",
        "features4 = pd.read_csv(os.path.join(prefix,'csv/thermal_drift_features_lab_05_06.csv'))\n",
        "\n",
        "targets = pd.read_csv(os.path.join(prefix,'csv/thermal_drift_targets_lab_05_02.csv'))\n",
        "targets1 = pd.read_csv(os.path.join(prefix,'csv/thermal_drift_targets_lab_05_03.csv'))\n",
        "targets2 = pd.read_csv(os.path.join(prefix,'csv/thermal_drift_targets_lab_05_04.csv'))\n",
        "targets3 = pd.read_csv(os.path.join(prefix,'csv/thermal_drift_targets_lab_05_05.csv'))\n",
        "targets4 = pd.read_csv(os.path.join(prefix,'csv/thermal_drift_targets_lab_05_06.csv'))\n"
      ]
    },
    {
      "cell_type": "code",
      "execution_count": null,
      "metadata": {
        "id": "Jt0EE-5ikXpC"
      },
      "outputs": [],
      "source": [
        "features = pd.concat([features,features1,features2,features3,features4])\n",
        "\n",
        "features.drop([\n",
        "    \"name\", \"tags\",\n",
        "    \"2\\\"Tray1 Vacuum Sensor\", \"2\\\"Tray2 Vacuum Sensor\", \"2\\\"Tray3 Vacuum Sensor\",\n",
        "    \"Avg Oven Temperature\", \"Chuck Temp [Cdeg]\", \"Chuck Temp2 [Cdeg]\",\n",
        "    \"Chuck1 Vacuum Sensor\", \"Contrast\", \"Device State\",\n",
        "    \"Dispenser1 Pressure Sensor\", \"Machine Room Temp\", \"Main Air\", \"Main Vacuum\",\n",
        "    \"Oven Temperature\", \"PE_Rx\", \"PE_Ry\", \"PE_Rz\", \"PE_X1\", \"PE_Y1\", \"PE_Z1\",\n",
        "    \"PUT1 Flow Sensor\", \"PUT2 Flow Sensor1\", \"PUT2 Flow Sensor2\",\n",
        "    \"PUT2 Flow Sensor3\", \"PUT2 Flow Sensor4\", \"PUT2 Flow Sensor5\",\n",
        "    \"Photodiode\", \"Pixel Power\", \"Preciser1 Vacuum Sensor\",\n",
        "    \"Tec FIB1 Holder\", \"Tec FIB1 Plate\", \"Tec FIB2 Holder\", \"Tec FIB2 Plate\",\n",
        "    \"Torque11\",\"Torque2\",\"Torque3\",\"Torque4\",\"Torque5\",\"Torque6\"\n",
        "], axis=1, inplace=True)"
      ]
    },
    {
      "cell_type": "code",
      "execution_count": null,
      "metadata": {
        "id": "USLVXYRakZhh"
      },
      "outputs": [],
      "source": [
        "targets_norm= normalize_columns(targets, ['X1','Y1','Z1'])\n",
        "targets_norm1= normalize_columns(targets1, ['X1','Y1','Z1'])\n",
        "targets_norm2= normalize_columns(targets2, ['X1','Y1','Z1'])\n",
        "targets_norm3= normalize_columns(targets3, ['X1','Y1','Z1'])\n",
        "targets_norm4= normalize_columns(targets4, ['X1','Y1','Z1'])\n",
        "\n",
        "targets = pd.concat([targets,targets1,targets2,targets3,targets4])"
      ]
    },
    {
      "cell_type": "code",
      "execution_count": null,
      "metadata": {
        "colab": {
          "base_uri": "https://localhost:8080/",
          "height": 424
        },
        "id": "qUZH1JpDfNY0",
        "outputId": "694acf4b-ac9a-401f-f4ef-d6b8105ebf1b"
      },
      "outputs": [],
      "source": [
        "features"
      ]
    },
    {
      "cell_type": "code",
      "execution_count": null,
      "metadata": {
        "cellView": "form",
        "colab": {
          "base_uri": "https://localhost:8080/",
          "height": 363
        },
        "id": "OtsO4hF1fHUU",
        "outputId": "3b3e33b6-a0eb-474b-814a-67338bee9fdd"
      },
      "outputs": [],
      "source": [
        "targets.head(10)"
      ]
    },
    {
      "cell_type": "code",
      "execution_count": null,
      "metadata": {
        "colab": {
          "base_uri": "https://localhost:8080/",
          "height": 564
        },
        "id": "qfQpXmlNhKwF",
        "outputId": "ddea5b6f-cb23-4bda-84cf-f7963dc159b8"
      },
      "outputs": [],
      "source": [
        "targets_norm['time'] = pd.to_datetime(targets_norm['time'], unit='ns')\n",
        "\n",
        "# Reshape the DataFrame using melt()\n",
        "targets_melted = targets_norm.reset_index().melt(id_vars=['time'], value_vars=['X1', 'Y1', 'Z1'], var_name='variable', value_name='value')\n",
        "\n",
        "# Drop rows where 'value' is NaN (to keep only the non-null entries)\n",
        "targets_melted = targets_melted.dropna(subset=['value'])\n",
        "\n",
        "# Plot the data\n",
        "plt.figure(figsize=(10, 6))\n",
        "for var in targets_melted['variable'].unique():\n",
        "    # Filter data for each variable and plot\n",
        "    temp_df = targets_melted[targets_melted['variable'] == var]\n",
        "    plt.plot(temp_df['time'], temp_df['value'], label=var)\n",
        "\n",
        "# Add labels and title\n",
        "plt.xlabel('Time')\n",
        "plt.ylabel('Values')\n",
        "plt.title('Plot of X1, Y1, Z1 over Time')\n",
        "plt.legend(title='Variable')\n",
        "\n",
        "# Show the plot\n",
        "plt.show()\n",
        "\n",
        "#targets.plot(y='X1',x='time')"
      ]
    },
    {
      "cell_type": "code",
      "execution_count": null,
      "metadata": {
        "colab": {
          "base_uri": "https://localhost:8080/",
          "height": 458
        },
        "id": "7CNW63bYraTC",
        "outputId": "98669c89-ced9-4255-c9db-88e977f56dad"
      },
      "outputs": [],
      "source": [
        "# Convert 'time' to datetime (nanoseconds to datetime)\n",
        "features['time'] = pd.to_datetime(features['time'], unit='ns')\n",
        "\n",
        "# Set 'time' as the index\n",
        "features.set_index('time', inplace=True)\n",
        "\n",
        "# Optionally, you can plot X1, Y1, Z1 directly\n",
        "features[['Temp Sensor 1', 'Temp Sensor 2', 'Temp Sensor 3', 'Temp Sensor 4', ]].plot()\n",
        "\n",
        "# Add labels and title\n",
        "plt.xlabel('Time')\n",
        "plt.ylabel('Values')\n",
        "plt.title('Plot of Temp Sensor 1, Temp Sensor 2, Temp Sensor 3, Temp Sensor 4 over Time')\n",
        "\n",
        "# Show the plot\n",
        "plt.show()"
      ]
    },
    {
      "cell_type": "code",
      "execution_count": null,
      "metadata": {
        "id": "-fA3WnSK0_PO"
      },
      "outputs": [],
      "source": [
        "PE = False\n",
        "if PE:\n",
        "  # Optionally, you can plot X1, Y1, Z1 directly\n",
        "  features[['PE_X1', 'PE_Y1']].plot()\n",
        "\n",
        "  # Add labels and title\n",
        "  plt.xlabel('Time')\n",
        "  plt.ylabel('Values')\n",
        "  plt.title('Plot of Temp Sensor 1, Temp Sensor 2, Temp Sensor 3, Temp Sensor 4 over Time')\n",
        "\n",
        "  # Show the plot\n",
        "  plt.show()"
      ]
    },
    {
      "cell_type": "code",
      "execution_count": null,
      "metadata": {
        "id": "H7L8dLyMmesB"
      },
      "outputs": [],
      "source": [
        "fixed_targets = transform_dataframe(targets)"
      ]
    },
    {
      "cell_type": "code",
      "execution_count": null,
      "metadata": {
        "colab": {
          "base_uri": "https://localhost:8080/",
          "height": 424
        },
        "id": "23LmYWUfmqDM",
        "outputId": "fc9873f7-b53c-4dbc-a2bd-b0cf9fab7f2c"
      },
      "outputs": [],
      "source": [
        "fixed_targets"
      ]
    },
    {
      "cell_type": "code",
      "execution_count": null,
      "metadata": {
        "id": "DOVEQQeQr36x"
      },
      "outputs": [],
      "source": [
        "complete_numbers = merge_on_closest_time(fixed_targets.reset_index(), features.reset_index())"
      ]
    },
    {
      "cell_type": "code",
      "execution_count": null,
      "metadata": {
        "id": "m39ldRHjsbJH"
      },
      "outputs": [],
      "source": [
        "complete = complete_numbers.rename(columns={\n",
        "    0: 'id',\n",
        "    1: 'time',\n",
        "    2: 'X1',\n",
        "    3: 'Y1',\n",
        "    4: 'Z1',\n",
        "    5: 'to_remove',\n",
        "    6: 'Temp1',\n",
        "    7: 'Temp2',\n",
        "    8: 'Temp3',\n",
        "    9: 'Temp4'\n",
        "    })\n",
        "complete.drop(['to_remove', 'time'], axis=1, inplace=True)"
      ]
    },
    {
      "cell_type": "code",
      "execution_count": null,
      "metadata": {},
      "outputs": [],
      "source": [
        "complete"
      ]
    },
    {
      "cell_type": "code",
      "execution_count": null,
      "metadata": {},
      "outputs": [],
      "source": [
        "complete.astype(float)\n",
        "\n",
        "X = complete[['Temp1','Temp2', 'Temp3', 'Temp4']]\n",
        "Y = complete[['X1', 'Y1', 'Z1']]\n",
        "\n",
        "Y = Y.values.astype(np.float32)\n",
        "Y = np.gradient(Y, axis=0)\n",
        "X = X.values.astype(np.float32)\n",
        "X /= 100"
      ]
    },
    {
      "cell_type": "code",
      "execution_count": null,
      "metadata": {
        "colab": {
          "base_uri": "https://localhost:8080/"
        },
        "id": "7wQamHTRAwTF",
        "outputId": "ed825791-2b10-4893-8cbd-0bf55d3b551c"
      },
      "outputs": [],
      "source": [
        "print(X)\n",
        "print(Y)"
      ]
    },
    {
      "cell_type": "code",
      "execution_count": null,
      "metadata": {
        "id": "rQtzgjhwgs3Y"
      },
      "outputs": [],
      "source": [
        "def split(listToSplit, splitPercentages):\n",
        "  length = len(listToSplit)\n",
        "  splittedList = []\n",
        "  lastIndex = 0\n",
        "  for percentageIndex in range(len(splitPercentages)):\n",
        "    print(lastIndex)\n",
        "    splittedList.append(listToSplit[lastIndex:lastIndex+int(splitPercentages[percentageIndex]*length)])\n",
        "    lastIndex += int(splitPercentages[percentageIndex]*length)\n",
        "\n",
        "  return splittedList"
      ]
    },
    {
      "cell_type": "code",
      "execution_count": null,
      "metadata": {
        "colab": {
          "base_uri": "https://localhost:8080/"
        },
        "id": "5oZLh4TnhL7h",
        "outputId": "9c34e4c1-edfc-43e5-920a-4ad193a432fa"
      },
      "outputs": [],
      "source": [
        "splitPerc = [0.7,0.2,0.1]\n",
        "splitted_X = split(X, splitPerc)\n",
        "splitted_Y = split(Y, splitPerc)"
      ]
    },
    {
      "cell_type": "code",
      "execution_count": null,
      "metadata": {
        "id": "3kBwDGIhH3Qn"
      },
      "outputs": [],
      "source": [
        "class thermal_dataset(Dataset):\n",
        "  def __init__(self, data, lookback):\n",
        "    super()\n",
        "    X, y = [], []\n",
        "    #print(data)\n",
        "    #print(lookback)\n",
        "    #print(len(data[0])-lookback)\n",
        "    for i in range(len(data[0])-lookback):\n",
        "      feature = data[0][i:i+lookback]\n",
        "      target = data[1][i:i+lookback]\n",
        "      X.append(feature)\n",
        "      y.append(target)\n",
        "    self.X = torch.tensor(np.array(X))\n",
        "    self.y = torch.tensor(np.array(y))\n",
        "\n",
        "  def __getitem__(self, index):\n",
        "    return self.X[index], self.y[index]\n",
        "\n",
        "  def __len__(self):\n",
        "    return self.X.shape[0]"
      ]
    },
    {
      "cell_type": "code",
      "execution_count": null,
      "metadata": {
        "id": "J6EO-0bJDOOv"
      },
      "outputs": [],
      "source": [
        "datasetTrain = thermal_dataset((splitted_X[0],splitted_Y[0]), 5)\n",
        "datasetTest = thermal_dataset((splitted_X[1],splitted_Y[1]), 5)\n",
        "datasetVal = thermal_dataset((splitted_X[2],splitted_Y[2]), 5)"
      ]
    },
    {
      "cell_type": "code",
      "execution_count": null,
      "metadata": {
        "colab": {
          "base_uri": "https://localhost:8080/"
        },
        "id": "fh9HS2aCDVZJ",
        "outputId": "60c18f2b-7968-4903-be86-e3958891ff18"
      },
      "outputs": [],
      "source": [
        "datasetTrain[-1]"
      ]
    },
    {
      "cell_type": "markdown",
      "metadata": {
        "id": "pnlFgCAkol0x"
      },
      "source": [
        "# MODEL"
      ]
    },
    {
      "cell_type": "code",
      "execution_count": null,
      "metadata": {
        "id": "GCyDsfg1_780"
      },
      "outputs": [],
      "source": [
        "class lstm_extractor(nn.Module):\n",
        "  def __init__(self, feature_dim, input_dim):\n",
        "    super(lstm_extractor, self).__init__()\n",
        "    self.lstm = nn.LSTM(input_size=input_dim, hidden_size=feature_dim)\n",
        "\n",
        "  def forward(self, x):\n",
        "    output, (hidden_state, cell_state) = self.lstm(x)\n",
        "    #print(hidden_state.shape)\n",
        "\n",
        "    return hidden_state\n"
      ]
    },
    {
      "cell_type": "code",
      "execution_count": null,
      "metadata": {
        "id": "nixXbpcbHfeR"
      },
      "outputs": [],
      "source": [
        "class rnn_extractor(nn.Module):\n",
        "  def __init__(self, feature_dim, input_dim):\n",
        "    super(rnn_extractor, self).__init__()\n",
        "    self.rnn = nn.RNN(input_size=input_dim, hidden_size=feature_dim)\n",
        "\n",
        "  def forward(self, x):\n",
        "    output, (hidden_state, cell_state) = self.rnn(x)\n",
        "    #print(hidden_state.shape)\n",
        "\n",
        "    return hidden_state"
      ]
    },
    {
      "cell_type": "code",
      "execution_count": null,
      "metadata": {
        "id": "zzRSIX6gIQr9"
      },
      "outputs": [],
      "source": [
        "class complete_model(nn.Module):\n",
        "  def __init__(self, hidden_dim, input_dim, output_dim):\n",
        "    super(complete_model, self).__init__()\n",
        "    self.first = lstm_extractor(hidden_dim, input_dim)\n",
        "    self.out = nn.Linear(hidden_dim, output_dim)\n",
        "\n",
        "  def forward(self, x):\n",
        "    #print(type(x))\n",
        "    x = self.first(x)\n",
        "    x = self.out(x)\n",
        "    return x\n",
        "  \n",
        "  def save(self, epoch):\n",
        "\n",
        "    # Get current timestamp\n",
        "    current_time = datetime.now().strftime('%Y-%m-%d_%H')\n",
        "\n",
        "    # Create the directory of results\n",
        "    dir_path = 'results/training_' + current_time # path of type 'results/training_2024-12-22_14\n",
        "    os.makedirs(dir_path, exist_ok=True) # Create the directory\n",
        "\n",
        "    save_name = 'model_' + str(epoch) + '.pt' # Model name of the type 'model_50.pt' where 50 is the epoch \n",
        "    save_path = os.path.join(dir_path, save_name) # path of type '/training_2024-12-22_14-57/model_50.pt\n",
        "    torch.save(self.state_dict(), save_path) # Save the model\n",
        "    print(f'Model saved to {save_path}') "
      ]
    },
    {
      "cell_type": "code",
      "execution_count": null,
      "metadata": {
        "id": "BbEyWHlGEJHm"
      },
      "outputs": [],
      "source": [
        "loaderTrain = DataLoader(datasetTrain, shuffle=True, batch_size=8)\n",
        "loaderTest = DataLoader(datasetTest, shuffle=True, batch_size=8)\n",
        "loaderVal = DataLoader(datasetVal, shuffle=True, batch_size=8)\n",
        "model = complete_model(hidden_dim = 10, input_dim=4, output_dim=3)\n",
        "optimizer = optim.Adam(model.parameters())\n",
        "loss_fn = nn.MSELoss()"
      ]
    },
    {
      "cell_type": "code",
      "execution_count": null,
      "metadata": {},
      "outputs": [],
      "source": [
        "train(\n",
        "    num_epochs=5,\n",
        "    loss_fn=loss_fn,\n",
        "    model=model,\n",
        "    optimizer=optimizer,\n",
        "    training_dataloader=loaderTrain,\n",
        "    validation_dataloader=loaderVal,\n",
        ")"
      ]
    }
  ],
  "metadata": {
    "colab": {
      "provenance": []
    },
    "kernelspec": {
      "display_name": "Python 3",
      "name": "python3"
    },
    "language_info": {
      "codemirror_mode": {
        "name": "ipython",
        "version": 3
      },
      "file_extension": ".py",
      "mimetype": "text/x-python",
      "name": "python",
      "nbconvert_exporter": "python",
      "pygments_lexer": "ipython3",
      "version": "3.9.20"
    }
  },
  "nbformat": 4,
  "nbformat_minor": 0
}
