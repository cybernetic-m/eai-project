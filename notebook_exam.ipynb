{
  "cells": [
    {
      "cell_type": "markdown",
      "metadata": {
        "id": "l3O4mXmBol0t"
      },
      "source": [
        "# IMPORT"
      ]
    },
    {
      "cell_type": "code",
      "execution_count": 1,
      "metadata": {},
      "outputs": [],
      "source": [
        "try:\n",
        "    import google.colab # type: ignore\n",
        "    colab = True\n",
        "except:\n",
        "    colab = False\n",
        "\n",
        "if colab:\n",
        "    !git clone \"https://github.com/cybernetic-m/eai-project.git\" # type: ignore"
      ]
    },
    {
      "cell_type": "code",
      "execution_count": 2,
      "metadata": {
        "id": "9gQw18CXol0v"
      },
      "outputs": [],
      "source": [
        "# Model\n",
        "import torch\n",
        "import torch.nn as nn\n",
        "from torch.utils.data import DataLoader\n",
        "from torch import optim\n",
        "from torch.optim.lr_scheduler import ExponentialLR \n",
        "\n",
        "# Others\n",
        "import pandas as pd\n",
        "import numpy as np\n",
        "import matplotlib.pyplot as plt\n",
        "import os\n",
        "import sys\n",
        "import json\n",
        "from sklearn.preprocessing import StandardScaler, MinMaxScaler\n",
        " \n",
        "# Our files\n",
        "if colab:\n",
        "    sys.path.append('/content/eai-project/training')\n",
        "    sys.path.append('/content/eai-project/preprocessing')\n",
        "    sys.path.append('/content/eai-project/dataset')\n",
        "    sys.path.append('/content/eai-project/utils')\n",
        "    sys.path.append('/content/eai-project/models')\n",
        "    sys.path.append('/content/eai-project/testing')\n",
        "    from train import train\n",
        "    from preprocessing import *\n",
        "    from thermal_dataset import thermal_dataset \n",
        "    from utils import *\n",
        "    from complete_model import complete_model \n",
        "    from lstm_only import lstm_only\n",
        "    from testing import test\n",
        "    prefix = '/content'\n",
        "        \n",
        "else:\n",
        "    from training.train import train\n",
        "    from preprocessing.preprocessing import *\n",
        "    from dataset.thermal_dataset import thermal_dataset\n",
        "    from utils.csv_utils import *\n",
        "    from models.complete_model import complete_model\n",
        "    from models.complete_model_autoencoder import complete_model_autoencoder\n",
        "    from models.lstm_only import lstm_only\n",
        "    from testing.test import test\n",
        "    from blocks import mlp, linear, rnn, lstm, cnn\n",
        "    prefix = '.'\n",
        "    \n",
        "pd.set_option('display.max_columns', None)"
      ]
    },
    {
      "cell_type": "code",
      "execution_count": 3,
      "metadata": {},
      "outputs": [],
      "source": [
        "autoencoder_train = False # to train only the autoencoder\n",
        "\n",
        "hyper_parameters = {'num_epochs': 100,\n",
        "                    'batch_size': 256,\n",
        "                    'hidden_dim' : 3,\n",
        "                    'lr': 0.001,\n",
        "                    'mode': 'auto-weighted', #average, mlp, linear, auto-weighted\n",
        "                    'extractor_type': 'conv', #lstm (if you want to use the lstm autoencoder), conv (if you want to use the convolutional autoencoder)\n",
        "                    'ensemble': True,\n",
        "                    'timesteps': 200,\n",
        "                    'window_size':30,\n",
        "                    'norm': 'Std', # Not (Raw Data), Minmax (MinMax Scaling), Std (Standard Scaling)\n",
        "                    'file':1,\n",
        "                    'weight_decay': 0,\n",
        "                    'pretrain':False,\n",
        "                    'heterogeneous': True,\n",
        "                    'lr_multipliers_extractor': 0.1,\n",
        "                    'lr_multipliers_ensemble': {\n",
        "                        mlp: 10,\n",
        "                        linear: 10,\n",
        "                        rnn: 1,\n",
        "                        lstm: 1,\n",
        "                        cnn: 1\n",
        "                    }\n",
        "\n",
        "                        }\n",
        "\n",
        "# Parameters of the convolutional autoencoder\n",
        "conv_autoencoder_dict = {'in_kern_out': [[4, 5, 5], [5, 5, 6],[6, 5, 7]], # List of hyperparam of autoencoder [[in_channels, kernel_size, out_channels], ...]\n",
        "                    'pooling_kernel_size': 2, # how much big is the kernel of the pooling (i.e. 2 means halving the dimension each layer)\n",
        "                    'padding': 'same', # 'same', 'full', 'valid'\n",
        "                    'pooling': 'max', # 'max' for Max Pooling and 'avg' for Average Pooling \n",
        "                    'scale_factor': 2, # upsample scale_factor, 2 means double the dimension each layer\n",
        "                    'upsample_mode': 'linear', # mode of the upsampling 'linear', 'nearest'\n",
        "                    'dropout': 0.0\n",
        " }\n",
        "\n",
        "lstm_autoencoder_dict = {'in_hidd': [[4, 3], [3,2]], # List of hyperparam of autoencoder [[input_dim, hidden_dim], ...]\n",
        "                        'dropout': 0.75\n",
        " }\n",
        "\n",
        "\n",
        "if hyper_parameters['extractor_type'] == 'conv':\n",
        "    feature_dim = int(( hyper_parameters['timesteps'] / (2*(len(conv_autoencoder_dict['in_kern_out'])-1))*conv_autoencoder_dict['in_kern_out'][-1][-1]) /2)\n",
        "elif hyper_parameters['extractor_type'] == 'lstm':\n",
        "    feature_dim = hyper_parameters['timesteps']*lstm_autoencoder_dict['in_hidd'][-1][-1] \n",
        "if hyper_parameters['heterogeneous']:\n",
        "    feature_dim += 3\n",
        "    \n",
        "\n",
        "# Definition of the model (You can decomment to include more models)\n",
        "ensemble_model = {\n",
        "    'mlp': [{'layer_dim_list': [ feature_dim,int(feature_dim/1.5),int(feature_dim/3),int(feature_dim/5),int(feature_dim/8),int(feature_dim/10),3]}],\n",
        "            #{'layer_dim_list': [ feature_dim,int(feature_dim*1.5),3]}], \n",
        "    'ARIMA': [{'p': 2, 'd': 0, 'q': 2, 'ps': 0, 'ds': 0, 'qs': 0, 's': 1}], \n",
        "    #'linear_regressor': [{'in_features': feature_dim, 'out_features': 3, 'bias':False}],\n",
        "    'lstm': [{'feature_dim':3, 'input_dim':feature_dim, 'num_layers':1}],\n",
        "    #'rnn': [{'feature_dim':3, 'input_dim':feature_dim, 'num_layers':1}],\n",
        "    #'cnn': [{'input_dim':hyper_parameters['hidden_dim'],\n",
        "    #            'hidden_dim_list': [ int(feature_dim/10),int(feature_dim/20),int(feature_dim/30)],\n",
        "    #            'output_dim': 3,\n",
        "    #            'kernel_size_list':[2,4,2]\n",
        "    #            }]\n",
        "}"
      ]
    },
    {
      "cell_type": "code",
      "execution_count": 4,
      "metadata": {},
      "outputs": [
        {
          "name": "stdout",
          "output_type": "stream",
          "text": [
            "Data already exists!\n",
            "./data/Xtraining1Std.npy\n",
            "./data/Y30training1Std.npy\n"
          ]
        }
      ],
      "source": [
        "skip = False\n",
        "test_flag = True\n",
        "\n",
        "if os.path.exists(prefix+'/data/X'+'training'+str(hyper_parameters['file'])+str(hyper_parameters['norm'])+'.npy') and os.path.exists(prefix+'/data/Y'+str(hyper_parameters['window_size'])+'training'+str(hyper_parameters['file'])+str(hyper_parameters['norm'])+'.npy'):\n",
        "    print(\"Data already exists!\")\n",
        "    print(prefix+'/data/X'+'training'+str(hyper_parameters['file'])+str(hyper_parameters['norm'])+'.npy')\n",
        "    print(prefix+'/data/Y'+str(hyper_parameters['window_size'])+'training'+str(hyper_parameters['file'])+str(hyper_parameters['norm'])+'.npy')\n",
        "    skip = True"
      ]
    },
    {
      "cell_type": "markdown",
      "metadata": {},
      "source": [
        "**Reproducibility and Device Setting**"
      ]
    },
    {
      "cell_type": "code",
      "execution_count": 5,
      "metadata": {},
      "outputs": [],
      "source": [
        "# Set a seed for reproducibility purposes\n",
        "seed = 46\n",
        "torch.manual_seed(seed)\n",
        "torch.backends.cudnn.deterministic = True\n",
        "torch.backends.cudnn.benchmark = False\n",
        "np.random.seed(seed)\n",
        "\n",
        "# Set the device (cuda for Nvidia GPUs, mps for M1, M2 .. Apple Silicon)\n",
        "if torch.cuda.is_available():\n",
        "    device = \"cuda\"\n",
        "elif torch.backends.mps.is_available():\n",
        "    device = \"mps\"\n",
        "else:\n",
        "    device = \"cpu\""
      ]
    },
    {
      "cell_type": "markdown",
      "metadata": {
        "id": "FFQrCrM-ol0w"
      },
      "source": [
        "# DATASET"
      ]
    },
    {
      "cell_type": "code",
      "execution_count": 6,
      "metadata": {
        "colab": {
          "base_uri": "https://localhost:8080/"
        },
        "id": "1mHN7T9Rol0x",
        "outputId": "6d8b8eef-3135-4b49-f113-9ac4548ea7aa"
      },
      "outputs": [
        {
          "name": "stdout",
          "output_type": "stream",
          "text": [
            "CSV file already downloaded!\n",
            "CSV file already unzipped!\n"
          ]
        }
      ],
      "source": [
        "link_zipped_csv = 'https://drive.google.com/file/d/1MssQF4pI_rZqiiDBP4XaLTT1ZaN6ykLm/view?usp=drive_link'\n",
        "gdrive_link = 'https://drive.google.com/uc?id='\n",
        "csv_dir = './csv'\n",
        "zipped_file = './csv.zip'\n",
        "\n",
        "download_csv(\n",
        "    link_zipped_csv,\n",
        "    gdrive_link,\n",
        "    zipped_file\n",
        ")\n",
        "\n",
        "unzip_csv(\n",
        "    zipped_file,\n",
        "    csv_dir,\n",
        ")\n"
      ]
    },
    {
      "cell_type": "code",
      "execution_count": 7,
      "metadata": {
        "id": "eKLx-ldvGxvs"
      },
      "outputs": [],
      "source": [
        "if not skip:\n",
        "\n",
        "    path = '/content/csv/thermal_drift_features_lab_05_02.csv'\n",
        "\n",
        "    # Read all the CSV files containing the Temperatures\n",
        "    features_1 = pd.read_csv(os.path.join(prefix,'csv/thermal_drift_features_lab_05_02.csv'))\n",
        "    features_2 = pd.read_csv(os.path.join(prefix, 'csv/thermal_drift_features_lab_05_03.csv'))\n",
        "    features_3 = pd.read_csv(os.path.join(prefix,'csv/thermal_drift_features_lab_05_04.csv'))\n",
        "    features_4 = pd.read_csv(os.path.join(prefix,'csv/thermal_drift_features_lab_05_05.csv'))\n",
        "    features_5 = pd.read_csv(os.path.join(prefix,'csv/thermal_drift_features_lab_05_06.csv'))\n",
        "\n",
        "    # Read all the CSV files containing the X1, Y1, Z1 \n",
        "    targets_1 = pd.read_csv(os.path.join(prefix,'csv/thermal_drift_targets_lab_05_02.csv'))\n",
        "    targets_2 = pd.read_csv(os.path.join(prefix,'csv/thermal_drift_targets_lab_05_03.csv'))\n",
        "    targets_3 = pd.read_csv(os.path.join(prefix,'csv/thermal_drift_targets_lab_05_04.csv'))\n",
        "    targets_4 = pd.read_csv(os.path.join(prefix,'csv/thermal_drift_targets_lab_05_05.csv'))\n",
        "    targets_5 = pd.read_csv(os.path.join(prefix,'csv/thermal_drift_targets_lab_05_06.csv'))\n",
        "\n",
        "    features = [features_1, features_2, features_3, features_4, features_5]\n",
        "    targets = [targets_1,targets_2,targets_3,targets_4,targets_5]"
      ]
    },
    {
      "cell_type": "code",
      "execution_count": 8,
      "metadata": {},
      "outputs": [],
      "source": [
        "if not skip:\n",
        "    for feature, target in zip(features, targets):\n",
        "        feature.drop([\n",
        "            \"name\", \"tags\",\n",
        "            \"2\\\"Tray1 Vacuum Sensor\", \"2\\\"Tray2 Vacuum Sensor\", \"2\\\"Tray3 Vacuum Sensor\",\n",
        "            \"Avg Oven Temperature\", \"Chuck Temp [Cdeg]\", \"Chuck Temp2 [Cdeg]\",\n",
        "            \"Chuck1 Vacuum Sensor\", \"Contrast\", \"Device State\",\n",
        "            \"Dispenser1 Pressure Sensor\", \"Machine Room Temp\", \"Main Air\", \"Main Vacuum\",\n",
        "            \"Oven Temperature\", \"PE_Rx\", \"PE_Ry\", \"PE_Rz\", \"PE_X1\", \"PE_Y1\", \"PE_Z1\",\n",
        "            \"PUT1 Flow Sensor\", \"PUT2 Flow Sensor1\", \"PUT2 Flow Sensor2\",\n",
        "            \"PUT2 Flow Sensor3\", \"PUT2 Flow Sensor4\", \"PUT2 Flow Sensor5\",\n",
        "            \"Photodiode\", \"Pixel Power\", \"Preciser1 Vacuum Sensor\",\n",
        "            \"Tec FIB1 Holder\", \"Tec FIB1 Plate\", \"Tec FIB2 Holder\", \"Tec FIB2 Plate\",\n",
        "            \"Torque11\",\"Torque2\",\"Torque3\",\"Torque4\",\"Torque5\",\"Torque6\"\n",
        "        ], axis=1, inplace=True)\n",
        "        if 'name' in target.keys() and 'tags' in target.keys():\n",
        "\n",
        "            target.drop(['name', 'tags'], axis=1, inplace=True)\n",
        "            \n",
        "            \n"
      ]
    },
    {
      "cell_type": "code",
      "execution_count": 9,
      "metadata": {
        "colab": {
          "base_uri": "https://localhost:8080/",
          "height": 424
        },
        "id": "qUZH1JpDfNY0",
        "outputId": "694acf4b-ac9a-401f-f4ef-d6b8105ebf1b"
      },
      "outputs": [],
      "source": [
        "if not skip:\n",
        "    print(features[1]) # Print the features_1 table"
      ]
    },
    {
      "cell_type": "code",
      "execution_count": 10,
      "metadata": {
        "cellView": "form",
        "colab": {
          "base_uri": "https://localhost:8080/",
          "height": 363
        },
        "id": "OtsO4hF1fHUU",
        "outputId": "3b3e33b6-a0eb-474b-814a-67338bee9fdd"
      },
      "outputs": [],
      "source": [
        "if not skip:\n",
        "\n",
        "    print(targets[1]) # Print the target_1"
      ]
    },
    {
      "cell_type": "code",
      "execution_count": 11,
      "metadata": {
        "id": "H7L8dLyMmesB"
      },
      "outputs": [],
      "source": [
        "if not skip:\n",
        "    # Put X1, Y1, Z1 on the same row of X1 eliminating the NAN values\n",
        "    fixed_targets = [] # Create a list of target in which we put X1, Y1, Z1 in the same row\n",
        "    for target in targets:\n",
        "        fixed_targets.append(transform_dataframe(target)) # iterate over target_1,2,3 ... and append in fixed_targets\n",
        "        \n",
        "        "
      ]
    },
    {
      "cell_type": "code",
      "execution_count": 12,
      "metadata": {
        "colab": {
          "base_uri": "https://localhost:8080/",
          "height": 424
        },
        "id": "23LmYWUfmqDM",
        "outputId": "fc9873f7-b53c-4dbc-a2bd-b0cf9fab7f2c"
      },
      "outputs": [],
      "source": [
        "if not skip:\n",
        "\n",
        "    print(fixed_targets[1]) # Print the fixed_target_1"
      ]
    },
    {
      "cell_type": "code",
      "execution_count": 13,
      "metadata": {
        "id": "DOVEQQeQr36x"
      },
      "outputs": [],
      "source": [
        "if not skip:\n",
        "    # Merge of targets with features in one single dataframe\n",
        "    complete_numbers_list = [] # List of the table with columns that are numbers (0,1,2..) in which we unify both features and targets merging on closest time row\n",
        "    for fixed_target, feature in zip(fixed_targets, features):\n",
        "        complete_numbers_list.append(merge_on_closest_time(fixed_target.reset_index(), feature.reset_index()))\n",
        "\n",
        "    trainig_number_list = []\n",
        "    testing_number_list = []\n",
        "    for i in range(len(complete_numbers_list)):\n",
        "        part_numbers_list = complete_numbers_list[:i] + complete_numbers_list[i+1:]\n",
        "        trainig_number_list.append(pd.concat(part_numbers_list))\n",
        "        testing_number_list.append(complete_numbers_list[i])\n",
        "        \n",
        "    complete_numbers_dataframe = pd.concat(complete_numbers_list)\n",
        "    \n"
      ]
    },
    {
      "cell_type": "code",
      "execution_count": 14,
      "metadata": {},
      "outputs": [],
      "source": [
        "if not skip: \n",
        "    print(complete_numbers_list) # Print of one example"
      ]
    },
    {
      "cell_type": "code",
      "execution_count": 15,
      "metadata": {
        "id": "m39ldRHjsbJH"
      },
      "outputs": [],
      "source": [
        "if not skip:\n",
        "\n",
        "    complete = complete_numbers_dataframe.rename(columns={\n",
        "        0: 'id',\n",
        "        1: 'time',\n",
        "        2: 'X1',\n",
        "        3: 'Y1',\n",
        "        4: 'Z1',\n",
        "        5: 'to_remove',\n",
        "        6: 'time_2',\n",
        "        7: 'Temp1',\n",
        "        8: 'Temp2',\n",
        "        9: 'Temp3',\n",
        "        10: 'Temp4'\n",
        "        })\n",
        "    complete.drop(['time', 'to_remove', 'time_2'], axis=1, inplace=True)\n",
        "    training_list = []\n",
        "    testing_list = []\n",
        "    for training, testing in zip(trainig_number_list, testing_number_list):\n",
        "        training_tmp = training.rename(columns={\n",
        "            0: 'id',\n",
        "            1: 'time',\n",
        "            2: 'X1',\n",
        "            3: 'Y1',\n",
        "            4: 'Z1',\n",
        "            5: 'to_remove',\n",
        "            6: 'time_2',\n",
        "            7: 'Temp1',\n",
        "            8: 'Temp2',\n",
        "            9: 'Temp3',\n",
        "            10: 'Temp4'\n",
        "            })\n",
        "        training_tmp.drop(['time', 'to_remove', 'time_2'], axis=1, inplace=True)\n",
        "        training_list.append(training_tmp)\n",
        "        \n",
        "        testing_tmp = testing.rename(columns={\n",
        "            0: 'id',\n",
        "            1: 'time',\n",
        "            2: 'X1',\n",
        "            3: 'Y1',\n",
        "            4: 'Z1',\n",
        "            5: 'to_remove',\n",
        "            6: 'time_2',\n",
        "            7: 'Temp1',\n",
        "            8: 'Temp2',\n",
        "            9: 'Temp3',\n",
        "            10: 'Temp4'\n",
        "            })\n",
        "        testing_tmp.drop(['time', 'to_remove', 'time_2'], axis=1, inplace=True)\n",
        "        testing_list.append(testing_tmp)\n",
        "        "
      ]
    },
    {
      "cell_type": "code",
      "execution_count": 16,
      "metadata": {},
      "outputs": [],
      "source": [
        "if not skip:\n",
        "\n",
        "    print(training_list)"
      ]
    },
    {
      "cell_type": "code",
      "execution_count": 17,
      "metadata": {},
      "outputs": [],
      "source": [
        "if not skip:\n",
        "\n",
        "    # Save the features and targets in file npy\n",
        "    for i, (testing, training) in enumerate(zip(testing_list, training_list)):\n",
        "\n",
        "        # Transform the training and test data in float\n",
        "        training.astype(float) \n",
        "        testing.astype(float) \n",
        "\n",
        "        # Take from dataframe the values of the columns of temperatures and positions saving into smallest dataframe of training/test\n",
        "        X_train = training[['Temp1','Temp2', 'Temp3', 'Temp4']] \n",
        "        Y_train = training[['X1', 'Y1', 'Z1']] \n",
        "        X_test = testing[['Temp1','Temp2', 'Temp3', 'Temp4']] \n",
        "        Y_test = testing[['X1', 'Y1', 'Z1']] \n",
        "\n",
        "        # Transform the X, Y from dataframe in numpy array both for test and train\n",
        "        X_train = X_train.values.astype(np.float32) \n",
        "        Y_train = Y_train.values.astype(np.float32) \n",
        "        X_test = X_test.values.astype(np.float32) \n",
        "        Y_test = Y_test.values.astype(np.float32) \n",
        "\n",
        "        # Do the gradient of the positions both for test and train\n",
        "        Y_train = my_gradient(Y_train, window_size=hyper_parameters['window_size']) \n",
        "        Y_test = my_gradient(Y_test, window_size=hyper_parameters['window_size']) \n",
        " \n",
        "\n",
        "        # Apply the scaling\n",
        "        if hyper_parameters['norm'] != 'Not':\n",
        "            if hyper_parameters['norm'] == 'Minmax':\n",
        "                scaler = MinMaxScaler()\n",
        "            elif hyper_parameters['norm'] == 'Std':\n",
        "                scaler = StandardScaler()\n",
        "\n",
        "            X_train = scaler.fit_transform(X_train)\n",
        "            X_test = scaler.fit_transform(X_test)\n",
        "            Y_train = scaler.fit_transform(Y_train)\n",
        "            Y_test = scaler.fit_transform(Y_test)\n",
        "        else:\n",
        "            print(\"Using Raw Data!\")\n",
        "    \n",
        "        \n",
        "        # Save the features and targets in file npy\n",
        "        np.save(prefix+'/data'+'/X'+'training'+str(i)+str(hyper_parameters['norm'])+'.npy',X_train)  \n",
        "        np.save(prefix+'/data'+'/Y'+str(hyper_parameters['window_size'])+'training'+str(i)+str(hyper_parameters['norm'])+'.npy',Y_train)\n",
        "        np.save(prefix+'/data'+'/X'+'testing'+str(i)+str(hyper_parameters['norm'])+'.npy',X_test)\n",
        "        np.save(prefix+'/data'+'/Y'+str(hyper_parameters['window_size'])+'testing'+str(i)+str(hyper_parameters['norm'])+'.npy',Y_test)\n"
      ]
    },
    {
      "cell_type": "code",
      "execution_count": 18,
      "metadata": {},
      "outputs": [],
      "source": [
        "if not skip:\n",
        "\n",
        "    targets_1['time'] = pd.to_datetime(targets_1['time'], unit='ns')\n",
        "\n",
        "    # Reshape the DataFrame using melt()\n",
        "    targets_melted = targets_1.reset_index().melt(id_vars=['time'], value_vars=['X1', 'Y1', 'Z1'], var_name='variable', value_name='value')\n",
        "\n",
        "    # Drop rows where 'value' is NaN (to keep only the non-null entries)\n",
        "    targets_melted = targets_melted.dropna(subset=['value'])\n",
        "\n",
        "    # Plot the data\n",
        "    plt.figure(figsize=(10, 6))\n",
        "    for var in targets_melted['variable'].unique():\n",
        "        # Filter data for each variable and plot\n",
        "        temp_df = targets_melted[targets_melted['variable'] == var]\n",
        "        plt.plot(temp_df['time'], temp_df['value'], label=var)\n",
        "\n",
        "    # Add labels and title\n",
        "    plt.xlabel('Time')\n",
        "    plt.ylabel('Values')\n",
        "    plt.title('Plot of X1, Y1, Z1 over Time')\n",
        "    plt.legend(title='Variable')\n",
        "\n",
        "    # Show the plot\n",
        "    plt.show()\n",
        "\n",
        "    #targets.plot(y='X1',x='time')"
      ]
    },
    {
      "cell_type": "code",
      "execution_count": 19,
      "metadata": {},
      "outputs": [],
      "source": [
        "if not skip:\n",
        "\n",
        "    # Convert 'time' to datetime (nanoseconds to datetime)\n",
        "    features_1['time'] = pd.to_datetime(features_1['time'], unit='ns')\n",
        "\n",
        "    # Set 'time' as the index\n",
        "    features_1.set_index('time', inplace=True)\n",
        "\n",
        "    # Optionally, you can plot X1, Y1, Z1 directly\n",
        "    features_1[['Temp Sensor 1', 'Temp Sensor 2', 'Temp Sensor 3', 'Temp Sensor 4', ]].plot()\n",
        "\n",
        "    # Add labels and title\n",
        "    plt.xlabel('Time')\n",
        "    plt.ylabel('Values')\n",
        "    plt.title('Plot of Temp Sensor 1, Temp Sensor 2, Temp Sensor 3, Temp Sensor 4 over Time')\n",
        "\n",
        "    # Show the plot\n",
        "    plt.show()"
      ]
    },
    {
      "cell_type": "code",
      "execution_count": 20,
      "metadata": {},
      "outputs": [
        {
          "name": "stdout",
          "output_type": "stream",
          "text": [
            "[[ 8.2750964e-01  3.6703822e-01  5.5890518e-01  9.1104820e-02]\n",
            " [ 8.2750964e-01  6.2521166e-01  5.1233166e-01  1.4015545e-01]\n",
            " [ 8.2750964e-01  8.8338506e-01  5.5890518e-01  1.4015545e-01]\n",
            " ...\n",
            " [ 3.4184408e-01  7.9732728e-01  2.2581613e-05 -4.4845200e-01]\n",
            " [ 3.4184408e-01  7.1126944e-01 -4.6550971e-02 -3.5035077e-01]\n",
            " [ 3.4184408e-01  7.1126944e-01  2.2581613e-05 -4.4845200e-01]]\n",
            "[[1.62778128 0.52317057 3.71087109]\n",
            " [1.21107403 0.58705623 4.16294433]\n",
            " [0.85172156 0.63696138 4.30145188]\n",
            " ...\n",
            " [1.48545645 0.79269374 0.93879646]\n",
            " [1.46527607 0.79906461 0.99458422]\n",
            " [1.45607098 0.83136138 0.98304193]]\n",
            "0\n",
            "15880\n",
            "0\n",
            "15859\n"
          ]
        }
      ],
      "source": [
        "X = np.load(prefix+'/data'+'/X'+'training'+str(hyper_parameters['file'])+str(hyper_parameters['norm'])+'.npy')\n",
        "Y = np.load(prefix+'/data'+'/Y'+str(hyper_parameters['window_size'])+'training'+str(hyper_parameters['file'])+str(hyper_parameters['norm'])+'.npy')\n",
        "\n",
        "print(X)\n",
        "print(Y)\n",
        "\n",
        "splitPerc = [0.7,0.3]\n",
        "splitted_X = split(X, splitPerc)\n",
        "splitted_Y = split(Y, splitPerc)"
      ]
    },
    {
      "cell_type": "markdown",
      "metadata": {
        "id": "pnlFgCAkol0x"
      },
      "source": [
        "# MODEL"
      ]
    },
    {
      "cell_type": "code",
      "execution_count": 21,
      "metadata": {},
      "outputs": [],
      "source": [
        "datasetTrain = thermal_dataset((splitted_X[0],splitted_Y[0]), hyper_parameters['timesteps'], device)\n",
        "datasetVal = thermal_dataset((splitted_X[1],splitted_Y[1]), hyper_parameters['timesteps'], device)"
      ]
    },
    {
      "cell_type": "code",
      "execution_count": 22,
      "metadata": {
        "id": "BbEyWHlGEJHm"
      },
      "outputs": [
        {
          "ename": "TypeError",
          "evalue": "__init__() missing 1 required positional argument: 'timesteps'",
          "output_type": "error",
          "traceback": [
            "\u001b[0;31m---------------------------------------------------------------------------\u001b[0m",
            "\u001b[0;31mTypeError\u001b[0m                                 Traceback (most recent call last)",
            "Cell \u001b[0;32mIn[22], line 14\u001b[0m\n\u001b[1;32m     12\u001b[0m \u001b[38;5;28;01melif\u001b[39;00m hyper_parameters[\u001b[38;5;124m'\u001b[39m\u001b[38;5;124mensemble\u001b[39m\u001b[38;5;124m'\u001b[39m] \u001b[38;5;241m==\u001b[39m \u001b[38;5;28;01mTrue\u001b[39;00m:\n\u001b[1;32m     13\u001b[0m     \u001b[38;5;28;01mif\u001b[39;00m hyper_parameters[\u001b[38;5;124m'\u001b[39m\u001b[38;5;124mextractor_type\u001b[39m\u001b[38;5;124m'\u001b[39m] \u001b[38;5;241m==\u001b[39m \u001b[38;5;124m'\u001b[39m\u001b[38;5;124mconv\u001b[39m\u001b[38;5;124m'\u001b[39m:\n\u001b[0;32m---> 14\u001b[0m         model \u001b[38;5;241m=\u001b[39m \u001b[43mcomplete_model_autoencoder\u001b[49m\u001b[43m(\u001b[49m\u001b[43mensemble_model\u001b[49m\u001b[43m,\u001b[49m\u001b[43m \u001b[49m\n\u001b[1;32m     15\u001b[0m \u001b[43m                                           \u001b[49m\u001b[43mdevice\u001b[49m\u001b[43m,\u001b[49m\u001b[43m \u001b[49m\n\u001b[1;32m     16\u001b[0m \u001b[43m                                           \u001b[49m\u001b[43mautoencoder_dim\u001b[49m\u001b[38;5;241;43m=\u001b[39;49m\u001b[43mconv_autoencoder_dict\u001b[49m\u001b[43m[\u001b[49m\u001b[38;5;124;43m'\u001b[39;49m\u001b[38;5;124;43min_kern_out\u001b[39;49m\u001b[38;5;124;43m'\u001b[39;49m\u001b[43m]\u001b[49m\u001b[43m,\u001b[49m\u001b[43m \u001b[49m\n\u001b[1;32m     17\u001b[0m \u001b[43m                                           \u001b[49m\u001b[43mpooling_kernel_size\u001b[49m\u001b[38;5;241;43m=\u001b[39;49m\u001b[43mconv_autoencoder_dict\u001b[49m\u001b[43m[\u001b[49m\u001b[38;5;124;43m'\u001b[39;49m\u001b[38;5;124;43mpooling_kernel_size\u001b[39;49m\u001b[38;5;124;43m'\u001b[39;49m\u001b[43m]\u001b[49m\u001b[43m,\u001b[49m\u001b[43m \u001b[49m\n\u001b[1;32m     18\u001b[0m \u001b[43m                                           \u001b[49m\u001b[43mpadding\u001b[49m\u001b[38;5;241;43m=\u001b[39;49m\u001b[43mconv_autoencoder_dict\u001b[49m\u001b[43m[\u001b[49m\u001b[38;5;124;43m'\u001b[39;49m\u001b[38;5;124;43mpadding\u001b[39;49m\u001b[38;5;124;43m'\u001b[39;49m\u001b[43m]\u001b[49m\u001b[43m,\u001b[49m\u001b[43m \u001b[49m\n\u001b[1;32m     19\u001b[0m \u001b[43m                                           \u001b[49m\u001b[43mpooling\u001b[49m\u001b[38;5;241;43m=\u001b[39;49m\u001b[43mconv_autoencoder_dict\u001b[49m\u001b[43m[\u001b[49m\u001b[38;5;124;43m'\u001b[39;49m\u001b[38;5;124;43mpooling\u001b[39;49m\u001b[38;5;124;43m'\u001b[39;49m\u001b[43m]\u001b[49m\u001b[43m,\u001b[49m\u001b[43m \u001b[49m\n\u001b[1;32m     20\u001b[0m \u001b[43m                                           \u001b[49m\u001b[43mscale_factor\u001b[49m\u001b[43m \u001b[49m\u001b[38;5;241;43m=\u001b[39;49m\u001b[43m \u001b[49m\u001b[43mconv_autoencoder_dict\u001b[49m\u001b[43m[\u001b[49m\u001b[38;5;124;43m'\u001b[39;49m\u001b[38;5;124;43mscale_factor\u001b[39;49m\u001b[38;5;124;43m'\u001b[39;49m\u001b[43m]\u001b[49m\u001b[43m,\u001b[49m\u001b[43m \u001b[49m\n\u001b[1;32m     21\u001b[0m \u001b[43m                                           \u001b[49m\u001b[43mupsample_mode\u001b[49m\u001b[38;5;241;43m=\u001b[39;49m\u001b[43mconv_autoencoder_dict\u001b[49m\u001b[43m[\u001b[49m\u001b[38;5;124;43m'\u001b[39;49m\u001b[38;5;124;43mupsample_mode\u001b[39;49m\u001b[38;5;124;43m'\u001b[39;49m\u001b[43m]\u001b[49m\u001b[43m,\u001b[49m\u001b[43m \u001b[49m\n\u001b[1;32m     22\u001b[0m \u001b[43m                                           \u001b[49m\u001b[43mdropout\u001b[49m\u001b[38;5;241;43m=\u001b[39;49m\u001b[43mconv_autoencoder_dict\u001b[49m\u001b[43m[\u001b[49m\u001b[38;5;124;43m'\u001b[39;49m\u001b[38;5;124;43mdropout\u001b[39;49m\u001b[38;5;124;43m'\u001b[39;49m\u001b[43m]\u001b[49m\u001b[43m,\u001b[49m\n\u001b[1;32m     23\u001b[0m \u001b[43m                                           \u001b[49m\u001b[43mmode\u001b[49m\u001b[38;5;241;43m=\u001b[39;49m\u001b[43mhyper_parameters\u001b[49m\u001b[43m[\u001b[49m\u001b[38;5;124;43m'\u001b[39;49m\u001b[38;5;124;43mmode\u001b[39;49m\u001b[38;5;124;43m'\u001b[39;49m\u001b[43m]\u001b[49m\u001b[43m,\u001b[49m\n\u001b[1;32m     24\u001b[0m \u001b[43m                                           \u001b[49m\u001b[43mheterogeneous\u001b[49m\u001b[38;5;241;43m=\u001b[39;49m\u001b[43mhyper_parameters\u001b[49m\u001b[43m[\u001b[49m\u001b[38;5;124;43m'\u001b[39;49m\u001b[38;5;124;43mheterogeneous\u001b[39;49m\u001b[38;5;124;43m'\u001b[39;49m\u001b[43m]\u001b[49m\n\u001b[1;32m     25\u001b[0m \u001b[43m                                           \u001b[49m\u001b[43m)\u001b[49m\u001b[38;5;241m.\u001b[39mto(device)\n\u001b[1;32m     27\u001b[0m     \u001b[38;5;28;01melif\u001b[39;00m hyper_parameters[\u001b[38;5;124m'\u001b[39m\u001b[38;5;124mextractor_type\u001b[39m\u001b[38;5;124m'\u001b[39m] \u001b[38;5;241m==\u001b[39m \u001b[38;5;124m'\u001b[39m\u001b[38;5;124mlstm\u001b[39m\u001b[38;5;124m'\u001b[39m:\n\u001b[1;32m     28\u001b[0m         model \u001b[38;5;241m=\u001b[39m complete_model_autoencoder(\n\u001b[1;32m     29\u001b[0m                                     model_dict\u001b[38;5;241m=\u001b[39mensemble_model, \n\u001b[1;32m     30\u001b[0m                                     device\u001b[38;5;241m=\u001b[39mdevice, \n\u001b[0;32m   (...)\u001b[0m\n\u001b[1;32m     35\u001b[0m                                     heterogeneous\u001b[38;5;241m=\u001b[39mhyper_parameters[\u001b[38;5;124m'\u001b[39m\u001b[38;5;124mheterogeneous\u001b[39m\u001b[38;5;124m'\u001b[39m]\n\u001b[1;32m     36\u001b[0m                                     )\u001b[38;5;241m.\u001b[39mto(device)\n",
            "\u001b[0;31mTypeError\u001b[0m: __init__() missing 1 required positional argument: 'timesteps'"
          ]
        }
      ],
      "source": [
        "# Training, Test and Validation Dataloader initialization\n",
        "loaderTrain = DataLoader(datasetTrain, shuffle=True, batch_size=hyper_parameters['batch_size'])\n",
        "loaderVal = DataLoader(datasetVal, shuffle=True, batch_size=hyper_parameters['batch_size'])\n",
        "\n",
        "# Model Initialization (True if you want to use the Ensemble model, False in you want to use a single LSTM model)\n",
        "if hyper_parameters['ensemble'] == False:\n",
        "    model = lstm_only(hidden_dim=hyper_parameters['hidden_dim'],\n",
        "                      timesteps=hyper_parameters['timesteps'] ,\n",
        "                      input_dim=4, \n",
        "                      output_dim=3).to(device)\n",
        "    \n",
        "elif hyper_parameters['ensemble'] == True:\n",
        "    if hyper_parameters['extractor_type'] == 'conv':\n",
        "        model = complete_model_autoencoder(ensemble_model, \n",
        "                                           device, \n",
        "                                           autoencoder_dim=conv_autoencoder_dict['in_kern_out'], \n",
        "                                           pooling_kernel_size=conv_autoencoder_dict['pooling_kernel_size'], \n",
        "                                           padding=conv_autoencoder_dict['padding'], \n",
        "                                           pooling=conv_autoencoder_dict['pooling'], \n",
        "                                           scale_factor = conv_autoencoder_dict['scale_factor'], \n",
        "                                           upsample_mode=conv_autoencoder_dict['upsample_mode'], \n",
        "                                           dropout=conv_autoencoder_dict['dropout'],\n",
        "                                           mode=hyper_parameters['mode'],\n",
        "                                           heterogeneous=hyper_parameters['heterogeneous'],\n",
        "                                           timesteps=hyper_parameters['timesteps']\n",
        "                                           ).to(device)\n",
        "    \n",
        "    elif hyper_parameters['extractor_type'] == 'lstm':\n",
        "        model = complete_model_autoencoder(\n",
        "                                    model_dict=ensemble_model, \n",
        "                                    device=device, \n",
        "                                    timesteps=hyper_parameters['timesteps'],\n",
        "                                    autoencoder_dim=lstm_autoencoder_dict['in_hidd'], \n",
        "                                    dropout=lstm_autoencoder_dict['dropout'],\n",
        "                                    extractor_type=hyper_parameters['extractor_type'],\n",
        "                                    heterogeneous=hyper_parameters['heterogeneous']\n",
        "                                    ).to(device)\n",
        "    else:\n",
        "        model = complete_model(\n",
        "                               hidden_dim=hyper_parameters['hidden_dim'], \n",
        "                               input_dim=4, \n",
        "                               model_dict=ensemble_model, \n",
        "                               device=device, \n",
        "                               mode=hyper_parameters['mode'], \n",
        "                               extractor_type=hyper_parameters['extractor_type']\n",
        "                               ).to(device)\n",
        "\n",
        "# Definition of the optimizer and loss function\n",
        "\n",
        "if hyper_parameters['ensemble'] == False:\n",
        "    optimizer = optim.Adam(model.parameters(), lr=hyper_parameters['lr'])\n",
        "elif hyper_parameters['ensemble'] == True:\n",
        "\n",
        "\n",
        "    models, arima, rnn_ = model.get_models()\n",
        "    list_models = models + arima + rnn_ \n",
        "    optimizer = [optim.Adam(model.extractor.parameters(), lr=hyper_parameters['lr']*hyper_parameters['lr_multipliers_extractor'])]\n",
        "    for sub_model in list_models: \n",
        "        for model_type, multiplier in hyper_parameters['lr_multipliers_ensemble'].items():\n",
        "            if isinstance(sub_model, model_type):\n",
        "                optimizer.append(optim.Adam(model.parameters(), lr=hyper_parameters['lr']*multiplier, weight_decay=hyper_parameters['weight_decay']))\n",
        "                break\n",
        "    print(len(optimizer))\n",
        "\n",
        "hyper_parameters['lr_multipliers_ensemble'] = {\n",
        "        'mlp': hyper_parameters['lr_multipliers_ensemble'][mlp],\n",
        "        'linear': hyper_parameters['lr_multipliers_ensemble'][linear],\n",
        "        'rnn': hyper_parameters['lr_multipliers_ensemble'][rnn],\n",
        "        'lstm': hyper_parameters['lr_multipliers_ensemble'][lstm],\n",
        "        'cnn': hyper_parameters['lr_multipliers_ensemble'][cnn]\n",
        "    }\n",
        "\n",
        "\n",
        "loss_fn = nn.MSELoss()\n",
        "if hyper_parameters['ensemble'] == False:\n",
        "    scheduler = ExponentialLR(optimizer, gamma=0.85)\n",
        "elif hyper_parameters['ensemble'] == True:\n",
        "    scheduler = [ExponentialLR(opti, gamma=0.85) for opti in optimizer]\n",
        "model"
      ]
    },
    {
      "cell_type": "code",
      "execution_count": null,
      "metadata": {},
      "outputs": [],
      "source": [
        "if hyper_parameters['pretrain']:\n",
        "    model.load('./results/training_2025-02-25_17-35/autoencoder.pt',autoencoder=hyper_parameters['pretrain'])\n",
        "\n",
        "train(\n",
        "    num_epochs=hyper_parameters['num_epochs'],\n",
        "    loss_fn=loss_fn,\n",
        "    model=model,\n",
        "    optimizer=optimizer,\n",
        "    scheduler=scheduler,\n",
        "    training_dataloader=loaderTrain,\n",
        "    validation_dataloader=loaderVal,\n",
        "    hyperparams=hyper_parameters,\n",
        "    model_dict = ensemble_model,\n",
        "    autoencoder_dict=lstm_autoencoder_dict,\n",
        "    complete=hyper_parameters['ensemble'],\n",
        "    autoencoder_train=autoencoder_train\n",
        ")\n"
      ]
    }
  ],
  "metadata": {
    "colab": {
      "provenance": []
    },
    "kernelspec": {
      "display_name": ".venv",
      "language": "python",
      "name": "python3"
    },
    "language_info": {
      "codemirror_mode": {
        "name": "ipython",
        "version": 3
      },
      "file_extension": ".py",
      "mimetype": "text/x-python",
      "name": "python",
      "nbconvert_exporter": "python",
      "pygments_lexer": "ipython3",
      "version": "3.9.20"
    }
  },
  "nbformat": 4,
  "nbformat_minor": 0
}
