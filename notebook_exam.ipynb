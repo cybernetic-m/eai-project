{
  "cells": [
    {
      "cell_type": "markdown",
      "metadata": {
        "id": "l3O4mXmBol0t"
      },
      "source": [
        "# IMPORT"
      ]
    },
    {
      "cell_type": "code",
      "execution_count": 1,
      "metadata": {},
      "outputs": [],
      "source": [
        "try:\n",
        "    import google.colab # type: ignore\n",
        "    colab = True\n",
        "except:\n",
        "    colab = False\n",
        "\n",
        "if colab:\n",
        "    !git clone \"https://github.com/cybernetic-m/eai-project.git\" # type: ignore"
      ]
    },
    {
      "cell_type": "code",
      "execution_count": 2,
      "metadata": {
        "id": "9gQw18CXol0v"
      },
      "outputs": [],
      "source": [
        "# Model\n",
        "import torch\n",
        "import torch.nn as nn\n",
        "from torch.utils.data import DataLoader\n",
        "from torch import optim\n",
        "from torch.optim.lr_scheduler import ExponentialLR \n",
        "\n",
        "# Others\n",
        "import pandas as pd\n",
        "import numpy as np\n",
        "import matplotlib.pyplot as plt\n",
        "import os\n",
        "import sys\n",
        "import json\n",
        " \n",
        "# Our files\n",
        "if colab:\n",
        "    sys.path.append('/content/eai-project/training')\n",
        "    sys.path.append('/content/eai-project/preprocessing')\n",
        "    sys.path.append('/content/eai-project/dataset')\n",
        "    sys.path.append('/content/eai-project/utils')\n",
        "    sys.path.append('/content/eai-project/models')\n",
        "    sys.path.append('/content/eai-project/testing')\n",
        "    from train import train\n",
        "    from preprocessing import *\n",
        "    from thermal_dataset import thermal_dataset \n",
        "    from utils import *\n",
        "    from complete_model import complete_model \n",
        "    from lstm_only import lstm_only\n",
        "    from testing import test\n",
        "    prefix = '/content'\n",
        "        \n",
        "else:\n",
        "    from training.train import train\n",
        "    from preprocessing.preprocessing import *\n",
        "    from dataset.thermal_dataset import thermal_dataset\n",
        "    from utils.csv_utils import *\n",
        "    from models.complete_model import complete_model\n",
        "    from models.lstm_only import lstm_only\n",
        "    from testing.test import test\n",
        "    prefix = '.'\n",
        "    \n",
        "pd.set_option('display.max_columns', None)"
      ]
    },
    {
      "cell_type": "code",
      "execution_count": 3,
      "metadata": {},
      "outputs": [],
      "source": [
        "skip = False\n",
        "test_flag = False\n",
        "if os.path.exists(prefix+'/X.npy') and os.path.exists(prefix+'/Y.npy'):\n",
        "    skip = True"
      ]
    },
    {
      "cell_type": "markdown",
      "metadata": {},
      "source": [
        "**Reproducibility and Device Setting**"
      ]
    },
    {
      "cell_type": "code",
      "execution_count": 4,
      "metadata": {},
      "outputs": [],
      "source": [
        "# Set a seed for reproducibility purposes\n",
        "seed = 46\n",
        "torch.manual_seed(seed)\n",
        "torch.backends.cudnn.deterministic = True\n",
        "torch.backends.cudnn.benchmark = False\n",
        "np.random.seed(seed)\n",
        "\n",
        "# Set the device (cuda for Nvidia GPUs, mps for M1, M2 .. Apple Silicon)\n",
        "if torch.cuda.is_available():\n",
        "    device = \"cuda\"\n",
        "elif torch.backends.mps.is_available():\n",
        "    device = \"mps\"\n",
        "else:\n",
        "    device = \"cpu\""
      ]
    },
    {
      "cell_type": "markdown",
      "metadata": {
        "id": "FFQrCrM-ol0w"
      },
      "source": [
        "# DATASET"
      ]
    },
    {
      "cell_type": "code",
      "execution_count": 5,
      "metadata": {
        "colab": {
          "base_uri": "https://localhost:8080/"
        },
        "id": "1mHN7T9Rol0x",
        "outputId": "6d8b8eef-3135-4b49-f113-9ac4548ea7aa"
      },
      "outputs": [
        {
          "name": "stdout",
          "output_type": "stream",
          "text": [
            "CSV file already downloaded!\n",
            "CSV file already unzipped!\n"
          ]
        }
      ],
      "source": [
        "link_zipped_csv = 'https://drive.google.com/file/d/1MssQF4pI_rZqiiDBP4XaLTT1ZaN6ykLm/view?usp=drive_link'\n",
        "gdrive_link = 'https://drive.google.com/uc?id='\n",
        "csv_dir = './csv'\n",
        "zipped_file = './csv.zip'\n",
        "\n",
        "download_csv(\n",
        "    link_zipped_csv,\n",
        "    gdrive_link,\n",
        "    zipped_file\n",
        ")\n",
        "\n",
        "unzip_csv(\n",
        "    zipped_file,\n",
        "    csv_dir,\n",
        ")\n"
      ]
    },
    {
      "cell_type": "code",
      "execution_count": 6,
      "metadata": {
        "id": "eKLx-ldvGxvs"
      },
      "outputs": [],
      "source": [
        "if not skip:\n",
        "\n",
        "    path = '/content/csv/thermal_drift_features_lab_05_02.csv'\n",
        "\n",
        "    # Read all the CSV files containing the Temperatures\n",
        "    features_1 = pd.read_csv(os.path.join(prefix,'csv/thermal_drift_features_lab_05_02.csv'))\n",
        "    features_2 = pd.read_csv(os.path.join(prefix, 'csv/thermal_drift_features_lab_05_03.csv'))\n",
        "    features_3 = pd.read_csv(os.path.join(prefix,'csv/thermal_drift_features_lab_05_04.csv'))\n",
        "    features_4 = pd.read_csv(os.path.join(prefix,'csv/thermal_drift_features_lab_05_05.csv'))\n",
        "    features_5 = pd.read_csv(os.path.join(prefix,'csv/thermal_drift_features_lab_05_06.csv'))\n",
        "\n",
        "    # Read all the CSV files containing the X1, Y1, Z1 \n",
        "    targets_1 = pd.read_csv(os.path.join(prefix,'csv/thermal_drift_targets_lab_05_02.csv'))\n",
        "    targets_2 = pd.read_csv(os.path.join(prefix,'csv/thermal_drift_targets_lab_05_03.csv'))\n",
        "    targets_3 = pd.read_csv(os.path.join(prefix,'csv/thermal_drift_targets_lab_05_04.csv'))\n",
        "    targets_4 = pd.read_csv(os.path.join(prefix,'csv/thermal_drift_targets_lab_05_05.csv'))\n",
        "    targets_5 = pd.read_csv(os.path.join(prefix,'csv/thermal_drift_targets_lab_05_06.csv'))\n",
        "    \n",
        "    # Normalized columns files for X1, Y1, Z1 for the plot\n",
        "    targets_norm_1= normalize_columns(targets_1, ['X1','Y1','Z1'], -1, 1)\n",
        "    targets_norm_2= normalize_columns(targets_2, ['X1','Y1','Z1'], -1, 1)\n",
        "    targets_norm_3= normalize_columns(targets_3, ['X1','Y1','Z1'], -1, 1)\n",
        "    targets_norm_4= normalize_columns(targets_4, ['X1','Y1','Z1'], -1, 1)\n",
        "    targets_norm_5= normalize_columns(targets_5, ['X1','Y1','Z1'], -1, 1)\n",
        "\n",
        "    # Create a list of features and targets to use for the next drop\n",
        "    features = [features_1, features_2, features_3, features_4, features_5]\n",
        "    targets = [targets_1,targets_2,targets_3,targets_4,targets_5]"
      ]
    },
    {
      "cell_type": "code",
      "execution_count": 7,
      "metadata": {},
      "outputs": [],
      "source": [
        "if not skip:\n",
        "    for feature, target in zip(features, targets):\n",
        "        feature.drop([\n",
        "            \"name\", \"tags\",\n",
        "            \"2\\\"Tray1 Vacuum Sensor\", \"2\\\"Tray2 Vacuum Sensor\", \"2\\\"Tray3 Vacuum Sensor\",\n",
        "            \"Avg Oven Temperature\", \"Chuck Temp [Cdeg]\", \"Chuck Temp2 [Cdeg]\",\n",
        "            \"Chuck1 Vacuum Sensor\", \"Contrast\", \"Device State\",\n",
        "            \"Dispenser1 Pressure Sensor\", \"Machine Room Temp\", \"Main Air\", \"Main Vacuum\",\n",
        "            \"Oven Temperature\", \"PE_Rx\", \"PE_Ry\", \"PE_Rz\", \"PE_X1\", \"PE_Y1\", \"PE_Z1\",\n",
        "            \"PUT1 Flow Sensor\", \"PUT2 Flow Sensor1\", \"PUT2 Flow Sensor2\",\n",
        "            \"PUT2 Flow Sensor3\", \"PUT2 Flow Sensor4\", \"PUT2 Flow Sensor5\",\n",
        "            \"Photodiode\", \"Pixel Power\", \"Preciser1 Vacuum Sensor\",\n",
        "            \"Tec FIB1 Holder\", \"Tec FIB1 Plate\", \"Tec FIB2 Holder\", \"Tec FIB2 Plate\",\n",
        "            \"Torque11\",\"Torque2\",\"Torque3\",\"Torque4\",\"Torque5\",\"Torque6\"\n",
        "        ], axis=1, inplace=True)\n",
        "\n",
        "        target.drop(['name', 'tags'], axis=1, inplace=True)\n"
      ]
    },
    {
      "cell_type": "code",
      "execution_count": 8,
      "metadata": {
        "colab": {
          "base_uri": "https://localhost:8080/",
          "height": 424
        },
        "id": "qUZH1JpDfNY0",
        "outputId": "694acf4b-ac9a-401f-f4ef-d6b8105ebf1b"
      },
      "outputs": [
        {
          "name": "stdout",
          "output_type": "stream",
          "text": [
            "                        time  Temp Sensor 1  Temp Sensor 2  Temp Sensor 3  \\\n",
            "0        1714687200035019000           2104           2137           2145   \n",
            "1        1714687200090637000           2104           2137           2145   \n",
            "2        1714687200177338000           2104           2137           2145   \n",
            "3        1714687200228517000           2104           2137           2145   \n",
            "4        1714687200279903000           2104           2137           2145   \n",
            "...                      ...            ...            ...            ...   \n",
            "1248011  1714773599360645000           2097           2139           2131   \n",
            "1248012  1714773599473292000           2097           2139           2131   \n",
            "1248013  1714773599580569000           2097           2139           2131   \n",
            "1248014  1714773599762038000           2097           2139           2131   \n",
            "1248015  1714773599869383000           2097           2139           2131   \n",
            "\n",
            "         Temp Sensor 4  \n",
            "0                 2157  \n",
            "1                 2157  \n",
            "2                 2157  \n",
            "3                 2157  \n",
            "4                 2157  \n",
            "...                ...  \n",
            "1248011           2136  \n",
            "1248012           2136  \n",
            "1248013           2136  \n",
            "1248014           2136  \n",
            "1248015           2136  \n",
            "\n",
            "[1248016 rows x 5 columns]\n"
          ]
        }
      ],
      "source": [
        "if not skip:\n",
        "    print(features[1]) # Print the features_1 table"
      ]
    },
    {
      "cell_type": "code",
      "execution_count": 9,
      "metadata": {
        "cellView": "form",
        "colab": {
          "base_uri": "https://localhost:8080/",
          "height": 363
        },
        "id": "OtsO4hF1fHUU",
        "outputId": "3b3e33b6-a0eb-474b-814a-67338bee9fdd"
      },
      "outputs": [
        {
          "name": "stdout",
          "output_type": "stream",
          "text": [
            "                      time            X1            Y1            Z1\n",
            "0      1714687207558354000 -42505.406213           NaN           NaN\n",
            "1      1714687207564731000           NaN  44826.890179           NaN\n",
            "2      1714687207615696000           NaN           NaN  12929.179688\n",
            "3      1714687218845182000 -42505.413769           NaN           NaN\n",
            "4      1714687218860796000           NaN  44826.885132           NaN\n",
            "...                    ...           ...           ...           ...\n",
            "23104  1714773578301848000           NaN  44833.645142           NaN\n",
            "23105  1714773578313892000           NaN           NaN  12927.773438\n",
            "23106  1714773589691570000 -42506.334704           NaN           NaN\n",
            "23107  1714773589700556000           NaN  44833.606733           NaN\n",
            "23108  1714773589724371000           NaN           NaN  12927.734375\n",
            "\n",
            "[23109 rows x 4 columns]\n"
          ]
        }
      ],
      "source": [
        "if not skip:\n",
        "\n",
        "    print(targets[1]) # Print the target_1"
      ]
    },
    {
      "cell_type": "code",
      "execution_count": 10,
      "metadata": {
        "id": "H7L8dLyMmesB"
      },
      "outputs": [],
      "source": [
        "if not skip:\n",
        "    # Put X1, Y1, Z1 on the same row of X1 eliminating the NAN values\n",
        "    fixed_targets = [] # Create a list of target in which we put X1, Y1, Z1 in the same row\n",
        "    for target in targets:\n",
        "        fixed_targets.append(transform_dataframe(target)) # iterate over target_1,2,3 ... and append in fixed_targets"
      ]
    },
    {
      "cell_type": "code",
      "execution_count": 11,
      "metadata": {
        "colab": {
          "base_uri": "https://localhost:8080/",
          "height": 424
        },
        "id": "23LmYWUfmqDM",
        "outputId": "fc9873f7-b53c-4dbc-a2bd-b0cf9fab7f2c"
      },
      "outputs": [
        {
          "name": "stdout",
          "output_type": "stream",
          "text": [
            "              time            X1            Y1            Z1\n",
            "0     1.714687e+18 -42505.406213  44826.890179  12929.179688\n",
            "1     1.714687e+18 -42505.413769  44826.885132  12929.218750\n",
            "2     1.714687e+18 -42505.422058  44826.895999  12929.257812\n",
            "3     1.714687e+18 -42505.400897  44826.871417  12929.257812\n",
            "4     1.714687e+18 -42505.411462  44826.871253  12929.218750\n",
            "...            ...           ...           ...           ...\n",
            "7698  1.714774e+18 -42506.297617  44833.632677  12927.812500\n",
            "7699  1.714774e+18 -42506.324153  44833.685632  12927.773438\n",
            "7700  1.714774e+18 -42506.305219  44833.653979  12927.812500\n",
            "7701  1.714774e+18 -42506.318353  44833.645142  12927.773438\n",
            "7702  1.714774e+18 -42506.334704  44833.606733  12927.734375\n",
            "\n",
            "[7703 rows x 4 columns]\n"
          ]
        }
      ],
      "source": [
        "if not skip:\n",
        "\n",
        "    print(fixed_targets[1]) # Print the fixed_target_1"
      ]
    },
    {
      "cell_type": "code",
      "execution_count": 12,
      "metadata": {
        "id": "DOVEQQeQr36x"
      },
      "outputs": [],
      "source": [
        "if not skip:\n",
        "    # Merge of targets with features in one single dataframe\n",
        "    complete_numbers_list = [] # List of the table with columns that are numbers (0,1,2..) in which we unify both features and targets merging on closest time row\n",
        "    for fixed_target, feature in zip(fixed_targets, features):\n",
        "        complete_numbers_list.append(merge_on_closest_time(fixed_target.reset_index(), feature.reset_index()))\n",
        "    complete_numbers_dataframe = pd.concat(complete_numbers_list)\n"
      ]
    },
    {
      "cell_type": "code",
      "execution_count": 13,
      "metadata": {},
      "outputs": [
        {
          "name": "stdout",
          "output_type": "stream",
          "text": [
            "[        0                             1             2             3   \\\n",
            "0        0 2024-05-02 09:00:01.106507008 -42506.390100  44830.277517   \n",
            "1        1 2024-05-02 09:00:12.382008064 -42506.368407  44830.177972   \n",
            "2        2 2024-05-02 09:00:23.632736000 -42506.327086  44830.179741   \n",
            "3        3 2024-05-02 09:00:34.970393088 -42506.308733  44830.136638   \n",
            "4        4 2024-05-02 09:00:46.143995904 -42506.280652  44830.203599   \n",
            "...    ...                           ...           ...           ...   \n",
            "4166  4166 2024-05-02 21:59:11.262568960 -42505.368696  44826.901348   \n",
            "4167  4167 2024-05-02 21:59:22.587275008 -42505.378471  44826.886557   \n",
            "4168  4168 2024-05-02 21:59:33.874593024 -42505.419544  44826.930953   \n",
            "4169  4169 2024-05-02 21:59:45.187085056 -42505.381234  44826.952204   \n",
            "4170  4170 2024-05-02 21:59:56.406018048 -42505.364203  44826.906375   \n",
            "\n",
            "                4       5                          6     7     8     9     10  \n",
            "0     12931.601562       7 2024-05-02 09:00:01.084386  2136  2164  2163  2159  \n",
            "1     12931.601562     116 2024-05-02 09:00:12.370171  2136  2170  2162  2160  \n",
            "2     12931.523438     224 2024-05-02 09:00:23.593553  2136  2176  2163  2160  \n",
            "3     12931.445312     394 2024-05-02 09:00:34.913803  2137  2161  2162  2159  \n",
            "4     12931.289062     513 2024-05-02 09:00:46.071475  2134  2151  2163  2158  \n",
            "...            ...     ...                        ...   ...   ...   ...   ...  \n",
            "4166  12929.335938  663118 2024-05-02 21:59:11.322660  2103  2135  2146  2157  \n",
            "4167  12929.179688  663306 2024-05-02 21:59:22.566420  2102  2135  2145  2158  \n",
            "4168  12929.218750  663496 2024-05-02 21:59:33.824338  2102  2137  2144  2158  \n",
            "4169  12929.218750  663690 2024-05-02 21:59:45.091467  2103  2133  2146  2157  \n",
            "4170  12929.179688  663883 2024-05-02 21:59:56.393854  2103  2138  2144  2158  \n",
            "\n",
            "[4171 rows x 11 columns],         0                             1             2             3   \\\n",
            "0        0 2024-05-02 22:00:07.558353920 -42505.406213  44826.890179   \n",
            "1        1 2024-05-02 22:00:18.845181952 -42505.413769  44826.885132   \n",
            "2        2 2024-05-02 22:00:30.068317952 -42505.422058  44826.895999   \n",
            "3        3 2024-05-02 22:00:41.120892928 -42505.400897  44826.871417   \n",
            "4        4 2024-05-02 22:00:52.412800000 -42505.411462  44826.871253   \n",
            "...    ...                           ...           ...           ...   \n",
            "7698  7698 2024-05-03 21:59:04.562355968 -42506.297617  44833.632677   \n",
            "7699  7699 2024-05-03 21:59:15.860919040 -42506.324153  44833.685632   \n",
            "7700  7700 2024-05-03 21:59:27.268246016 -42506.305219  44833.653979   \n",
            "7701  7701 2024-05-03 21:59:38.297178880 -42506.318353  44833.645142   \n",
            "7702  7702 2024-05-03 21:59:49.691569920 -42506.334704  44833.606733   \n",
            "\n",
            "                4        5                          6     7     8     9     10  \n",
            "0     12929.179688      126 2024-05-02 22:00:07.503343  2103  2134  2145  2159  \n",
            "1     12929.218750      313 2024-05-02 22:00:18.791876  2103  2129  2146  2158  \n",
            "2     12929.257812      504 2024-05-02 22:00:29.999573  2103  2130  2147  2157  \n",
            "3     12929.257812      698 2024-05-02 22:00:41.067291  2103  2133  2146  2158  \n",
            "4     12929.218750      881 2024-05-02 22:00:52.377394  2103  2134  2146  2158  \n",
            "...            ...      ...                        ...   ...   ...   ...   ...  \n",
            "7698  12927.812500  1247452 2024-05-03 21:59:04.509883  2100  2140  2132  2136  \n",
            "7699  12927.773438  1247582 2024-05-03 21:59:15.811676  2099  2140  2131  2137  \n",
            "7700  12927.812500  1247695 2024-05-03 21:59:27.276122  2099  2138  2131  2135  \n",
            "7701  12927.773438  1247803 2024-05-03 21:59:38.287447  2099  2138  2132  2137  \n",
            "7702  12927.734375  1247914 2024-05-03 21:59:49.637146  2098  2139  2132  2135  \n",
            "\n",
            "[7703 rows x 11 columns],         0                             1             2             3   \\\n",
            "0        0 2024-05-03 22:00:00.806608896 -42506.353532  44833.637471   \n",
            "1        1 2024-05-03 22:00:12.139475968 -42506.358266  44833.643343   \n",
            "2        2 2024-05-03 22:00:23.436060928 -42506.352499  44833.605265   \n",
            "3        3 2024-05-03 22:00:34.574426880 -42506.389531  44833.685550   \n",
            "4        4 2024-05-03 22:00:45.872439040 -42506.356448  44833.627358   \n",
            "...    ...                           ...           ...           ...   \n",
            "7701  7701 2024-05-04 21:59:04.890872064 -42504.469829  44831.169467   \n",
            "7702  7702 2024-05-04 21:59:16.392517120 -42504.487457  44831.178263   \n",
            "7703  7703 2024-05-04 21:59:27.605668096 -42504.521336  44831.181351   \n",
            "7704  7704 2024-05-04 21:59:38.756178944 -42504.519571  44831.119573   \n",
            "7705  7705 2024-05-04 21:59:49.924619008 -42504.501549  44831.108391   \n",
            "\n",
            "                4        5                          6     7     8     9     10  \n",
            "0     12927.773438        4 2024-05-03 22:00:00.733662  2098  2138  2132  2137  \n",
            "1     12927.734375      113 2024-05-03 22:00:12.123842  2098  2139  2131  2136  \n",
            "2     12927.734375      222 2024-05-03 22:00:23.422349  2098  2143  2130  2135  \n",
            "3     12927.695312      330 2024-05-03 22:00:34.537499  2100  2143  2132  2135  \n",
            "4     12927.656250      439 2024-05-03 22:00:45.826007  2099  2145  2130  2136  \n",
            "...            ...      ...                        ...   ...   ...   ...   ...  \n",
            "7701  12928.125000  1220857 2024-05-04 21:59:04.945278  2128  2174  2162  2167  \n",
            "7702  12928.164062  1221059 2024-05-04 21:59:16.386339  2128  2170  2163  2167  \n",
            "7703  12928.203125  1221256 2024-05-04 21:59:27.568396  2128  2162  2163  2167  \n",
            "7704  12928.164062  1221458 2024-05-04 21:59:38.694467  2126  2162  2162  2169  \n",
            "7705  12928.125000  1221654 2024-05-04 21:59:49.863334  2126  2163  2161  2168  \n",
            "\n",
            "[7706 rows x 11 columns],         0                             1             2             3   \\\n",
            "0        0 2024-05-04 22:00:00.978973952 -42504.510064  44831.171101   \n",
            "1        1 2024-05-04 22:00:12.289274112 -42504.469642  44831.173015   \n",
            "2        2 2024-05-04 22:00:23.554449920 -42504.471377  44831.155321   \n",
            "3        3 2024-05-04 22:00:34.724033024 -42504.429898  44831.135395   \n",
            "4        4 2024-05-04 22:00:45.985085952 -42504.440642  44831.164080   \n",
            "...    ...                           ...           ...           ...   \n",
            "7705  7705 2024-05-05 21:59:04.667956992 -42505.084936  44830.752545   \n",
            "7706  7706 2024-05-05 21:59:15.946153984 -42505.071600  44830.748387   \n",
            "7707  7707 2024-05-05 21:59:27.116512000 -42505.047375  44830.725383   \n",
            "7708  7708 2024-05-05 21:59:38.566606080 -42505.098813  44830.738269   \n",
            "7709  7709 2024-05-05 21:59:49.873264128 -42505.103691  44830.670805   \n",
            "\n",
            "                4        5                          6     7     8     9     10  \n",
            "0     12928.164062       10 2024-05-04 22:00:00.984446  2127  2161  2161  2169  \n",
            "1     12928.164062      208 2024-05-04 22:00:12.253526  2128  2164  2163  2169  \n",
            "2     12928.164062      398 2024-05-04 22:00:23.494861  2130  2163  2163  2170  \n",
            "3     12928.164062      585 2024-05-04 22:00:34.671760  2129  2164  2162  2170  \n",
            "4     12928.125000      780 2024-05-04 22:00:46.006695  2129  2167  2162  2170  \n",
            "...            ...      ...                        ...   ...   ...   ...   ...  \n",
            "7705  12927.773438  1248196 2024-05-05 21:59:04.678878  2111  2157  2147  2157  \n",
            "7706  12927.851562  1248302 2024-05-05 21:59:15.918328  2111  2156  2147  2154  \n",
            "7707  12927.851562  1248409 2024-05-05 21:59:27.131349  2111  2155  2147  2153  \n",
            "7708  12927.812500  1248520 2024-05-05 21:59:38.501826  2109  2150  2146  2154  \n",
            "7709  12927.812500  1248628 2024-05-05 21:59:49.884184  2107  2150  2144  2154  \n",
            "\n",
            "[7710 rows x 11 columns],         0                             1             2             3   \\\n",
            "0        0 2024-05-05 22:00:01.131150080 -42505.060073  44830.676097   \n",
            "1        1 2024-05-05 22:00:12.282654976 -42505.063072  44830.759275   \n",
            "2        2 2024-05-05 22:00:23.823702016 -42505.044817  44830.685803   \n",
            "3        3 2024-05-05 22:00:35.099609088 -42505.069321  44830.704764   \n",
            "4        4 2024-05-05 22:00:46.305810944 -42505.038760  44830.686280   \n",
            "...    ...                           ...           ...           ...   \n",
            "3095  3095 2024-05-06 07:38:41.245681920 -42505.001668  44831.017452   \n",
            "3096  3096 2024-05-06 07:38:52.455132928 -42505.022450  44831.051054   \n",
            "3097  3097 2024-05-06 07:39:03.894546944 -42505.032772  44831.042085   \n",
            "3098  3098 2024-05-06 07:39:15.081467904 -42504.992528  44831.031331   \n",
            "3099  3099 2024-05-06 07:39:26.514906880 -42505.008199  44831.068524   \n",
            "\n",
            "                4       5                          6     7     8     9     10  \n",
            "0     12927.773438       7 2024-05-05 22:00:01.125119  2110  2146  2146  2153  \n",
            "1     12927.734375     116 2024-05-05 22:00:12.224848  2110  2150  2146  2155  \n",
            "2     12927.812500     225 2024-05-05 22:00:23.714333  2111  2147  2147  2155  \n",
            "3     12927.851562     334 2024-05-05 22:00:35.087748  2111  2147  2148  2154  \n",
            "4     12927.812500     442 2024-05-05 22:00:46.295194  2112  2150  2148  2155  \n",
            "...            ...     ...                        ...   ...   ...   ...   ...  \n",
            "3095  12931.679688  493944 2024-05-06 07:38:41.180672  2125  2168  2150  2147  \n",
            "3096  12931.679688  494133 2024-05-06 07:38:52.415522  2125  2170  2149  2149  \n",
            "3097  12931.640625  494320 2024-05-06 07:39:03.811778  2125  2174  2151  2148  \n",
            "3098  12931.679688  494503 2024-05-06 07:39:15.049436  2125  2172  2150  2150  \n",
            "3099  12931.601562  494685 2024-05-06 07:39:26.601644  2125  2172  2151  2148  \n",
            "\n",
            "[3100 rows x 11 columns]]\n"
          ]
        }
      ],
      "source": [
        "if not skip: \n",
        "    print(complete_numbers_list) # Print of one example"
      ]
    },
    {
      "cell_type": "code",
      "execution_count": 14,
      "metadata": {
        "id": "m39ldRHjsbJH"
      },
      "outputs": [],
      "source": [
        "if not skip:\n",
        "\n",
        "    complete = complete_numbers_dataframe.rename(columns={\n",
        "        0: 'id',\n",
        "        1: 'time',\n",
        "        2: 'X1',\n",
        "        3: 'Y1',\n",
        "        4: 'Z1',\n",
        "        5: 'to_remove',\n",
        "        6: 'time_2',\n",
        "        7: 'Temp1',\n",
        "        8: 'Temp2',\n",
        "        9: 'Temp3',\n",
        "        10: 'Temp4'\n",
        "        })\n",
        "    complete.drop(['time', 'to_remove', 'time_2'], axis=1, inplace=True)"
      ]
    },
    {
      "cell_type": "code",
      "execution_count": 15,
      "metadata": {},
      "outputs": [
        {
          "name": "stdout",
          "output_type": "stream",
          "text": [
            "        id            X1            Y1            Z1  Temp1  Temp2  Temp3  \\\n",
            "0        0 -42506.390100  44830.277517  12931.601562   2136   2164   2163   \n",
            "1        1 -42506.368407  44830.177972  12931.601562   2136   2170   2162   \n",
            "2        2 -42506.327086  44830.179741  12931.523438   2136   2176   2163   \n",
            "3        3 -42506.308733  44830.136638  12931.445312   2137   2161   2162   \n",
            "4        4 -42506.280652  44830.203599  12931.289062   2134   2151   2163   \n",
            "...    ...           ...           ...           ...    ...    ...    ...   \n",
            "3095  3095 -42505.001668  44831.017452  12931.679688   2125   2168   2150   \n",
            "3096  3096 -42505.022450  44831.051054  12931.679688   2125   2170   2149   \n",
            "3097  3097 -42505.032772  44831.042085  12931.640625   2125   2174   2151   \n",
            "3098  3098 -42504.992528  44831.031331  12931.679688   2125   2172   2150   \n",
            "3099  3099 -42505.008199  44831.068524  12931.601562   2125   2172   2151   \n",
            "\n",
            "      Temp4  \n",
            "0      2159  \n",
            "1      2160  \n",
            "2      2160  \n",
            "3      2159  \n",
            "4      2158  \n",
            "...     ...  \n",
            "3095   2147  \n",
            "3096   2149  \n",
            "3097   2148  \n",
            "3098   2150  \n",
            "3099   2148  \n",
            "\n",
            "[30390 rows x 8 columns]\n"
          ]
        }
      ],
      "source": [
        "if not skip:\n",
        "\n",
        "    print(complete)"
      ]
    },
    {
      "cell_type": "code",
      "execution_count": 16,
      "metadata": {},
      "outputs": [],
      "source": [
        "if not skip:\n",
        "\n",
        "    complete.astype(float)\n",
        "\n",
        "    X = complete[['Temp1','Temp2', 'Temp3', 'Temp4']]\n",
        "    Y = complete[['X1', 'Y1', 'Z1']]\n",
        "\n",
        "    Y = Y.values.astype(np.float32)\n",
        "    Y = my_gradient(Y, window_size=100) \n",
        "     \n",
        "    X = X.values.astype(np.float32)\n",
        "    X /= 100\n",
        "    X = X[100:len(X)]\n",
        "    \n",
        "    # Save the features and targets in file npy\n",
        "    np.save(prefix+'/X.npy',X)\n",
        "    np.save(prefix+'/Y.npy',Y)\n"
      ]
    },
    {
      "cell_type": "code",
      "execution_count": 17,
      "metadata": {
        "colab": {
          "base_uri": "https://localhost:8080/"
        },
        "id": "7wQamHTRAwTF",
        "outputId": "ed825791-2b10-4893-8cbd-0bf55d3b551c"
      },
      "outputs": [
        {
          "name": "stdout",
          "output_type": "stream",
          "text": [
            "[[21.41 21.69 21.67 21.64]\n",
            " [21.4  21.7  21.67 21.64]\n",
            " [21.42 21.71 21.68 21.65]\n",
            " ...\n",
            " [21.25 21.74 21.51 21.48]\n",
            " [21.25 21.72 21.5  21.5 ]\n",
            " [21.25 21.72 21.51 21.48]]\n",
            "[[0.00346708 0.00333481 0.00966026]\n",
            " [0.00340178 0.00342456 0.00957072]\n",
            " [0.00331962 0.00346832 0.0095665 ]\n",
            " ...\n",
            " [0.00168868 0.00238632 0.00290256]\n",
            " [0.00172803 0.00247201 0.00292951]\n",
            " [0.0017935  0.00253553 0.00300007]]\n"
          ]
        }
      ],
      "source": [
        "if skip:\n",
        "    # If skip is true, we simply load the data \n",
        "    X = np.load(prefix+'/X.npy')\n",
        "    Y = np.load(prefix+'/Y.npy')\n",
        "\n",
        "print(X)\n",
        "print(Y)\n"
      ]
    },
    {
      "cell_type": "code",
      "execution_count": null,
      "metadata": {
        "id": "rQtzgjhwgs3Y"
      },
      "outputs": [],
      "source": [
        "def split(listToSplit, splitPercentages):\n",
        "  length = len(listToSplit)\n",
        "  splittedList = []\n",
        "  lastIndex = 0\n",
        "  for percentageIndex in range(len(splitPercentages)):\n",
        "    print(lastIndex)\n",
        "    splittedList.append(listToSplit[lastIndex:lastIndex+int(splitPercentages[percentageIndex]*length)])\n",
        "    lastIndex += int(splitPercentages[percentageIndex]*length)\n",
        "\n",
        "  return splittedList"
      ]
    },
    {
      "cell_type": "code",
      "execution_count": null,
      "metadata": {
        "colab": {
          "base_uri": "https://localhost:8080/"
        },
        "id": "5oZLh4TnhL7h",
        "outputId": "9c34e4c1-edfc-43e5-920a-4ad193a432fa"
      },
      "outputs": [],
      "source": [
        "splitPerc = [0.7,0.2,0.1]\n",
        "splitted_X = split(X, splitPerc)\n",
        "splitted_Y = split(Y, splitPerc)"
      ]
    },
    {
      "cell_type": "code",
      "execution_count": null,
      "metadata": {},
      "outputs": [],
      "source": [
        "if not skip:\n",
        "\n",
        "    targets_norm_1['time'] = pd.to_datetime(targets_norm_1['time'], unit='ns')\n",
        "\n",
        "    # Reshape the DataFrame using melt()\n",
        "    targets_melted = targets_norm_1.reset_index().melt(id_vars=['time'], value_vars=['X1', 'Y1', 'Z1'], var_name='variable', value_name='value')\n",
        "\n",
        "    # Drop rows where 'value' is NaN (to keep only the non-null entries)\n",
        "    targets_melted = targets_melted.dropna(subset=['value'])\n",
        "\n",
        "    # Plot the data\n",
        "    plt.figure(figsize=(10, 6))\n",
        "    for var in targets_melted['variable'].unique():\n",
        "        # Filter data for each variable and plot\n",
        "        temp_df = targets_melted[targets_melted['variable'] == var]\n",
        "        plt.plot(temp_df['time'], temp_df['value'], label=var)\n",
        "\n",
        "    # Add labels and title\n",
        "    plt.xlabel('Time')\n",
        "    plt.ylabel('Values')\n",
        "    plt.title('Plot of X1, Y1, Z1 over Time')\n",
        "    plt.legend(title='Variable')\n",
        "\n",
        "    # Show the plot\n",
        "    plt.show()\n",
        "\n",
        "    #targets.plot(y='X1',x='time')"
      ]
    },
    {
      "cell_type": "code",
      "execution_count": null,
      "metadata": {},
      "outputs": [],
      "source": [
        "if not skip:\n",
        "\n",
        "    # Convert 'time' to datetime (nanoseconds to datetime)\n",
        "    features_1['time'] = pd.to_datetime(features_1['time'], unit='ns')\n",
        "\n",
        "    # Set 'time' as the index\n",
        "    features_1.set_index('time', inplace=True)\n",
        "\n",
        "    # Optionally, you can plot X1, Y1, Z1 directly\n",
        "    features_1[['Temp Sensor 1', 'Temp Sensor 2', 'Temp Sensor 3', 'Temp Sensor 4', ]].plot()\n",
        "\n",
        "    # Add labels and title\n",
        "    plt.xlabel('Time')\n",
        "    plt.ylabel('Values')\n",
        "    plt.title('Plot of Temp Sensor 1, Temp Sensor 2, Temp Sensor 3, Temp Sensor 4 over Time')\n",
        "\n",
        "    # Show the plot\n",
        "    plt.show()"
      ]
    },
    {
      "cell_type": "markdown",
      "metadata": {
        "id": "pnlFgCAkol0x"
      },
      "source": [
        "# MODEL"
      ]
    },
    {
      "cell_type": "code",
      "execution_count": null,
      "metadata": {},
      "outputs": [],
      "source": [
        "hyper_parameters = {'num_epochs': 60,\n",
        "                    'batch_size': 256,\n",
        "                    'hidden_dim' : 3,\n",
        "                    'lr': 0.001,\n",
        "                    'mode': 'auto-weighted', #average, mlp, linear, auto-weighted\n",
        "                    'extractor_type': 'lstm', #lstm, rnn\n",
        "                    'ensemble': True,\n",
        "                    'timesteps': 5\n",
        "                    }\n",
        "\n",
        "ensemble_model = {'mlp': [{'layer_dim_list': [3,4,3]}],  \n",
        "              'ARIMA': [{'p': 2, 'd': 0, 'q': 2, 'ps': 0, 'ds': 0, 'qs': 0, 's': 1}],\n",
        "              'linear_regressor': [{'in_features': 3, 'out_features': 3}]\n",
        "              }\n",
        "\n",
        "ensemble_model1 = { \n",
        "              'ARIMA': [{'p': 2, 'd': 0, 'q': 2, 'ps': 0, 'ds': 0, 'qs': 0, 's': 1}],\n",
        "              'linear_regressor': [{'in_features': 3, 'out_features': 3}, {'in_features': 3, 'out_features': 3}]\n",
        "              }\n",
        "\n",
        "ensemble_model2 = {\n",
        "              'mlp': [{'layer_dim_list': [3,4,3]}],  \n",
        "              'linear_regressor': [{'in_features': 3, 'out_features': 3}, {'in_features': 3, 'out_features': 3}]\n",
        "              }\n",
        "#1 ARIMA 2 linear\n",
        "#1 MLP 2 linear\n",
        "#\n",
        "#tutti i voting"
      ]
    },
    {
      "cell_type": "code",
      "execution_count": null,
      "metadata": {},
      "outputs": [],
      "source": [
        "datasetTrain = thermal_dataset((splitted_X[0],splitted_Y[0]), hyper_parameters['timesteps'], device)\n",
        "datasetTest = thermal_dataset((splitted_X[1],splitted_Y[1]), hyper_parameters['timesteps'], device)\n",
        "datasetVal = thermal_dataset((splitted_X[2],splitted_Y[2]), hyper_parameters['timesteps'], device)"
      ]
    },
    {
      "cell_type": "code",
      "execution_count": null,
      "metadata": {
        "id": "BbEyWHlGEJHm"
      },
      "outputs": [],
      "source": [
        "# Training, Test and Validation Dataloader initialization\n",
        "loaderTrain = DataLoader(datasetTrain, shuffle=True, batch_size=hyper_parameters['batch_size'])\n",
        "loaderTest = DataLoader(datasetTest, shuffle=True, batch_size=hyper_parameters['batch_size'])\n",
        "loaderVal = DataLoader(datasetVal, shuffle=True, batch_size=hyper_parameters['batch_size'])\n",
        "\n",
        "# Model Initialization (True if you want to use the Ensemble model, False in you want to use a single LSTM model)\n",
        "if hyper_parameters['ensemble'] == False:\n",
        "    model = lstm_only(hidden_dim=hyper_parameters['hidden_dim'], timesteps=hyper_parameters['timesteps'] ,input_dim=4, output_dim=3).to(device)\n",
        "elif hyper_parameters['ensemble'] == True:  \n",
        "    model = complete_model(hidden_dim=hyper_parameters['hidden_dim'], input_dim=4, model_dict=ensemble_model, device=device, mode=hyper_parameters['mode'], extractor_type=hyper_parameters['extractor_type']).to(device)\n",
        "\n",
        "# Definition of the optimizer and loss function\n",
        "optimizer = optim.Adam(model.parameters(), lr=hyper_parameters['lr'])\n",
        "loss_fn = nn.MSELoss()\n",
        "scheduler = ExponentialLR(optimizer, gamma=0.9)"
      ]
    },
    {
      "cell_type": "code",
      "execution_count": null,
      "metadata": {},
      "outputs": [],
      "source": [
        "if not test_flag:\n",
        "    train(\n",
        "        num_epochs=hyper_parameters['num_epochs'],\n",
        "        loss_fn=loss_fn,\n",
        "        model=model,\n",
        "        optimizer=optimizer,\n",
        "        scheduler=scheduler,\n",
        "        training_dataloader=loaderTrain,\n",
        "        validation_dataloader=loaderVal,\n",
        "        hyperparams=hyper_parameters,\n",
        "        model_dict = ensemble_model,\n",
        "        complete=hyper_parameters['ensemble']\n",
        "    )\n"
      ]
    },
    {
      "cell_type": "markdown",
      "metadata": {},
      "source": [
        "# Test"
      ]
    },
    {
      "cell_type": "code",
      "execution_count": null,
      "metadata": {},
      "outputs": [],
      "source": [
        "# Need to specify a model.pt file to load! In the directory results that you want to test\n",
        "result_path = '/results/ensemble_batch_256' \n",
        "model_path = prefix + result_path +'/model.pt'\n",
        "\n",
        "# Read hyperparameters\n",
        "with open (prefix + result_path + '/hyperparam.json', 'r') as f:\n",
        "    hyperparams = json.load(f)\n",
        "\n",
        "# Section in which we reinitialize the model for testing depending on the hyperparameters.json and ensemble.json (if present) in the directories of results\n",
        "# Read Ensemble models data (if complete = True)\n",
        "if hyperparams['ensemble'] == True:\n",
        "    # Read Ensemble model parameters and initialize the model\n",
        "    with open (prefix + result_path + '/ensemble.json', 'r') as f:\n",
        "        model_dict = json.load(f)\n",
        "    model = complete_model(hidden_dim=hyperparams['hidden_dim'], input_dim=4, model_dict=model_dict, device=device, mode=hyperparams['mode'], extractor_type=hyperparams['extractor_type']).to(device)\n",
        "# Otherwise create an LSTM only model\n",
        "else:\n",
        "    model = lstm_only(hidden_dim=hyperparams['hidden_dim'], timesteps=hyperparams['timesteps'] ,input_dim=4, output_dim=3).to(device)\n",
        "\n",
        "if test_flag:\n",
        "    test_metrics, test_loss_avg, total_inference_time, inference_time_avg, y_true_list, y_pred_list = test(\n",
        "        model=model,\n",
        "        model_path=model_path,\n",
        "        test_dataloader=loaderTest,\n",
        "        loss_fn=loss_fn,\n",
        "        complete=hyperparams['ensemble']\n",
        "    )\n",
        "print(\"Test metrics:\")\n",
        "print(f\"rmse: {test_metrics['rmse']} , mae: {test_metrics['mae']}, r2: {test_metrics['r2']}\")\n",
        "print(\"Others:\")\n",
        "print(f\"Average Loss: {test_loss_avg}, Total Inference Time (All Dataset): {total_inference_time}, Average Inference Time: {inference_time_avg}\")\n"
      ]
    },
    {
      "cell_type": "code",
      "execution_count": null,
      "metadata": {},
      "outputs": [],
      "source": [
        "path = prefix + result_path  # type ./results/ensemble_batch_256\n",
        "\n",
        "# Load the dictionaries\n",
        "with open (path + '/train_metrics.json', 'r') as f:\n",
        "    train_metrics = json.load(f)\n",
        "with open (path + '/valid_metrics.json', 'r') as f:\n",
        "    valid_metrics = json.load(f)\n",
        "\n",
        "# Initialize a list of epochs [1,2,3, ...] for the plots x-axis\n",
        "epochs = [i for i in range(1, hyper_parameters['num_epochs']+1)]\n",
        "\n",
        "# Compute training loss as the square of rmse for each element because loss = mse\n",
        "# Both for training and validation\n",
        "training_loss = [rmse**2 for rmse in train_metrics['rmse']] \n",
        "valid_loss = [rmse**2 for rmse in valid_metrics['rmse']] \n",
        "\n",
        "plt.plot(epochs, training_loss, label='Training', color='b')\n",
        "plt.plot(epochs, valid_loss, label='Validation', color='r')\n",
        "plt.title('Loss (RMSE^2)')\n",
        "plt.xlabel('Epochs')\n",
        "plt.ylabel('Loss value')\n",
        "plt.legend()\n",
        "\n",
        "plt.tight_layout()  # This helps to prevent overlapping of subplots\n",
        "plt.savefig(path+'/loss')  # Save the figure to the specified path\n",
        "plt.show()"
      ]
    },
    {
      "cell_type": "code",
      "execution_count": null,
      "metadata": {},
      "outputs": [],
      "source": [
        "path = prefix + result_path  # type ./results/ensemble_batch_256\n",
        "\n",
        "# Load the dictionaries\n",
        "with open (path + '/train_metrics.json', 'r') as f:\n",
        "    train_metrics = json.load(f)\n",
        "with open (path + '/valid_metrics.json', 'r') as f:\n",
        "    valid_metrics = json.load(f)\n",
        "\n",
        "# Initialize a list of epochs [1,2,3, ...] for the plots x-axis\n",
        "epochs = [i for i in range(1, hyper_parameters['num_epochs']+1)]\n",
        "\n",
        "plt.plot(epochs, train_metrics['mae'], label='Training', color='b')\n",
        "plt.plot(epochs, valid_metrics['mae'], label='Validation', color='r')\n",
        "plt.title('Mean Absolute Error')\n",
        "plt.xlabel('Epochs')\n",
        "plt.ylabel('MAE value')\n",
        "plt.legend()\n",
        "\n",
        "plt.tight_layout()  # This helps to prevent overlapping of subplots\n",
        "plt.savefig(path + '/mae')  # Save the figure to the specified path\n",
        "plt.show()"
      ]
    },
    {
      "cell_type": "code",
      "execution_count": null,
      "metadata": {},
      "outputs": [],
      "source": [
        "path = prefix + result_path  # type ./results/ensemble_batch_256\n",
        "\n",
        "# Load the dictionaries\n",
        "with open (path + '/train_metrics.json', 'r') as f:\n",
        "    train_metrics = json.load(f)\n",
        "with open (path + '/valid_metrics.json', 'r') as f:\n",
        "    valid_metrics = json.load(f)\n",
        "\n",
        "# Initialize a list of epochs [1,2,3, ...] for the plots x-axis\n",
        "epochs = [i for i in range(1, hyper_parameters['num_epochs']+1)]\n",
        "\n",
        "plt.plot(epochs, train_metrics['r2'], label='Training', color='b')\n",
        "plt.plot(epochs, valid_metrics['r2'], label='Validation', color='r')\n",
        "plt.title('R2 (Coefficient of determination)')\n",
        "plt.xlabel('Epochs')\n",
        "plt.ylabel('R2 value')\n",
        "plt.legend()\n",
        "\n",
        "plt.tight_layout()  # This helps to prevent overlapping of subplots\n",
        "plt.savefig(path + '/r2')  # Save the figure to the specified path\n",
        "plt.show()"
      ]
    },
    {
      "cell_type": "code",
      "execution_count": null,
      "metadata": {},
      "outputs": [],
      "source": [
        "# Create the lists of X1, Y1, Z1 true values to plot\n",
        "x1_true = [x[0] for x in y_true_list]\n",
        "y1_true = [y[1] for y in y_true_list]\n",
        "z1_true = [z[2] for z in y_true_list]\n",
        "\n",
        "# Create the lists of X1, Y1, Z1 predicted values to plot\n",
        "x1_pred = [x[0] for x in y_pred_list]\n",
        "y1_pred = [y[1] for y in y_pred_list]\n",
        "z1_pred = [z[2] for z in y_pred_list]\n",
        "\n",
        "# Create x-axis\n",
        "t = [i for i in range(1, len(y_pred_list)+1)]\n"
      ]
    },
    {
      "cell_type": "code",
      "execution_count": 21,
      "metadata": {},
      "outputs": [
        {
          "data": {
            "image/png": "[encoded data removed]",
            "text/plain": [
              "<Figure size 640x480 with 1 Axes>"
            ]
          },
          "metadata": {},
          "output_type": "display_data"
        }
      ],
      "source": [
        "# Initialize a list of epochs [1,2,3, ...] for the plots x-axis\n",
        "t = [i for i in range(1, len(Y[:,0])+1)]\n",
        "plt.plot(t, Y[:,0], label='Ground Truth', color='b')\n",
        "#plt.plot(t, x1_pred, label='Prediction', color='r')\n",
        "plt.title('X1 Sequence')\n",
        "plt.xlabel('Time')\n",
        "plt.ylabel('X1')\n",
        "plt.legend()\n",
        "\n",
        "plt.tight_layout()  # This helps to prevent overlapping of subplots\n",
        "#plt.savefig(path + '/r2')  # Save the figure to the specified path\n",
        "plt.show()"
      ]
    },
    {
      "cell_type": "code",
      "execution_count": null,
      "metadata": {},
      "outputs": [],
      "source": [
        "# Initialize a list of epochs [1,2,3, ...] for the plots x-axis\n",
        "\n",
        "plt.plot(t, y1_true, label='Ground Truth', color='b')\n",
        "plt.plot(t, y1_pred, label='Prediction', color='r')\n",
        "plt.title('Y1 Sequence')\n",
        "plt.xlabel('Time')\n",
        "plt.ylabel('Y1')\n",
        "plt.legend()\n",
        "\n",
        "plt.tight_layout()  # This helps to prevent overlapping of subplots\n",
        "#plt.savefig(path + '/r2')  # Save the figure to the specified path\n",
        "plt.show()"
      ]
    },
    {
      "cell_type": "code",
      "execution_count": null,
      "metadata": {},
      "outputs": [],
      "source": [
        "# Initialize a list of epochs [1,2,3, ...] for the plots x-axis\n",
        "\n",
        "plt.plot(t, z1_true, label='Ground Truth', color='b')\n",
        "plt.plot(t, z1_pred, label='Prediction', color='r')\n",
        "plt.title('Z1 Sequence')\n",
        "plt.xlabel('Time')\n",
        "plt.ylabel('Z1')\n",
        "plt.legend()\n",
        "\n",
        "plt.tight_layout()  # This helps to prevent overlapping of subplots\n",
        "#plt.savefig(path + '/r2')  # Save the figure to the specified path\n",
        "plt.show()"
      ]
    }
  ],
  "metadata": {
    "colab": {
      "provenance": []
    },
    "kernelspec": {
      "display_name": ".venv",
      "language": "python",
      "name": "python3"
    },
    "language_info": {
      "codemirror_mode": {
        "name": "ipython",
        "version": 3
      },
      "file_extension": ".py",
      "mimetype": "text/x-python",
      "name": "python",
      "nbconvert_exporter": "python",
      "pygments_lexer": "ipython3",
      "version": "3.13.1"
    }
  },
  "nbformat": 4,
  "nbformat_minor": 0
}
